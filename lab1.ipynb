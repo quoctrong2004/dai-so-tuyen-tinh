{
 "cells": [
  {
   "cell_type": "markdown",
   "id": "916968be",
   "metadata": {},
   "source": [
    "### 1.2.1. Các phép xử lý với danh sách"
   ]
  },
  {
   "cell_type": "code",
   "execution_count": null,
   "id": "03ed9f9b",
   "metadata": {},
   "outputs": [
    {
     "name": "stdout",
     "output_type": "stream",
     "text": [
      "[1.0, 3.0, 5.0, 7.0]\n"
     ]
    }
   ],
   "source": [
    "danhsach1 = [1., 3.]\n",
    "danhsach2 = [5., 7.]\n",
    "danhsach = danhsach1 + danhsach2\n",
    "\n",
    "print(danhsach)"
   ]
  },
  {
   "cell_type": "code",
   "execution_count": null,
   "id": "597aa416",
   "metadata": {},
   "outputs": [
    {
     "name": "stdout",
     "output_type": "stream",
     "text": [
      "[1.0, 3.0, 5.0, 7.0, 1.0, 3.0, 5.0, 7.0]\n"
     ]
    }
   ],
   "source": [
    "danhsach_gapdoi = 2 * danhsach \n",
    "\n",
    "print(danhsach_gapdoi)"
   ]
  },
  {
   "cell_type": "code",
   "execution_count": null,
   "id": "4b81022a",
   "metadata": {},
   "outputs": [
    {
     "data": {
      "text/plain": [
       "[1.0, 3.0, 5.0, 7.0, 1.0, 3.0, 5.0, 7.0]"
      ]
     },
     "execution_count": 5,
     "metadata": {},
     "output_type": "execute_result"
    }
   ],
   "source": [
    "danhsach * 2"
   ]
  },
  {
   "cell_type": "code",
   "execution_count": null,
   "id": "6c6783dd",
   "metadata": {},
   "outputs": [
    {
     "ename": "TypeError",
     "evalue": "unsupported operand type(s) for /: 'list' and 'int'",
     "output_type": "error",
     "traceback": [
      "\u001b[1;31m---------------------------------------------------------------------------\u001b[0m",
      "\u001b[1;31mTypeError\u001b[0m                                 Traceback (most recent call last)",
      "Cell \u001b[1;32mIn[6], line 1\u001b[0m\n\u001b[1;32m----> 1\u001b[0m \u001b[43mdanhsach\u001b[49m\u001b[43m \u001b[49m\u001b[38;5;241;43m/\u001b[39;49m\u001b[43m \u001b[49m\u001b[38;5;241;43m2\u001b[39;49m \n",
      "\u001b[1;31mTypeError\u001b[0m: unsupported operand type(s) for /: 'list' and 'int'"
     ]
    }
   ],
   "source": [
    "danhsach / 2 "
   ]
  },
  {
   "cell_type": "markdown",
   "id": "94c184e0",
   "metadata": {},
   "source": [
    "- Ghép các danh sách bằng lệnh zip:\n",
    "- Giả sử có 1 bạn học 4 môn với thứ tự các môn và điểm số như 3 danh sách bên dưới, chúng ta cần ghép cặp từng môn học "
   ]
  },
  {
   "cell_type": "code",
   "execution_count": null,
   "id": "ae3d7185",
   "metadata": {},
   "outputs": [
    {
     "ename": "ValueError",
     "evalue": "not enough values to unpack (expected 3, got 0)",
     "output_type": "error",
     "traceback": [
      "\u001b[1;31m---------------------------------------------------------------------------\u001b[0m",
      "\u001b[1;31mValueError\u001b[0m                                Traceback (most recent call last)",
      "Cell \u001b[1;32mIn[16], line 9\u001b[0m\n\u001b[0;32m      6\u001b[0m tap_hop \u001b[38;5;241m=\u001b[39m \u001b[38;5;28mset\u001b[39m(anh_xa) \u001b[38;5;66;03m# chuyển thành dạng tập hợp\u001b[39;00m\n\u001b[0;32m      7\u001b[0m tap_hop \n\u001b[1;32m----> 9\u001b[0m lay_TT, lay_monhoc , lay_diem \u001b[38;5;241m=\u001b[39m \u001b[38;5;28mzip\u001b[39m(\u001b[38;5;241m*\u001b[39manh_xa)\n\u001b[0;32m     10\u001b[0m lay_monhoc\n\u001b[0;32m     12\u001b[0m \u001b[38;5;28mprint\u001b[39m(tap_hop)\n",
      "\u001b[1;31mValueError\u001b[0m: not enough values to unpack (expected 3, got 0)"
     ]
    }
   ],
   "source": [
    "mon_hoc = [\"ToanCC\", \"DSTT\", \"ToanRR\", \"LaptrinhCB\"]\n",
    "thu_tu = [2, 3, 4, 1]\n",
    "diem_so = [10, 9, 8, 7]\n",
    "anh_xa = zip(thu_tu, mon_hoc, diem_so)\n",
    "\n",
    "tap_hop = set(anh_xa) # chuyển thành dạng tập hợp\n",
    "tap_hop \n",
    "\n",
    "lay_TT, lay_monhoc , lay_diem = zip(*anh_xa)\n",
    "lay_monhoc\n",
    "\n",
    "print(tap_hop)\n",
    "print(lay_TT)\n",
    "print(lay_monhoc)"
   ]
  },
  {
   "cell_type": "markdown",
   "id": "386bc185",
   "metadata": {},
   "source": [
    "### Xây dựng danh sách: Bên cạnh những cách khai báo danh sách thông thường như: khai báo\n",
    "### sẵn hoặc khai báo list rỗng rồi bổ sung phần tử bằng lệnh append, cơ chế sinh tập hợp list\n",
    "### trong Python còn có thể thực hiện bằng các cách sau: "
   ]
  },
  {
   "cell_type": "code",
   "execution_count": null,
   "id": "65d85d5d",
   "metadata": {},
   "outputs": [
    {
     "data": {
      "text/plain": [
       "[0, 1, 2, 3, 5, 6, 7, 8, 9, 15, 16, 17, 18, 19]"
      ]
     },
     "execution_count": 17,
     "metadata": {},
     "output_type": "execute_result"
    }
   ],
   "source": [
    "import itertools\n",
    "tap_sinh = list(itertools.chain(range(4), range(5,10), range(15,20)))\n",
    "tap_sinh\n"
   ]
  },
  {
   "cell_type": "code",
   "execution_count": null,
   "id": "14ca5cc3",
   "metadata": {},
   "outputs": [
    {
     "data": {
      "text/plain": [
       "[(0, 7, 10), (1, 8, 9), (2, 9, 8), (3, 10, 7)]"
      ]
     },
     "execution_count": 18,
     "metadata": {},
     "output_type": "execute_result"
    }
   ],
   "source": [
    "list(zip(range(4), range(7, 12), reversed(range(11))))"
   ]
  },
  {
   "cell_type": "markdown",
   "id": "1e029ce2",
   "metadata": {},
   "source": [
    "### 1.2.2. Lệnh thực thi một tập tin python "
   ]
  },
  {
   "cell_type": "code",
   "execution_count": null,
   "id": "61346ed9",
   "metadata": {},
   "outputs": [
    {
     "name": "stdout",
     "output_type": "stream",
     "text": [
      "[100, 200, 300] [100, 200, 300] [100, 200, 300]\n"
     ]
    }
   ],
   "source": [
    "mylist = [100, 200, 300]\n",
    "a = b = c = mylist\n",
    "print(a, b, c)\n",
    "\n",
    "a = b = c = 0\n",
    "mylist = []\n"
   ]
  },
  {
   "cell_type": "markdown",
   "id": "79c09948",
   "metadata": {},
   "source": [
    "### 2.1. Định nghĩa Symbol và các phép toán hình thức (symbolic) "
   ]
  },
  {
   "cell_type": "code",
   "execution_count": null,
   "id": "6d3002bd",
   "metadata": {},
   "outputs": [
    {
     "data": {
      "text/latex": [
       "$\\displaystyle 3 x + 2$"
      ],
      "text/plain": [
       "3*x + 2"
      ]
     },
     "execution_count": 27,
     "metadata": {},
     "output_type": "execute_result"
    }
   ],
   "source": [
    "from sympy import Symbol\n",
    "x = Symbol('x')         # Khởi tạo biến ký hiệu x\n",
    "f = x + x + x + 2       # Biểu thức: x + x + x + 2\n",
    "f\n"
   ]
  },
  {
   "cell_type": "code",
   "execution_count": null,
   "id": "b79bf06d",
   "metadata": {},
   "outputs": [
    {
     "name": "stdout",
     "output_type": "stream",
     "text": [
      "3*Chim + 7*Noi\n"
     ]
    }
   ],
   "source": [
    "a = Symbol('Noi')\n",
    "b = Symbol('Chim')\n",
    "print(3*b + 7*a)"
   ]
  },
  {
   "cell_type": "code",
   "execution_count": null,
   "id": "b1d6e45d",
   "metadata": {},
   "outputs": [
    {
     "data": {
      "text/plain": [
       "'Noi'"
      ]
     },
     "execution_count": 32,
     "metadata": {},
     "output_type": "execute_result"
    }
   ],
   "source": [
    "a.name"
   ]
  },
  {
   "cell_type": "code",
   "execution_count": null,
   "id": "ab9f1a96",
   "metadata": {},
   "outputs": [
    {
     "data": {
      "text/plain": [
       "'Chim'"
      ]
     },
     "execution_count": 33,
     "metadata": {},
     "output_type": "execute_result"
    }
   ],
   "source": [
    "b.name"
   ]
  },
  {
   "cell_type": "markdown",
   "id": "2e6900ba",
   "metadata": {},
   "source": [
    "### Một khi biểu tượng (symbol) được định nghĩa, chúng ta có thể sử dụng các phép xử lý toán học\n",
    "### trên nó, như +,-,*,/ và ** (mũ). Ví dụ: "
   ]
  },
  {
   "cell_type": "code",
   "execution_count": 3,
   "id": "62c19253",
   "metadata": {},
   "outputs": [
    {
     "data": {
      "text/latex": [
       "$\\displaystyle 2 x y$"
      ],
      "text/plain": [
       "2*x*y"
      ]
     },
     "execution_count": 3,
     "metadata": {},
     "output_type": "execute_result"
    }
   ],
   "source": [
    "from sympy import Symbol\n",
    "x = Symbol('x')\n",
    "y = Symbol('y')\n",
    "s = x*y + y*x\n",
    "s "
   ]
  },
  {
   "cell_type": "code",
   "execution_count": 8,
   "id": "c1e4ea69",
   "metadata": {},
   "outputs": [
    {
     "data": {
      "text/latex": [
       "$\\displaystyle 3 x^{2}$"
      ],
      "text/plain": [
       "3*x**2"
      ]
     },
     "execution_count": 8,
     "metadata": {},
     "output_type": "execute_result"
    }
   ],
   "source": [
    "p = x*(x+2*x)\n",
    "p"
   ]
  },
  {
   "cell_type": "markdown",
   "id": "9b538ba6",
   "metadata": {},
   "source": [
    "### SymPy sẽ tự động tạo các phép tính toán cộng và nhân. Tuy vậy, với các phép toán phức tạp hơn\n",
    "### hoặc không mang đặc trưng, các công thức sẽ không thay đổi. Ví dụ: "
   ]
  },
  {
   "cell_type": "code",
   "execution_count": 9,
   "id": "4c1ae821",
   "metadata": {},
   "outputs": [
    {
     "data": {
      "text/latex": [
       "$\\displaystyle \\left(x - 3\\right) \\left(x + 2\\right) + \\left(x + 2\\right) \\left(y + 3\\right)$"
      ],
      "text/plain": [
       "(x - 3)*(x + 2) + (x + 2)*(y + 3)"
      ]
     },
     "execution_count": 9,
     "metadata": {},
     "output_type": "execute_result"
    }
   ],
   "source": [
    "p = (x+2)*(y+3)\n",
    "p\n",
    "(x + 2)*(y + 3)\n",
    "p = (x+2)*(y+3) + (x+2)*(x-3)\n",
    "p"
   ]
  },
  {
   "cell_type": "markdown",
   "id": "ec7b8acd",
   "metadata": {},
   "source": [
    "### Mặc dù chúng ta mong muốn biểu thức được SymPy tính toán, tuy vậy, biểu thức sẽ giống như\n",
    "### những gì chúng ta nhập vào. SymPy tự động đơn giản hóa biểu thức khi chúng thực sự là đơn\n",
    "### giản. Ví dụ:"
   ]
  },
  {
   "cell_type": "code",
   "execution_count": 10,
   "id": "5da51eb2",
   "metadata": {},
   "outputs": [
    {
     "data": {
      "text/latex": [
       "$\\displaystyle 0$"
      ],
      "text/plain": [
       "0"
      ]
     },
     "execution_count": 10,
     "metadata": {},
     "output_type": "execute_result"
    }
   ],
   "source": [
    "p = x*(-x+2*x-x)\n",
    "p"
   ]
  },
  {
   "cell_type": "markdown",
   "id": "6f87c4d9",
   "metadata": {},
   "source": [
    "### Do đó, đối với các biểu thức phức tạp, chúng ta phải có lệnh cụ thể. Ví dụ: lệnh expand() để triển\n",
    "### khai biểu thức, giả định p = (x+2)*(y+3): "
   ]
  },
  {
   "cell_type": "code",
   "execution_count": 11,
   "id": "0bae258a",
   "metadata": {},
   "outputs": [
    {
     "data": {
      "text/latex": [
       "$\\displaystyle x y + 3 x + 2 y + 6$"
      ],
      "text/plain": [
       "x*y + 3*x + 2*y + 6"
      ]
     },
     "execution_count": 11,
     "metadata": {},
     "output_type": "execute_result"
    }
   ],
   "source": [
    "p = (x+2)*(y+3)\n",
    "p.expand() "
   ]
  },
  {
   "cell_type": "markdown",
   "id": "16c3d78a",
   "metadata": {},
   "source": [
    "### 2.2.1. Đặt nhân tử chung và khai triển biểu thức"
   ]
  },
  {
   "cell_type": "markdown",
   "id": "83012358",
   "metadata": {},
   "source": [
    "Hàm factor() được sử dụng khi chúng ta import thư viện factor từ gói sympy"
   ]
  },
  {
   "cell_type": "code",
   "execution_count": 12,
   "id": "c1d954ac",
   "metadata": {},
   "outputs": [
    {
     "data": {
      "text/latex": [
       "$\\displaystyle \\left(x - y\\right) \\left(x^{2} + x y + y^{2}\\right)$"
      ],
      "text/plain": [
       "(x - y)*(x**2 + x*y + y**2)"
      ]
     },
     "execution_count": 12,
     "metadata": {},
     "output_type": "execute_result"
    }
   ],
   "source": [
    "from sympy import factor\n",
    "bieuthuc = x**3 - y**3\n",
    "factor(bieuthuc) "
   ]
  },
  {
   "cell_type": "markdown",
   "id": "26628545",
   "metadata": {},
   "source": [
    "### Tương tự, để sử dụng hàm expand, chúng ta phải import thư viện expand từ gói sympy \n"
   ]
  },
  {
   "cell_type": "code",
   "execution_count": 13,
   "id": "5eb2f864",
   "metadata": {},
   "outputs": [
    {
     "data": {
      "text/latex": [
       "$\\displaystyle x^{3} - y^{3}$"
      ],
      "text/plain": [
       "x**3 - y**3"
      ]
     },
     "execution_count": 13,
     "metadata": {},
     "output_type": "execute_result"
    }
   ],
   "source": [
    "from sympy import expand\n",
    "bieuthuc = (x - y)*(x**2 + x*y + y**2)\n",
    "expand(bieuthuc) "
   ]
  },
  {
   "cell_type": "markdown",
   "id": "627b977c",
   "metadata": {},
   "source": [
    "### 2.2.3. Thay thế giá trị "
   ]
  },
  {
   "cell_type": "markdown",
   "id": "c728d298",
   "metadata": {},
   "source": [
    "Phần này giới thiệu về cách thức sử dụng SymPy thay thế giá trị vào biểu thức đại số. Khi thay\n",
    "thế giá trị của các biến, chúng ta có thể tính được giá trị của biểu thức.\n",
    "Ví dụ với biểu thức \u0001\n",
    "\u0005 − \u0001\b + \b\u0005\n",
    ", được định nghĩa bằng Sympy như sau:"
   ]
  },
  {
   "cell_type": "code",
   "execution_count": 14,
   "id": "1c22826a",
   "metadata": {},
   "outputs": [
    {
     "data": {
      "text/latex": [
       "$\\displaystyle x^{2} - x y + y^{2}$"
      ],
      "text/plain": [
       "x**2 - x*y + y**2"
      ]
     },
     "execution_count": 14,
     "metadata": {},
     "output_type": "execute_result"
    }
   ],
   "source": [
    "from sympy import Symbol\n",
    "x = Symbol('x')\n",
    "y = Symbol('y')\n",
    "bieuthuc = x*x - x*y + y*y\n",
    "bieuthuc "
   ]
  },
  {
   "cell_type": "markdown",
   "id": "b9227b20",
   "metadata": {},
   "source": [
    "### Sau đó, chúng ta có thể tính giá trị biểu thức bằng cách thay thế cụ thể giá trị của x và y. Ví dụ:\n",
    "### chúng ta thay x = 3 và y = 2 vào biểu thức trên bằng lệnh subs() như sau: "
   ]
  },
  {
   "cell_type": "code",
   "execution_count": null,
   "id": "b75fa4f5",
   "metadata": {},
   "outputs": [
    {
     "data": {
      "text/latex": [
       "$\\displaystyle x$"
      ],
      "text/plain": [
       "x"
      ]
     },
     "execution_count": 17,
     "metadata": {},
     "output_type": "execute_result"
    }
   ],
   "source": [
    "giatri = bieuthuc.subs({x:3, y:2})\n",
    "giatri"
   ]
  },
  {
   "cell_type": "markdown",
   "id": "f426a6e3",
   "metadata": {},
   "source": [
    "### Tham số trong hàm subs() là liệt kê các biến sẽ được thay thế và giá trị thay thế dưới dạng cấu\n",
    "### trúc từ điển (dict) của Python. Tuy nhiên, lưu ý rằng, sau khi thay thế bằng lệnh subs(), giá trị x\n",
    "### và y vẫn không thay đổi do phép thay thế chỉ thay thế biến x và y trong biểu thức chứ không phải\n",
    "### thay thế giá trị của x và y toàn cục. Cụ thể: "
   ]
  },
  {
   "cell_type": "code",
   "execution_count": 21,
   "id": "1c0079ac",
   "metadata": {},
   "outputs": [
    {
     "data": {
      "text/latex": [
       "$\\displaystyle x$"
      ],
      "text/plain": [
       "x"
      ]
     },
     "execution_count": 21,
     "metadata": {},
     "output_type": "execute_result"
    }
   ],
   "source": [
    "giatri = bieuthuc.subs({x:3, y:2})\n",
    "x"
   ]
  },
  {
   "cell_type": "code",
   "execution_count": 22,
   "id": "6359bb0d",
   "metadata": {},
   "outputs": [
    {
     "data": {
      "text/latex": [
       "$\\displaystyle y$"
      ],
      "text/plain": [
       "y"
      ]
     },
     "execution_count": 22,
     "metadata": {},
     "output_type": "execute_result"
    }
   ],
   "source": [
    "giatri = bieuthuc.subs({x:3, y:2})\n",
    "y"
   ]
  },
  {
   "cell_type": "markdown",
   "id": "da30dd6e",
   "metadata": {},
   "source": [
    "```Thực hành``` : Sinh viên thực hành 3 tình huống sau:"
   ]
  },
  {
   "cell_type": "markdown",
   "id": "9c40fce1",
   "metadata": {},
   "source": [
    "**Tình huống 1** : Xác định theo thứ tự x=3 và y = x"
   ]
  },
  {
   "cell_type": "code",
   "execution_count": 23,
   "id": "b5e2a5e5",
   "metadata": {},
   "outputs": [
    {
     "data": {
      "text/latex": [
       "$\\displaystyle x^{2} - 3 x + 9$"
      ],
      "text/plain": [
       "x**2 - 3*x + 9"
      ]
     },
     "execution_count": 23,
     "metadata": {},
     "output_type": "execute_result"
    }
   ],
   "source": [
    "giatri = bieuthuc.subs({x:3, y:x})\n",
    "giatri"
   ]
  },
  {
   "cell_type": "markdown",
   "id": "2710b189",
   "metadata": {},
   "source": [
    "**Tình huống 2**: Xác định theo thứ tự: x=y và y = 3 "
   ]
  },
  {
   "cell_type": "code",
   "execution_count": 24,
   "id": "70369a7a",
   "metadata": {},
   "outputs": [
    {
     "data": {
      "text/latex": [
       "$\\displaystyle 9$"
      ],
      "text/plain": [
       "9"
      ]
     },
     "execution_count": 24,
     "metadata": {},
     "output_type": "execute_result"
    }
   ],
   "source": [
    "giatri = bieuthuc.subs({x:y, y:3})\n",
    "giatri "
   ]
  },
  {
   "cell_type": "markdown",
   "id": "8f6ac005",
   "metadata": {},
   "source": [
    "**Tình huống 3**: Xác định y=x và sau đó tính x = 3"
   ]
  },
  {
   "cell_type": "code",
   "execution_count": 25,
   "id": "d43ae1d3",
   "metadata": {},
   "outputs": [
    {
     "data": {
      "text/latex": [
       "$\\displaystyle 9$"
      ],
      "text/plain": [
       "9"
      ]
     },
     "execution_count": 25,
     "metadata": {},
     "output_type": "execute_result"
    }
   ],
   "source": [
    "giatri = bieuthuc.subs({y:x}).subs({x:3})\n",
    "giatri"
   ]
  },
  {
   "cell_type": "markdown",
   "id": "63fa325c",
   "metadata": {},
   "source": [
    "### Sau khi thay thế, chúng ta có thể sử dụng lệnh simplify() để làm “gọn lại” biểu thức. Lệnh\n",
    "### simplify() nằm trong lớp simplify của thư viện sympy, do đó, chúng ta phải import vào. Ví dụ:"
   ]
  },
  {
   "cell_type": "code",
   "execution_count": 26,
   "id": "528d0a64",
   "metadata": {},
   "outputs": [
    {
     "data": {
      "text/latex": [
       "$\\displaystyle y^{2} - y \\left(1 - y\\right) + \\left(1 - y\\right)^{2}$"
      ],
      "text/plain": [
       "y**2 - y*(1 - y) + (1 - y)**2"
      ]
     },
     "execution_count": 26,
     "metadata": {},
     "output_type": "execute_result"
    }
   ],
   "source": [
    "from sympy import Symbol\n",
    "x = Symbol('x')\n",
    "y = Symbol('y')\n",
    "bieuthuc = x*x - x*y + y*y\n",
    "bieuthuc\n",
    "x**2 - x*y + y**2\n",
    "bieuthuc_moi = bieuthuc.subs({x:1-y}) #  x được thay thế bằng (1-y)\n",
    "bieuthuc_moi"
   ]
  },
  {
   "cell_type": "code",
   "execution_count": 27,
   "id": "fa127666",
   "metadata": {},
   "outputs": [
    {
     "data": {
      "text/latex": [
       "$\\displaystyle 3 y^{2} - 3 y + 1$"
      ],
      "text/plain": [
       "3*y**2 - 3*y + 1"
      ]
     },
     "execution_count": 27,
     "metadata": {},
     "output_type": "execute_result"
    }
   ],
   "source": [
    "from sympy import simplify\n",
    "dongian = simplify(bieuthuc_moi)\n",
    "dongian"
   ]
  },
  {
   "cell_type": "markdown",
   "id": "ed95186f",
   "metadata": {},
   "source": [
    "### Hàm simplify() có thể đơn giản hóa các biểu thức phức tạp như các biểu thức về logarit và các\n",
    "### biểu thức lượng giác. Ví dụ:"
   ]
  },
  {
   "cell_type": "code",
   "execution_count": 28,
   "id": "ebbdbc9e",
   "metadata": {},
   "outputs": [
    {
     "data": {
      "text/latex": [
       "$\\displaystyle \\sin{\\left(x + y \\right)}$"
      ],
      "text/plain": [
       "sin(x + y)"
      ]
     },
     "execution_count": 28,
     "metadata": {},
     "output_type": "execute_result"
    }
   ],
   "source": [
    "from sympy import Symbol\n",
    "from sympy import sin, cos\n",
    "x = Symbol('x')\n",
    "y = Symbol('y')\n",
    "bt = sin(x)*cos(y) + cos(x)*sin(y)\n",
    "bt_moi = simplify(bt)\n",
    "bt_moi "
   ]
  },
  {
   "cell_type": "markdown",
   "id": "717cfe61",
   "metadata": {},
   "source": [
    "### 3.1. Một số lệnh cơ bản numpy xử lý vector"
   ]
  },
  {
   "cell_type": "markdown",
   "id": "dcc5bb74",
   "metadata": {},
   "source": [
    "Khác với kiểu danh sách (list) ở Python chuẩn, numpy hỗ trợ việc định nghĩa một vector theo\n",
    "nghĩa đại số:"
   ]
  },
  {
   "cell_type": "code",
   "execution_count": 31,
   "id": "e18385be",
   "metadata": {},
   "outputs": [
    {
     "data": {
      "text/plain": [
       "array([ 2.,  6., 10.])"
      ]
     },
     "execution_count": 31,
     "metadata": {},
     "output_type": "execute_result"
    }
   ],
   "source": [
    "import numpy as np\n",
    "vec1 = np.array([1., 3., 5.])\n",
    "vec1 * 2 "
   ]
  },
  {
   "cell_type": "code",
   "execution_count": 33,
   "id": "278f91b9",
   "metadata": {},
   "outputs": [
    {
     "data": {
      "text/plain": [
       "array([ 1.,  9., 25.])"
      ]
     },
     "execution_count": 33,
     "metadata": {},
     "output_type": "execute_result"
    }
   ],
   "source": [
    "vec1 * vec1 # Phép nhân từng phần tử tương ứng với nhau (phép nhân Hadamard hoặc nhân phần tử - element-wise multiplication)."
   ]
  },
  {
   "cell_type": "code",
   "execution_count": 34,
   "id": "4706ab60",
   "metadata": {},
   "outputs": [
    {
     "data": {
      "text/plain": [
       "array([0.5, 1.5, 2.5])"
      ]
     },
     "execution_count": 34,
     "metadata": {},
     "output_type": "execute_result"
    }
   ],
   "source": [
    "vec1 / 2"
   ]
  },
  {
   "cell_type": "code",
   "execution_count": 35,
   "id": "5ead3837",
   "metadata": {},
   "outputs": [
    {
     "data": {
      "text/plain": [
       "array([ 2.,  6., 10.])"
      ]
     },
     "execution_count": 35,
     "metadata": {},
     "output_type": "execute_result"
    }
   ],
   "source": [
    "vec1 + vec1\n"
   ]
  },
  {
   "cell_type": "code",
   "execution_count": null,
   "id": "90a7b2f7",
   "metadata": {},
   "outputs": [
    {
     "ename": "ValueError",
     "evalue": "operands could not be broadcast together with shapes (3,) (2,) ",
     "output_type": "error",
     "traceback": [
      "\u001b[1;31m---------------------------------------------------------------------------\u001b[0m",
      "\u001b[1;31mValueError\u001b[0m                                Traceback (most recent call last)",
      "Cell \u001b[1;32mIn[37], line 2\u001b[0m\n\u001b[0;32m      1\u001b[0m vec2 \u001b[38;5;241m=\u001b[39m np\u001b[38;5;241m.\u001b[39marray([\u001b[38;5;241m2.\u001b[39m, \u001b[38;5;241m4.\u001b[39m])\n\u001b[1;32m----> 2\u001b[0m \u001b[43mvec1\u001b[49m\u001b[43m \u001b[49m\u001b[38;5;241;43m+\u001b[39;49m\u001b[43m \u001b[49m\u001b[43mvec2\u001b[49m\n",
      "\u001b[1;31mValueError\u001b[0m: operands could not be broadcast together with shapes (3,) (2,) "
     ]
    }
   ],
   "source": [
    "vec2 = np.array([2., 4.])\n",
    "vec1 + vec2"
   ]
  },
  {
   "cell_type": "markdown",
   "id": "d136a460",
   "metadata": {},
   "source": [
    "*Phép cộng vector trong numpy yêu cầu hai vector phải cùng kích thước hoặc có thể broadcast được.*\n",
    "\n",
    "*Ở đây, kích thước khác nhau, không thể broadcast nên sẽ báo lỗi*"
   ]
  },
  {
   "cell_type": "code",
   "execution_count": 40,
   "id": "9af271f4",
   "metadata": {},
   "outputs": [
    {
     "data": {
      "text/plain": [
       "array([ 3.,  7., 11.])"
      ]
     },
     "execution_count": 40,
     "metadata": {},
     "output_type": "execute_result"
    }
   ],
   "source": [
    "vec3 = np.array([2., 4., 6.])\n",
    "vec1 + vec3 "
   ]
  },
  {
   "cell_type": "code",
   "execution_count": 41,
   "id": "42bd1067",
   "metadata": {},
   "outputs": [
    {
     "data": {
      "text/plain": [
       "array([0.5       , 0.75      , 0.83333333])"
      ]
     },
     "execution_count": 41,
     "metadata": {},
     "output_type": "execute_result"
    }
   ],
   "source": [
    "vec1 / vec3 "
   ]
  },
  {
   "cell_type": "code",
   "execution_count": 42,
   "id": "3474a200",
   "metadata": {},
   "outputs": [
    {
     "data": {
      "text/plain": [
       "array([ 2., 12., 30.])"
      ]
     },
     "execution_count": 42,
     "metadata": {},
     "output_type": "execute_result"
    }
   ],
   "source": [
    "vec1 * vec3 "
   ]
  },
  {
   "cell_type": "code",
   "execution_count": 43,
   "id": "245c8d23",
   "metadata": {},
   "outputs": [
    {
     "data": {
      "text/plain": [
       "array([12., 26., 40.])"
      ]
     },
     "execution_count": 43,
     "metadata": {},
     "output_type": "execute_result"
    }
   ],
   "source": [
    "2* vec1 + 5* vec3 "
   ]
  },
  {
   "cell_type": "markdown",
   "id": "8686887a",
   "metadata": {},
   "source": [
    "### Lưu ý:\n",
    "### Trong numpy, kiểu dữ liệu vector có tên là array là kiểu dữ liệu có kích thước không thay đổi và\n",
    "### chỉ 1 kiểu dữ liệu cho toàn bộ vector. Tuy vậy, một số nét tương đồng giữa kiểu dữ liệu list trong\n",
    "### python và vector (array) trong Python là:\n",
    "- Truy xuất đến phần tử của vector: "
   ]
  },
  {
   "cell_type": "code",
   "execution_count": 48,
   "id": "6acfe665",
   "metadata": {},
   "outputs": [
    {
     "data": {
      "text/plain": [
       "6.0"
      ]
     },
     "execution_count": 48,
     "metadata": {},
     "output_type": "execute_result"
    }
   ],
   "source": [
    "vec3[2] "
   ]
  },
  {
   "cell_type": "markdown",
   "id": "91bbc633",
   "metadata": {},
   "source": [
    "- Tạo vector thông qua câu lệnh linspace(phần tử đầu, phần tử cuối, số lượng phần tử): \n"
   ]
  },
  {
   "cell_type": "code",
   "execution_count": 49,
   "id": "c0ab962b",
   "metadata": {},
   "outputs": [
    {
     "data": {
      "text/plain": [
       "array([ 0.,  5., 10., 15., 20.])"
      ]
     },
     "execution_count": 49,
     "metadata": {},
     "output_type": "execute_result"
    }
   ],
   "source": [
    "vec4 = np.linspace(0, 20, 5)\n",
    "vec4 "
   ]
  },
  {
   "cell_type": "markdown",
   "id": "07459c3f",
   "metadata": {},
   "source": [
    "### Ngoài ra, cách thức để tạo nhanh các vector như sau:\n",
    "- Tạo các vector toàn 0:"
   ]
  },
  {
   "cell_type": "code",
   "execution_count": 54,
   "id": "af1504da",
   "metadata": {},
   "outputs": [
    {
     "data": {
      "text/plain": [
       "array([0., 0., 0., 0., 0.])"
      ]
     },
     "execution_count": 54,
     "metadata": {},
     "output_type": "execute_result"
    }
   ],
   "source": [
    "vec5 = np.zeros(5)\n",
    "vec5"
   ]
  },
  {
   "cell_type": "markdown",
   "id": "d3331cbd",
   "metadata": {},
   "source": [
    "- Tạo các vector toàn 1: "
   ]
  },
  {
   "cell_type": "code",
   "execution_count": 55,
   "id": "f2cc9746",
   "metadata": {},
   "outputs": [
    {
     "data": {
      "text/plain": [
       "array([1., 1., 1., 1., 1.])"
      ]
     },
     "execution_count": 55,
     "metadata": {},
     "output_type": "execute_result"
    }
   ],
   "source": [
    "vec6 = np.ones(5)\n",
    "vec6"
   ]
  },
  {
   "cell_type": "markdown",
   "id": "d5614599",
   "metadata": {},
   "source": [
    "- Tạo vector ảo (giá trị rỗng): "
   ]
  },
  {
   "cell_type": "code",
   "execution_count": 61,
   "id": "2d611c58",
   "metadata": {},
   "outputs": [
    {
     "data": {
      "text/plain": [
       "array([1., 1., 1., 1., 1.])"
      ]
     },
     "execution_count": 61,
     "metadata": {},
     "output_type": "execute_result"
    }
   ],
   "source": [
    "vec7 = np.empty(5)\n",
    "vec7"
   ]
  },
  {
   "cell_type": "markdown",
   "id": "5f15f7b5",
   "metadata": {},
   "source": [
    "- Tạo vector các giá trị ngẫu nhiên từ 0 đến 1: "
   ]
  },
  {
   "cell_type": "code",
   "execution_count": null,
   "id": "1574be09",
   "metadata": {},
   "outputs": [
    {
     "data": {
      "text/plain": [
       "array([0.03165229, 0.17503633, 0.84852351, 0.27250362, 0.85124314])"
      ]
     },
     "execution_count": 65,
     "metadata": {},
     "output_type": "execute_result"
    }
   ],
   "source": [
    "np.random.random(5) # do lệnh np.rand(5) lỗi"
   ]
  },
  {
   "cell_type": "markdown",
   "id": "9abf40dc",
   "metadata": {},
   "source": [
    "**Các lệnh xử lý:**\n",
    "*Các lệnh dưới đây sử dụng lệnh khai báo vector v như sau:*"
   ]
  },
  {
   "cell_type": "code",
   "execution_count": 66,
   "id": "b0e86ea5",
   "metadata": {},
   "outputs": [],
   "source": [
    "v = np.array([1., 3., 5.]) "
   ]
  },
  {
   "cell_type": "markdown",
   "id": "957d5788",
   "metadata": {},
   "source": [
    "- Lệnh lấy tổng các thành phần của vector:"
   ]
  },
  {
   "cell_type": "code",
   "execution_count": 67,
   "id": "8e65bdf6",
   "metadata": {},
   "outputs": [
    {
     "data": {
      "text/plain": [
       "9.0"
      ]
     },
     "execution_count": 67,
     "metadata": {},
     "output_type": "execute_result"
    }
   ],
   "source": [
    "np.sum(v)"
   ]
  },
  {
   "cell_type": "markdown",
   "id": "d3cfbb65",
   "metadata": {},
   "source": [
    "- Lệnh xem số chiều của một vector:"
   ]
  },
  {
   "cell_type": "code",
   "execution_count": 68,
   "id": "b9573b9d",
   "metadata": {},
   "outputs": [
    {
     "data": {
      "text/plain": [
       "(3,)"
      ]
     },
     "execution_count": 68,
     "metadata": {},
     "output_type": "execute_result"
    }
   ],
   "source": [
    "v.shape"
   ]
  },
  {
   "cell_type": "markdown",
   "id": "d580baf7",
   "metadata": {},
   "source": [
    "- Thử nghiệm “chuyển vị” vector: \n"
   ]
  },
  {
   "cell_type": "code",
   "execution_count": 69,
   "id": "59baffab",
   "metadata": {},
   "outputs": [
    {
     "data": {
      "text/plain": [
       "array([1., 3., 5.])"
      ]
     },
     "execution_count": 69,
     "metadata": {},
     "output_type": "execute_result"
    }
   ],
   "source": [
    "v.transpose() "
   ]
  },
  {
   "cell_type": "markdown",
   "id": "b8cec91d",
   "metadata": {},
   "source": [
    "- Lệnh lấy một phần của vector: "
   ]
  },
  {
   "cell_type": "code",
   "execution_count": 70,
   "id": "e16577d8",
   "metadata": {},
   "outputs": [
    {
     "data": {
      "text/plain": [
       "array([1., 3.])"
      ]
     },
     "execution_count": 70,
     "metadata": {},
     "output_type": "execute_result"
    }
   ],
   "source": [
    "v1 = v[:2]\n",
    "v1 "
   ]
  },
  {
   "cell_type": "code",
   "execution_count": 71,
   "id": "d85ddbc2",
   "metadata": {},
   "outputs": [
    {
     "data": {
      "text/plain": [
       "array([5., 3., 5.])"
      ]
     },
     "execution_count": 71,
     "metadata": {},
     "output_type": "execute_result"
    }
   ],
   "source": [
    "v[0] = 5\n",
    "v "
   ]
  },
  {
   "cell_type": "code",
   "execution_count": 72,
   "id": "8415f0e7",
   "metadata": {},
   "outputs": [
    {
     "data": {
      "text/plain": [
       "array([5., 3.])"
      ]
     },
     "execution_count": 72,
     "metadata": {},
     "output_type": "execute_result"
    }
   ],
   "source": [
    "v1"
   ]
  },
  {
   "cell_type": "code",
   "execution_count": null,
   "id": "e514a9a7",
   "metadata": {},
   "outputs": [],
   "source": [
    "v1[:2] = [1., 2., 3.] # Kết quả sẽ bị lỗi \n"
   ]
  },
  {
   "cell_type": "code",
   "execution_count": 75,
   "id": "fae00149",
   "metadata": {},
   "outputs": [
    {
     "data": {
      "text/plain": [
       "array([1., 2., 5.])"
      ]
     },
     "execution_count": 75,
     "metadata": {},
     "output_type": "execute_result"
    }
   ],
   "source": [
    "v1[:2] = [1., 2]\n",
    "v "
   ]
  },
  {
   "cell_type": "markdown",
   "id": "99022309",
   "metadata": {},
   "source": [
    "### Tuy nhiên, lưu ý với các phép gán có sử dụng các toán tử: "
   ]
  },
  {
   "cell_type": "code",
   "execution_count": 77,
   "id": "fe77aff6",
   "metadata": {},
   "outputs": [
    {
     "data": {
      "text/plain": [
       "array([ 5., 10.])"
      ]
     },
     "execution_count": 77,
     "metadata": {},
     "output_type": "execute_result"
    }
   ],
   "source": [
    "v3 = 2 * v[:2] + v1 * 3 \n",
    "v3"
   ]
  },
  {
   "cell_type": "code",
   "execution_count": 82,
   "id": "f32f211f",
   "metadata": {},
   "outputs": [
    {
     "data": {
      "text/plain": [
       "array([ 5., 10.])"
      ]
     },
     "execution_count": 82,
     "metadata": {},
     "output_type": "execute_result"
    }
   ],
   "source": [
    "v1 = [4, 6]\n",
    "v3"
   ]
  },
  {
   "cell_type": "code",
   "execution_count": 83,
   "id": "44af0162",
   "metadata": {},
   "outputs": [
    {
     "data": {
      "text/plain": [
       "array([1., 2., 5.])"
      ]
     },
     "execution_count": 83,
     "metadata": {},
     "output_type": "execute_result"
    }
   ],
   "source": [
    "v"
   ]
  },
  {
   "cell_type": "markdown",
   "id": "4b35ecb2",
   "metadata": {},
   "source": [
    "- Các phép toán trên vector: trên vector, chúng ta có thể thực hiện phép toán như: lấy\n",
    "sin/cos:"
   ]
  },
  {
   "cell_type": "code",
   "execution_count": null,
   "id": "67943503",
   "metadata": {},
   "outputs": [
    {
     "data": {
      "text/plain": [
       "array([11., 12., 15.])"
      ]
     },
     "execution_count": 84,
     "metadata": {},
     "output_type": "execute_result"
    }
   ],
   "source": [
    " v + 10.0"
   ]
  },
  {
   "cell_type": "code",
   "execution_count": 85,
   "id": "06436ab5",
   "metadata": {},
   "outputs": [
    {
     "data": {
      "text/plain": [
       "array([1.        , 1.41421356, 2.23606798])"
      ]
     },
     "execution_count": 85,
     "metadata": {},
     "output_type": "execute_result"
    }
   ],
   "source": [
    "np.sqrt(v) "
   ]
  },
  {
   "cell_type": "code",
   "execution_count": 86,
   "id": "f5528a3b",
   "metadata": {},
   "outputs": [
    {
     "data": {
      "text/plain": [
       "array([ 0.54030231, -0.41614684,  0.28366219])"
      ]
     },
     "execution_count": 86,
     "metadata": {},
     "output_type": "execute_result"
    }
   ],
   "source": [
    "np.cos(v)"
   ]
  },
  {
   "cell_type": "code",
   "execution_count": 87,
   "id": "cce9b4c9",
   "metadata": {},
   "outputs": [
    {
     "data": {
      "text/plain": [
       "array([ 0.84147098,  0.90929743, -0.95892427])"
      ]
     },
     "execution_count": 87,
     "metadata": {},
     "output_type": "execute_result"
    }
   ],
   "source": [
    "np.sin(v)"
   ]
  },
  {
   "cell_type": "markdown",
   "id": "f5c6a4f3",
   "metadata": {},
   "source": [
    "- Tích vô hướng của hai vector (kết quả là một số): \n"
   ]
  },
  {
   "cell_type": "code",
   "execution_count": null,
   "id": "a7033429",
   "metadata": {},
   "outputs": [],
   "source": [
    "v1 = np.array([1, 2])\n",
    "v3 = np.array([3, 4])\n"
   ]
  },
  {
   "cell_type": "code",
   "execution_count": 89,
   "id": "5504c43f",
   "metadata": {},
   "outputs": [
    {
     "data": {
      "text/plain": [
       "11"
      ]
     },
     "execution_count": 89,
     "metadata": {},
     "output_type": "execute_result"
    }
   ],
   "source": [
    "np.dot(v1, v3)"
   ]
  },
  {
   "cell_type": "code",
   "execution_count": 90,
   "id": "9b5d177c",
   "metadata": {},
   "outputs": [
    {
     "data": {
      "text/plain": [
       "11"
      ]
     },
     "execution_count": 90,
     "metadata": {},
     "output_type": "execute_result"
    }
   ],
   "source": [
    "v1.dot(v3)"
   ]
  },
  {
   "cell_type": "code",
   "execution_count": 91,
   "id": "904e9b5a",
   "metadata": {},
   "outputs": [
    {
     "data": {
      "text/plain": [
       "11"
      ]
     },
     "execution_count": 91,
     "metadata": {},
     "output_type": "execute_result"
    }
   ],
   "source": [
    "v3.dot(v1)"
   ]
  },
  {
   "cell_type": "markdown",
   "id": "8cf6ce98",
   "metadata": {},
   "source": [
    "# BÀI TẬP CHƯƠNG 1"
   ]
  },
  {
   "cell_type": "markdown",
   "id": "c5655427",
   "metadata": {},
   "source": [
    "**Bài tập 1: Giải phương trình với Sympy**"
   ]
  },
  {
   "cell_type": "code",
   "execution_count": 92,
   "id": "4166b799",
   "metadata": {},
   "outputs": [
    {
     "data": {
      "text/plain": [
       "[2]"
      ]
     },
     "execution_count": 92,
     "metadata": {},
     "output_type": "execute_result"
    }
   ],
   "source": [
    "from sympy import Symbol, solve\n",
    "x = Symbol('x')\n",
    "bieuthuc = x + 3 - 5\n",
    "solve(bieuthuc)"
   ]
  },
  {
   "cell_type": "code",
   "execution_count": 93,
   "id": "d70351fd",
   "metadata": {},
   "outputs": [
    {
     "data": {
      "text/plain": [
       "[-sqrt(2), sqrt(2)]"
      ]
     },
     "execution_count": 93,
     "metadata": {},
     "output_type": "execute_result"
    }
   ],
   "source": [
    "bieuthuc = x**2 + 3 - 5\n",
    "nghiemx = solve(bieuthuc)\n",
    "nghiemx"
   ]
  },
  {
   "cell_type": "code",
   "execution_count": 94,
   "id": "7a4622cb",
   "metadata": {},
   "outputs": [
    {
     "data": {
      "text/latex": [
       "$\\displaystyle - \\sqrt{2}$"
      ],
      "text/plain": [
       "-sqrt(2)"
      ]
     },
     "execution_count": 94,
     "metadata": {},
     "output_type": "execute_result"
    }
   ],
   "source": [
    "nghiemx[0]"
   ]
  },
  {
   "cell_type": "code",
   "execution_count": 95,
   "id": "160de08f",
   "metadata": {},
   "outputs": [
    {
     "data": {
      "text/latex": [
       "$\\displaystyle \\sqrt{2}$"
      ],
      "text/plain": [
       "sqrt(2)"
      ]
     },
     "execution_count": 95,
     "metadata": {},
     "output_type": "execute_result"
    }
   ],
   "source": [
    "nghiemx[1]"
   ]
  },
  {
   "cell_type": "markdown",
   "id": "f0af7ac4",
   "metadata": {},
   "source": [
    "**Bài tập 2: Giải phương trình bậc 2**"
   ]
  },
  {
   "cell_type": "code",
   "execution_count": 96,
   "id": "428a2df9",
   "metadata": {},
   "outputs": [
    {
     "data": {
      "text/plain": [
       "[{x: -8}, {x: -1}]"
      ]
     },
     "execution_count": 96,
     "metadata": {},
     "output_type": "execute_result"
    }
   ],
   "source": [
    "from sympy import solve\n",
    "x = Symbol('x')\n",
    "ptb2 = x**2 + 9*x +8\n",
    "solve(ptb2, dict = True)"
   ]
  },
  {
   "cell_type": "code",
   "execution_count": 97,
   "id": "20dde091",
   "metadata": {},
   "outputs": [
    {
     "data": {
      "text/plain": [
       "[{x: -1/2 - sqrt(39)*I/2}, {x: -1/2 + sqrt(39)*I/2}]"
      ]
     },
     "execution_count": 97,
     "metadata": {},
     "output_type": "execute_result"
    }
   ],
   "source": [
    "ptb2 = x**2 + 1*x + 10\n",
    "nghiemx = solve(ptb2, dict = True)\n",
    "nghiemx "
   ]
  },
  {
   "cell_type": "markdown",
   "id": "feeffde8",
   "metadata": {},
   "source": [
    "**Bài tập 3: Giải phương trình 1 biến biểu diễn đại số các biến còn lại**"
   ]
  },
  {
   "cell_type": "code",
   "execution_count": 98,
   "id": "5e799fab",
   "metadata": {},
   "outputs": [
    {
     "data": {
      "text/plain": [
       "[{x: (-b - sqrt(-4*a*c + b**2))/(2*a)}, {x: (-b + sqrt(-4*a*c + b**2))/(2*a)}]"
      ]
     },
     "execution_count": 98,
     "metadata": {},
     "output_type": "execute_result"
    }
   ],
   "source": [
    "x = Symbol('x')\n",
    "a = Symbol('a')\n",
    "b = Symbol('b')\n",
    "c = Symbol('c')\n",
    "ptb2 = a*x*x + b*x + c\n",
    "nghiem = solve(ptb2, x, dict=True)\n",
    "nghiem "
   ]
  },
  {
   "cell_type": "markdown",
   "id": "27dd7d12",
   "metadata": {},
   "source": [
    "**Bài tập 4: Giải hệ phương trình**"
   ]
  },
  {
   "cell_type": "code",
   "execution_count": 99,
   "id": "53ea99b2",
   "metadata": {},
   "outputs": [],
   "source": [
    "from sympy import Symbol, solve\n",
    "x = Symbol('x')\n",
    "y = Symbol('y')\n",
    "pt1 = 2*x+3*y-12\n",
    "pt2 = 3*x-2*y-5 "
   ]
  },
  {
   "cell_type": "markdown",
   "id": "9f60deca",
   "metadata": {},
   "source": [
    "### Sau đó, chúng ta giải hệ phương trình bằng cách thiết lập một bộ (tuple) gồm 2 phương trình trên\n",
    "### ở tham số đầu tiên của lệnh solve()"
   ]
  },
  {
   "cell_type": "code",
   "execution_count": 100,
   "id": "473b2d12",
   "metadata": {},
   "outputs": [
    {
     "data": {
      "text/plain": [
       "[{x: 3, y: 2}]"
      ]
     },
     "execution_count": 100,
     "metadata": {},
     "output_type": "execute_result"
    }
   ],
   "source": [
    "solve((pt1, pt2), dict=True) "
   ]
  },
  {
   "cell_type": "markdown",
   "id": "355b5cea",
   "metadata": {},
   "source": [
    "### Để thử lại bộ nghiệm trên, nghĩa là bộ (x, y), làm cho từng phương trình của hệ có giá trị 0,\n",
    "### chúng ta có lệnh lấy từng nghiệm và thay thế vào từng phương trình trên. Dưới đây là lệnh:"
   ]
  },
  {
   "cell_type": "code",
   "execution_count": 101,
   "id": "a8b6b45a",
   "metadata": {},
   "outputs": [
    {
     "data": {
      "text/latex": [
       "$\\displaystyle 0$"
      ],
      "text/plain": [
       "0"
      ]
     },
     "execution_count": 101,
     "metadata": {},
     "output_type": "execute_result"
    }
   ],
   "source": [
    "nghiem = solve((pt1, pt2), dict=True)\n",
    "nghiem = nghiem[0]\n",
    "pt1.subs({x:nghiem[x], y:nghiem[y]}) "
   ]
  },
  {
   "cell_type": "code",
   "execution_count": 103,
   "id": "f82b6c05",
   "metadata": {},
   "outputs": [
    {
     "data": {
      "text/latex": [
       "$\\displaystyle 0$"
      ],
      "text/plain": [
       "0"
      ]
     },
     "execution_count": 103,
     "metadata": {},
     "output_type": "execute_result"
    }
   ],
   "source": [
    "pt2.subs({x:nghiem[x], y:nghiem[y]}) "
   ]
  },
  {
   "cell_type": "markdown",
   "id": "bdac9ea4",
   "metadata": {},
   "source": [
    "**Bài tập 5: Thể hiện ma trận bằng numpy**"
   ]
  },
  {
   "cell_type": "code",
   "execution_count": 106,
   "id": "b0e45542",
   "metadata": {},
   "outputs": [
    {
     "data": {
      "text/plain": [
       "array([[ 9, 12],\n",
       "       [23, 30]])"
      ]
     },
     "execution_count": 106,
     "metadata": {},
     "output_type": "execute_result"
    }
   ],
   "source": [
    "import numpy as np\n",
    "M1 = np.array([ [9, 12], [23,30] ])\n",
    "M1"
   ]
  },
  {
   "cell_type": "code",
   "execution_count": 107,
   "id": "1e260c80",
   "metadata": {},
   "outputs": [
    {
     "name": "stdout",
     "output_type": "stream",
     "text": [
      "[30 76]\n"
     ]
    }
   ],
   "source": [
    "u = np.array([ 2, 1])\n",
    "tichM1u = M1.dot(u)\n",
    "print(tichM1u) "
   ]
  },
  {
   "cell_type": "code",
   "execution_count": 108,
   "id": "f653758b",
   "metadata": {},
   "outputs": [
    {
     "name": "stdout",
     "output_type": "stream",
     "text": [
      "[41 54]\n"
     ]
    }
   ],
   "source": [
    "tichuM1 = u.dot(M1)\n",
    "print(tichuM1) "
   ]
  },
  {
   "cell_type": "code",
   "execution_count": 109,
   "id": "ab953ed0",
   "metadata": {},
   "outputs": [
    {
     "data": {
      "text/plain": [
       "array([30, 76])"
      ]
     },
     "execution_count": 109,
     "metadata": {},
     "output_type": "execute_result"
    }
   ],
   "source": [
    "np.dot(M1, u) "
   ]
  },
  {
   "cell_type": "code",
   "execution_count": 110,
   "id": "558d3e71",
   "metadata": {},
   "outputs": [
    {
     "data": {
      "text/plain": [
       "array([41, 54])"
      ]
     },
     "execution_count": 110,
     "metadata": {},
     "output_type": "execute_result"
    }
   ],
   "source": [
    "np.dot(u, M1) "
   ]
  },
  {
   "cell_type": "markdown",
   "id": "a49d3691",
   "metadata": {},
   "source": [
    "Sinh viên thực hành và cho biết kết quả các lệnh sau: "
   ]
  },
  {
   "cell_type": "code",
   "execution_count": 112,
   "id": "30251932",
   "metadata": {},
   "outputs": [
    {
     "data": {
      "text/plain": [
       "array([[0., 0., 0., 0., 0.],\n",
       "       [0., 0., 0., 0., 0.],\n",
       "       [0., 0., 0., 0., 0.],\n",
       "       [0., 0., 0., 0., 0.],\n",
       "       [0., 0., 0., 0., 0.]])"
      ]
     },
     "execution_count": 112,
     "metadata": {},
     "output_type": "execute_result"
    }
   ],
   "source": [
    "mat1 = np.zeros( [5,5])\n",
    "mat1"
   ]
  },
  {
   "cell_type": "code",
   "execution_count": 113,
   "id": "ddb04344",
   "metadata": {},
   "outputs": [
    {
     "data": {
      "text/plain": [
       "array([[1., 1., 1., 1., 1.],\n",
       "       [1., 1., 1., 1., 1.],\n",
       "       [1., 1., 1., 1., 1.],\n",
       "       [1., 1., 1., 1., 1.],\n",
       "       [1., 1., 1., 1., 1.]])"
      ]
     },
     "execution_count": 113,
     "metadata": {},
     "output_type": "execute_result"
    }
   ],
   "source": [
    "mat2 = np.ones( [5,5]) \n",
    "mat2"
   ]
  },
  {
   "cell_type": "code",
   "execution_count": 114,
   "id": "83f10740",
   "metadata": {},
   "outputs": [
    {
     "data": {
      "text/plain": [
       "array([[2., 2., 2., 2., 2.],\n",
       "       [2., 2., 2., 2., 2.],\n",
       "       [2., 2., 2., 2., 2.],\n",
       "       [2., 2., 2., 2., 2.],\n",
       "       [2., 2., 2., 2., 2.]])"
      ]
     },
     "execution_count": 114,
     "metadata": {},
     "output_type": "execute_result"
    }
   ],
   "source": [
    "mat3 = mat1 + 2* mat2\n",
    "mat3"
   ]
  },
  {
   "cell_type": "code",
   "execution_count": 119,
   "id": "bacb9027",
   "metadata": {},
   "outputs": [
    {
     "data": {
      "text/plain": [
       "array([[ 2.,  2.,  2.,  2.,  2.],\n",
       "       [ 2.,  2.,  2.,  2.,  2.],\n",
       "       [ 2.,  2.,  2.,  2.,  2.],\n",
       "       [ 2.,  2., 10.,  2.,  2.],\n",
       "       [ 2.,  2.,  2.,  2.,  2.]])"
      ]
     },
     "execution_count": 119,
     "metadata": {},
     "output_type": "execute_result"
    }
   ],
   "source": [
    "mat4 = mat3\n",
    "mat3[3][2] = 10\n",
    "\n",
    "mat3"
   ]
  },
  {
   "cell_type": "code",
   "execution_count": 120,
   "id": "004c371b",
   "metadata": {},
   "outputs": [
    {
     "data": {
      "text/plain": [
       "array([[ 2.,  2.,  2.,  2.,  2.],\n",
       "       [ 2.,  2.,  2.,  2.,  2.],\n",
       "       [ 2.,  2.,  2.,  2.,  2.],\n",
       "       [ 2.,  2., 10.,  2.,  2.],\n",
       "       [ 2.,  2.,  2.,  2.,  2.]])"
      ]
     },
     "execution_count": 120,
     "metadata": {},
     "output_type": "execute_result"
    }
   ],
   "source": [
    "mat4"
   ]
  },
  {
   "cell_type": "markdown",
   "id": "55933d94",
   "metadata": {},
   "source": [
    "*Gán mat4 = mat3 không tạo bản sao mới, chỉ là tham chiếu cùng vùng nhớ*"
   ]
  },
  {
   "cell_type": "code",
   "execution_count": 125,
   "id": "af2e2642",
   "metadata": {},
   "outputs": [
    {
     "data": {
      "text/plain": [
       "array([[ 2.,  2.,  2.,  2.,  2.],\n",
       "       [ 2.,  2.,  2.,  2.,  2.],\n",
       "       [ 2.,  2.,  2.,  2.,  2.],\n",
       "       [ 2.,  2., 10.,  2.,  2.],\n",
       "       [ 2.,  2.,  2.,  2.,  2.]])"
      ]
     },
     "execution_count": 125,
     "metadata": {},
     "output_type": "execute_result"
    }
   ],
   "source": [
    "mat5 = np.copy(mat3)\n",
    "mat3[3][2] = 10\n",
    "mat3"
   ]
  },
  {
   "cell_type": "code",
   "execution_count": 127,
   "id": "2b64905d",
   "metadata": {},
   "outputs": [
    {
     "data": {
      "text/plain": [
       "array([[ 2.,  2.,  2.,  2.,  2.],\n",
       "       [ 2.,  2.,  2.,  2.,  2.],\n",
       "       [ 2.,  2.,  2.,  2.,  2.],\n",
       "       [ 2.,  2., 10.,  2.,  2.],\n",
       "       [ 2.,  2.,  2.,  2.,  2.]])"
      ]
     },
     "execution_count": 127,
     "metadata": {},
     "output_type": "execute_result"
    }
   ],
   "source": [
    "mat4"
   ]
  },
  {
   "cell_type": "code",
   "execution_count": 126,
   "id": "aa938b7c",
   "metadata": {},
   "outputs": [
    {
     "data": {
      "text/plain": [
       "array([[ 2.,  2.,  2.,  2.,  2.],\n",
       "       [ 2.,  2.,  2.,  2.,  2.],\n",
       "       [ 2.,  2.,  2.,  2.,  2.],\n",
       "       [ 2.,  2., 10.,  2.,  2.],\n",
       "       [ 2.,  2.,  2.,  2.,  2.]])"
      ]
     },
     "execution_count": 126,
     "metadata": {},
     "output_type": "execute_result"
    }
   ],
   "source": [
    "mat5"
   ]
  },
  {
   "cell_type": "code",
   "execution_count": 129,
   "id": "b9e7c2e9",
   "metadata": {},
   "outputs": [
    {
     "data": {
      "text/plain": [
       "array([[6.95170138e-310, 6.95170138e-310, 9.90175245e-312,\n",
       "        2.33644129e-307, 9.90175245e-312],\n",
       "       [1.78019082e-306, 9.90175245e-312, 6.23057348e-307,\n",
       "        0.00000000e+000, 9.90175245e-312],\n",
       "       [9.90175245e-312, 9.90175245e-312, 0.00000000e+000,\n",
       "        8.08291397e-321, 6.64024228e-321],\n",
       "       [0.00000000e+000, 0.00000000e+000, 0.00000000e+000,\n",
       "        0.00000000e+000, 0.00000000e+000]])"
      ]
     },
     "execution_count": 129,
     "metadata": {},
     "output_type": "execute_result"
    }
   ],
   "source": [
    "mat6 = np.empty([4, 5])\n",
    "mat6"
   ]
  },
  {
   "cell_type": "code",
   "execution_count": 130,
   "id": "912a9343",
   "metadata": {},
   "outputs": [
    {
     "data": {
      "text/plain": [
       "array([[1., 0., 0., 0.],\n",
       "       [0., 1., 0., 0.],\n",
       "       [0., 0., 1., 0.],\n",
       "       [0., 0., 0., 1.]])"
      ]
     },
     "execution_count": 130,
     "metadata": {},
     "output_type": "execute_result"
    }
   ],
   "source": [
    "mat7 = np.identity(4)\n",
    "mat7"
   ]
  },
  {
   "cell_type": "code",
   "execution_count": 131,
   "id": "34bbaf8e",
   "metadata": {},
   "outputs": [
    {
     "data": {
      "text/plain": [
       "array([[0.63852817, 0.3978377 , 0.78495826, 0.44930288, 0.10799205],\n",
       "       [0.12522946, 0.60361573, 0.58115049, 0.53946412, 0.49525738],\n",
       "       [0.53398054, 0.01682574, 0.10044395, 0.63025479, 0.48432827],\n",
       "       [0.21244408, 0.74178635, 0.76518547, 0.64664375, 0.39244214]])"
      ]
     },
     "execution_count": 131,
     "metadata": {},
     "output_type": "execute_result"
    }
   ],
   "source": [
    "mat8 = np.random.random([4,5])\n",
    "mat8"
   ]
  },
  {
   "cell_type": "markdown",
   "id": "1e302c5e",
   "metadata": {},
   "source": [
    "**Bài tập 6: Tìm chỗ đóng quân:**"
   ]
  },
  {
   "cell_type": "code",
   "execution_count": 132,
   "id": "4a916d7e",
   "metadata": {},
   "outputs": [
    {
     "name": "stdout",
     "output_type": "stream",
     "text": [
      "Tổng nguy cơ:\n",
      "[[7 2 1 1 2]\n",
      " [3 3 3 6 5]\n",
      " [5 2 4 1 1]\n",
      " [3 2 6 7 5]\n",
      " [3 4 1 1 0]]\n",
      "\n",
      "Vị trí an toàn để đóng quân (True = an toàn):\n",
      "[[False  True  True  True  True]\n",
      " [ True  True  True False  True]\n",
      " [ True  True  True  True  True]\n",
      " [ True  True False False  True]\n",
      " [ True  True  True  True  True]]\n"
     ]
    }
   ],
   "source": [
    "import numpy as np\n",
    "\n",
    "# Khởi tạo các ma trận nguy cơ\n",
    "A = np.array([[3, 1, 0, 0, 1],\n",
    "              [0, 0, 1, 2, 3],\n",
    "              [2, 1, 2, 0, 0],\n",
    "              [0, 0, 2, 3, 3],\n",
    "              [2, 2, 0, 0, 0]])\n",
    "\n",
    "B = np.array([[0, 0, 0, 0, 0],\n",
    "              [1, 2, 1, 0, 0],\n",
    "              [2, 1, 0, 0, 0],\n",
    "              [1, 1, 1, 1, 1],\n",
    "              [0, 0, 0, 0, 0]])\n",
    "\n",
    "C = np.array([[1, 0, 0, 1, 0],\n",
    "              [2, 1, 0, 2, 0],\n",
    "              [0, 0, 0, 0, 0],\n",
    "              [0, 0, 0, 1, 0],\n",
    "              [0, 0, 0, 1, 0]])\n",
    "\n",
    "D = np.array([[0, 0, 0, 0, 0],\n",
    "              [0, 0, 1, 2, 2],\n",
    "              [1, 0, 0, 0, 1],\n",
    "              [1, 1, 2, 1, 1],\n",
    "              [1, 2, 1, 0, 0]])\n",
    "\n",
    "E = np.array([[3, 1, 1, 0, 1],\n",
    "              [0, 0, 0, 0, 0],\n",
    "              [0, 0, 2, 1, 0],\n",
    "              [1, 0, 1, 1, 0],\n",
    "              [0, 0, 0, 0, 0]])\n",
    "\n",
    "# Ánh xạ cấp độ sang điểm số theo bảng nguy cơ\n",
    "scale = np.array([0, 1, 2, 3, 5])\n",
    "\n",
    "# Tính điểm nguy cơ cho từng loại theo từng ô\n",
    "danger_A = scale[A]\n",
    "danger_B = scale[B]\n",
    "danger_C = scale[C]\n",
    "danger_D = scale[D]\n",
    "danger_E = scale[E]\n",
    "\n",
    "# Tổng nguy cơ tại từng ô\n",
    "total_risk = danger_A + danger_B + danger_C + danger_D + danger_E\n",
    "\n",
    "# Tìm các vị trí an toàn (tổng nguy cơ ≤ 5)\n",
    "safe_positions = total_risk <= 5\n",
    "\n",
    "print(\"Tổng nguy cơ:\")\n",
    "print(total_risk)\n",
    "\n",
    "print(\"\\nVị trí an toàn để đóng quân (True = an toàn):\")\n",
    "print(safe_positions)\n"
   ]
  }
 ],
 "metadata": {
  "kernelspec": {
   "display_name": "Python 3",
   "language": "python",
   "name": "python3"
  },
  "language_info": {
   "codemirror_mode": {
    "name": "ipython",
    "version": 3
   },
   "file_extension": ".py",
   "mimetype": "text/x-python",
   "name": "python",
   "nbconvert_exporter": "python",
   "pygments_lexer": "ipython3",
   "version": "3.11.0"
  }
 },
 "nbformat": 4,
 "nbformat_minor": 5
}
