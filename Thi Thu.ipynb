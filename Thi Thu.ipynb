{
 "cells": [
  {
   "cell_type": "markdown",
   "id": "8714faae",
   "metadata": {},
   "source": [
    "### Câu 1: Phép toán cơ bản trên vector và ma trận (15 điểm)"
   ]
  },
  {
   "cell_type": "code",
   "execution_count": 13,
   "id": "35f8ce93",
   "metadata": {},
   "outputs": [
    {
     "name": "stdout",
     "output_type": "stream",
     "text": [
      "a) A + B = [3 3 1 5]\n",
      "   3A - 2B = [  4 -11  13 -10]\n",
      "\n",
      "b) A · B = -8\n",
      "   Góc giữa A và B ≈ 108.376 độ\n",
      "\n",
      "c) C^T * C =\n",
      " [[ 5  0 -1]\n",
      " [ 0 14 10]\n",
      " [-1 10 17]]\n"
     ]
    }
   ],
   "source": [
    "import numpy as np\n",
    "\n",
    "# Khai báo vector A và B\n",
    "A = np.array([2, -1, 3, 0])\n",
    "B = np.array([1, 4, -2, 5])\n",
    "\n",
    "# a) A + B và 3A - 2B\n",
    "sum_AB = A + B\n",
    "expr = 3 * A - 2 * B\n",
    "\n",
    "print(\"a) A + B =\", sum_AB)\n",
    "print(\"   3A - 2B =\", expr)\n",
    "\n",
    "# b) Tích vô hướng và góc giữa hai vector\n",
    "dot_product = np.dot(A, B)\n",
    "norm_A = np.linalg.norm(A)\n",
    "norm_B = np.linalg.norm(B)\n",
    "cos_theta = dot_product / (norm_A * norm_B)\n",
    "angle_deg = np.degrees(np.arccos(cos_theta))\n",
    "\n",
    "print(\"\\nb) A · B =\", dot_product)\n",
    "print(\"   Góc giữa A và B ≈\", round(angle_deg, 3), \"độ\")\n",
    "\n",
    "# c) Tính C^T C\n",
    "C = np.array([\n",
    "    [1, 2, -1],\n",
    "    [0, 3, 4],\n",
    "    [2, -1, 0]\n",
    "])\n",
    "\n",
    "C_T_C = C.T @ C\n",
    "print(\"\\nc) C^T * C =\\n\", C_T_C)\n"
   ]
  },
  {
   "cell_type": "markdown",
   "id": "910b8132",
   "metadata": {},
   "source": [
    "### Câu 2: Nhân ma trận, định thức và hạng ma trận (20 điểm)"
   ]
  },
  {
   "cell_type": "code",
   "execution_count": 7,
   "id": "43d2f8c0",
   "metadata": {},
   "outputs": [
    {
     "name": "stdout",
     "output_type": "stream",
     "text": [
      "a) M × N =\n",
      "[[ 32  38  44  50]\n",
      " [ 80  96 112 128]\n",
      " [128 154 180 206]\n",
      " [ 12  14  16  18]]\n",
      "\n",
      "b) Định thức của M = 0.0\n",
      "→ Ma trận M không khả nghịch (det = 0)\n",
      "\n",
      "c) Hạng của ma trận N = 2\n"
     ]
    }
   ],
   "source": [
    "import numpy as np\n",
    "\n",
    "M = np.array([\n",
    "    [1, 2, 3, 0],\n",
    "    [4, 5, 6, 1],\n",
    "    [7, 8, 9, 2],\n",
    "    [0, 1, 1, 0]\n",
    "])\n",
    "\n",
    "N = np.array([\n",
    "    [0, 1, 2, 3],\n",
    "    [4, 5, 6, 7],\n",
    "    [8, 9, 10, 11],\n",
    "    [12, 13, 14, 15]\n",
    "])\n",
    "\n",
    "# a) Tính tích M × N\n",
    "product = M @ N\n",
    "print(\"a) M × N =\")\n",
    "print(product)\n",
    "\n",
    "# b) Tính định thức của ma trận M\n",
    "det_M = np.linalg.det(M)\n",
    "print(\"\\nb) Định thức của M =\", round(det_M, 3))\n",
    "if np.isclose(det_M, 0):\n",
    "    print(\"→ Ma trận M không khả nghịch (det = 0)\")\n",
    "\n",
    "# c) Tính hạng của ma trận N\n",
    "rank_N = np.linalg.matrix_rank(N)\n",
    "print(\"\\nc) Hạng của ma trận N =\", rank_N)\n"
   ]
  },
  {
   "cell_type": "markdown",
   "id": "7efdf1a0",
   "metadata": {},
   "source": [
    "### Câu 3: Nghịch đảo ma trận và giải hệ phương trình"
   ]
  },
  {
   "cell_type": "code",
   "execution_count": 12,
   "id": "08878209",
   "metadata": {},
   "outputs": [
    {
     "name": "stdout",
     "output_type": "stream",
     "text": [
      "a) det(P) = 86.00000000000004\n",
      "   P^{-1} =\n",
      " [[ 0.48837209 -0.09302326  0.02325581 -0.20930233]\n",
      " [ 0.03488372  0.27906977 -0.06976744  0.12790698]\n",
      " [-0.11627907  0.06976744  0.23255814 -0.09302326]\n",
      " [-0.01162791 -0.09302326  0.02325581  0.29069767]]\n",
      "\n",
      "b) Nghiệm (x, y, z, w) = [0.46511628 2.10465116 1.65116279 0.96511628]\n",
      "\n",
      "c) P.dot(x) = [4. 7. 9. 5.]\n",
      "   So sánh với b = [4. 7. 9. 5.]\n"
     ]
    }
   ],
   "source": [
    "import numpy as np\n",
    "\n",
    "P = np.array([\n",
    "    [2, 1, 0, 1],\n",
    "    [0, 3, 1, -1],\n",
    "    [1, 0, 4, 2],\n",
    "    [0, 1, 0, 3]\n",
    "], dtype=float)\n",
    "\n",
    "b = np.array([4, 7, 9, 5], dtype=float)\n",
    "\n",
    "# a) Tìm ma trận nghịch đảo của P (nếu khả nghịch)\n",
    "detP = np.linalg.det(P)\n",
    "print(\"a) det(P) =\", detP)\n",
    "if not np.isclose(detP, 0):\n",
    "    P_inv = np.linalg.inv(P)\n",
    "    print(\"   P^{-1} =\\n\", P_inv)\n",
    "else:\n",
    "    print(\"   P không khả nghịch (det = 0)\")\n",
    "\n",
    "# b) Giải hệ P x = b bằng nghịch đảo\n",
    "if not np.isclose(detP, 0):\n",
    "    x = P_inv.dot(b)\n",
    "    print(\"\\nb) Nghiệm (x, y, z, w) =\", x)\n",
    "\n",
    "# c) Kiểm tra nghiệm bằng cách nhân P với vector x\n",
    "if not np.isclose(detP, 0):\n",
    "    check = P.dot(x)\n",
    "    print(\"\\nc) P.dot(x) =\", check)\n",
    "    print(\"   So sánh với b =\", b)\n"
   ]
  },
  {
   "cell_type": "markdown",
   "id": "e446d40c",
   "metadata": {},
   "source": [
    "### Câu 4: Giá trị riêng, vector riêng và chuẩn hóa (20 điểm)"
   ]
  },
  {
   "cell_type": "code",
   "execution_count": 21,
   "id": "5548cc90",
   "metadata": {},
   "outputs": [
    {
     "name": "stdout",
     "output_type": "stream",
     "text": [
      "a) Các giá trị riêng của Q:\n",
      "λ1 = 3.4534+0.0000j\n",
      "λ2 = 2.7733+1.4677j\n",
      "λ3 = 2.7733-1.4677j\n",
      "\n",
      "b) Các vector riêng tương ứng:\n",
      "Vector riêng ứng với λ1 = 3.4534+0.0000j:\n",
      "[0.83327121+0.j 0.455468  +0.j 0.31338154+0.j]\n",
      "Vector riêng ứng với λ2 = 2.7733+1.4677j:\n",
      "[-0.26206044-0.31354813j -0.78166743+0.j         -0.21963176+0.41685708j]\n",
      "Vector riêng ứng với λ3 = 2.7733-1.4677j:\n",
      "[-0.26206044+0.31354813j -0.78166743-0.j         -0.21963176-0.41685708j]\n",
      "\n",
      "c) Các vector riêng đã chuẩn hóa:\n",
      "Vector riêng chuẩn hóa ứng với λ1:\n",
      "[0.83327121+0.j 0.455468  +0.j 0.31338154+0.j]\n",
      "Độ dài vector: 1.000000\n",
      "\n",
      "Vector riêng chuẩn hóa ứng với λ2:\n",
      "[-0.26206044-0.31354813j -0.78166743+0.j         -0.21963176+0.41685708j]\n",
      "Độ dài vector: 1.000000\n",
      "\n",
      "Vector riêng chuẩn hóa ứng với λ3:\n",
      "[-0.26206044+0.31354813j -0.78166743+0.j         -0.21963176-0.41685708j]\n",
      "Độ dài vector: 1.000000\n",
      "\n"
     ]
    }
   ],
   "source": [
    "import numpy as np\n",
    "\n",
    "# Định nghĩa ma trận Q\n",
    "Q = np.array([[4, -1, 0],\n",
    "              [1, 3, -2],\n",
    "              [0, 1, 2]])\n",
    "\n",
    "# a) Tìm các giá trị riêng\n",
    "eigenvalues = np.linalg.eig(Q)[0]\n",
    "print(\"a) Các giá trị riêng của Q:\")\n",
    "for i, val in enumerate(eigenvalues, 1):\n",
    "    print(f\"λ{i} = {val:.4f}\")\n",
    "\n",
    "# b) Tìm các vector riêng\n",
    "eigenvectors = np.linalg.eig(Q)[1]\n",
    "print(\"\\nb) Các vector riêng tương ứng:\")\n",
    "for i in range(len(eigenvalues)):\n",
    "    print(f\"Vector riêng ứng với λ{i+1} = {eigenvalues[i]:.4f}:\")\n",
    "    print(eigenvectors[:, i])\n",
    "\n",
    "# c) Chuẩn hóa các vector riêng (độ dài bằng 1)\n",
    "normalized_vectors = eigenvectors.copy()\n",
    "for i in range(len(eigenvalues)):\n",
    "    norm = np.linalg.norm(eigenvectors[:, i])\n",
    "    normalized_vectors[:, i] = eigenvectors[:, i] / norm\n",
    "\n",
    "print(\"\\nc) Các vector riêng đã chuẩn hóa:\")\n",
    "for i in range(len(eigenvalues)):\n",
    "    print(f\"Vector riêng chuẩn hóa ứng với λ{i+1}:\")\n",
    "    print(normalized_vectors[:, i])\n",
    "    # Kiểm tra độ dài vector chuẩn hóa\n",
    "    print(f\"Độ dài vector: {np.linalg.norm(normalized_vectors[:, i]):.6f}\\n\")"
   ]
  },
  {
   "cell_type": "markdown",
   "id": "e005d607",
   "metadata": {},
   "source": [
    "### Câu 5: Ứng dụng thực tế - Hệ phương trình và phân tích"
   ]
  },
  {
   "cell_type": "code",
   "execution_count": 22,
   "id": "0a19ad95",
   "metadata": {},
   "outputs": [
    {
     "name": "stdout",
     "output_type": "stream",
     "text": [
      "a) Giải hệ phương trình Rx = b: [2.7826087  0.04347826 2.43478261]\n",
      "b) Ma trận R khả nghịch. Ma trận nghịch đảo của R:\n",
      "[[-0.04347826  0.47826087 -0.08695652]\n",
      " [-0.39130435  0.30434783  0.2173913 ]\n",
      " [ 0.08695652  0.04347826  0.17391304]]\n",
      "Giải lại hệ bằng ma trận nghịch đảo: [2.7826087  0.04347826 2.43478261]\n",
      "c) Chuẩn Frobenius của ma trận R: 6.082762530298219\n"
     ]
    }
   ],
   "source": [
    "import numpy as np\n",
    "\n",
    "# Định nghĩa ma trận R và vector b\n",
    "R = np.array([[1, -2, 3],\n",
    "              [2, 0, 1],\n",
    "              [-1, 1, 4]])\n",
    "b = np.array([10, 8, 7])\n",
    "\n",
    "# a) Giải hệ phương trình Rx = b bằng np.linalg.solve()\n",
    "x = np.linalg.solve(R, b)\n",
    "print(\"a) Giải hệ phương trình Rx = b:\", x)\n",
    "\n",
    "# b) Xác định xem ma trận R có khả nghịch không. Nếu có, tính ma trận nghịch đảo và dùng nó để giải lại hệ\n",
    "if np.linalg.det(R) != 0:\n",
    "    R_inverse = np.linalg.inv(R)\n",
    "    x_inverse = R_inverse @ b\n",
    "    print(\"b) Ma trận R khả nghịch. Ma trận nghịch đảo của R:\")\n",
    "    print(R_inverse)\n",
    "    print(\"Giải lại hệ bằng ma trận nghịch đảo:\", x_inverse)\n",
    "else:\n",
    "    print(\"b) Ma trận R không khả nghịch.\")\n",
    "\n",
    "# c) Tính chuẩn Frobenius của ma trận R\n",
    "frobenius_norm = np.linalg.norm(R, 'fro')\n",
    "print(\"c) Chuẩn Frobenius của ma trận R:\", frobenius_norm)"
   ]
  }
 ],
 "metadata": {
  "kernelspec": {
   "display_name": "Python 3",
   "language": "python",
   "name": "python3"
  },
  "language_info": {
   "codemirror_mode": {
    "name": "ipython",
    "version": 3
   },
   "file_extension": ".py",
   "mimetype": "text/x-python",
   "name": "python",
   "nbconvert_exporter": "python",
   "pygments_lexer": "ipython3",
   "version": "3.11.0"
  }
 },
 "nbformat": 4,
 "nbformat_minor": 5
}
