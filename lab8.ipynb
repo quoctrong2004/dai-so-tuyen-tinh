{
 "cells": [
  {
   "cell_type": "markdown",
   "id": "2bd550a5",
   "metadata": {},
   "source": [
    "## CHƯƠNG 8: KHÔNG GIAN VECTOR VÀ ÁNH XẠ TUYẾN TÍNH (PHẦN 2)"
   ]
  },
  {
   "cell_type": "code",
   "execution_count": 1,
   "id": "ebf9887d",
   "metadata": {},
   "outputs": [
    {
     "name": "stdout",
     "output_type": "stream",
     "text": [
      "[ 18 -11   9  -8]\n"
     ]
    }
   ],
   "source": [
    "#Bài tập 1: Cho 3 vector = (2,−1,5,0), = (4,3,1,−1) và = (−6,2,0,3) trong ℝ. Xác định các vector  như sau: \n",
    "\n",
    "import numpy as np\n",
    "u = np.array([2, -1, 5, 0])\n",
    "v = np.array([4, 3, 1, -1])\n",
    "w = np.array([-6, 2, 0, 3])\n",
    "x = 2 * u - (v + 3 * w)\n",
    "print(x)"
   ]
  },
  {
   "cell_type": "code",
   "execution_count": 2,
   "id": "52d39cb6",
   "metadata": {},
   "outputs": [
    {
     "name": "stdout",
     "output_type": "stream",
     "text": [
      "[ 9.  -5.5  4.5 -4. ]\n"
     ]
    }
   ],
   "source": [
    "#b. 3(x + w) = 2u − v + x\n",
    "\n",
    "import numpy as np\n",
    "u = np.array([2, -1, 5, 0])\n",
    "v = np.array([4, 3, 1, -1])\n",
    "w = np.array([-6, 2, 0, 3])\n",
    "x = 0.5 * (2 * u - v - 3 * w)\n",
    "print(x)"
   ]
  },
  {
   "cell_type": "code",
   "execution_count": 3,
   "id": "45c77adf",
   "metadata": {},
   "outputs": [
    {
     "name": "stdout",
     "output_type": "stream",
     "text": [
      "[ 3.  -3.5  4.5 -1. ]\n"
     ]
    }
   ],
   "source": [
    "#Bài toán 2:  Trong ℝ cho vector x = (−1,−2,−2) và 3 vector u = (0,1,4), v = (−1,1,2) và w = (3,1,2). Tìm a, b, c thỏa: x = aw + bv +cw\n",
    "\n",
    "import numpy as np\n",
    "u = np.array([2, -1, 5, 0])\n",
    "v = np.array([4, 3, 1, -1])\n",
    "w = np.array([-6, 2, 0, 3])\n",
    "x = u - 0.5 * v - 0.5 * w\n",
    "print(x)"
   ]
  },
  {
   "cell_type": "code",
   "execution_count": null,
   "id": "03755ebf",
   "metadata": {},
   "outputs": [
    {
     "name": "stdout",
     "output_type": "stream",
     "text": [
      "[ 3.  -3.5  4.5 -1. ]\n"
     ]
    }
   ],
   "source": [
    "#Bài toán 3:\n",
    "#LA.inv(A)\n",
    "\n",
    "import numpy as np\n",
    "u = np.array([2, -1, 5, 0])\n",
    "v = np.array([4, 3, 1, -1])\n",
    "w = np.array([-6, 2, 0, 3])\n",
    "x = u - 0.5 * v - 0.5 * w\n",
    "print(x)"
   ]
  },
  {
   "cell_type": "code",
   "execution_count": 5,
   "id": "cc7a208c",
   "metadata": {},
   "outputs": [
    {
     "name": "stdout",
     "output_type": "stream",
     "text": [
      "[ 9.  -5.5  4.5 -4. ]\n"
     ]
    }
   ],
   "source": [
    "#LA.inv(B) \n",
    "\n",
    "import numpy as np\n",
    "u = np.array([2, -1, 5, 0])\n",
    "v = np.array([4, 3, 1, -1])\n",
    "w = np.array([-6, 2, 0, 3])\n",
    "x = u - 0.5 * v - 1.5 * w\n",
    "print(x)"
   ]
  },
  {
   "cell_type": "code",
   "execution_count": 12,
   "id": "36f683f1",
   "metadata": {},
   "outputs": [
    {
     "data": {
      "text/plain": [
       "0.0"
      ]
     },
     "execution_count": 12,
     "metadata": {},
     "output_type": "execute_result"
    }
   ],
   "source": [
    "#LA.det(A) \n",
    "\n",
    "import numpy as np\n",
    "A = np.matrix([[1, 0], [0, 0]])\n",
    "\n",
    "from numpy import linalg as LA\n",
    "\n",
    "LA.det(A)"
   ]
  },
  {
   "cell_type": "code",
   "execution_count": 13,
   "id": "02db1e31",
   "metadata": {},
   "outputs": [
    {
     "data": {
      "text/plain": [
       "0.0"
      ]
     },
     "execution_count": 13,
     "metadata": {},
     "output_type": "execute_result"
    }
   ],
   "source": [
    "#LA.det(B) \n",
    "\n",
    "import numpy as np\n",
    "B = np.matrix([[0, 0], [0, 1]])\n",
    "\n",
    "from numpy import linalg as LA\n",
    "\n",
    "LA.det(B)"
   ]
  },
  {
   "cell_type": "code",
   "execution_count": 14,
   "id": "6bca1c06",
   "metadata": {},
   "outputs": [
    {
     "data": {
      "text/plain": [
       "1.0"
      ]
     },
     "execution_count": 14,
     "metadata": {},
     "output_type": "execute_result"
    }
   ],
   "source": [
    "#LA.det(A+B) \n",
    "\n",
    "import numpy as np\n",
    "A = np.matrix([[1, 0], [0, 0]])\n",
    "B = np.matrix([[0, 0], [0, 1]])\n",
    "\n",
    "from numpy import linalg as LA\n",
    "\n",
    "LA.det(A + B)"
   ]
  },
  {
   "cell_type": "code",
   "execution_count": 15,
   "id": "cc42ddf8",
   "metadata": {},
   "outputs": [
    {
     "name": "stdout",
     "output_type": "stream",
     "text": [
      "Kết quả của A1.T:\n",
      "Matrix([[x1, y1], [y1, x1]])\n",
      "\n",
      "Kết quả của A1 + A2:\n",
      "Matrix([[x1 + x2, y1 + y2], [y1 + y2, x1 + x2]])\n",
      "\n",
      "Kết quả của c * A1:\n",
      "Matrix([[c*x1, c*y1], [c*y1, c*x1]])\n"
     ]
    }
   ],
   "source": [
    "#Bài toán 4:\n",
    "\n",
    "import sympy as sp\n",
    "\n",
    "x, y = sp.symbols('x y')\n",
    "A = sp.Matrix([[x, y], [y, x]])  \n",
    "\n",
    "x1, y1 = sp.symbols('x1 y1')\n",
    "A1 = sp.Matrix([[x1, y1], [y1, x1]])\n",
    "\n",
    "x2, y2 = sp.symbols('x2 y2')\n",
    "A2 = sp.Matrix([[x2, y2], [y2, x2]])\n",
    "\n",
    "print(\"Kết quả của A1.T:\")\n",
    "print(A1.T)  \n",
    "\n",
    "A_sum = A1 + A2\n",
    "print(\"\\nKết quả của A1 + A2:\")\n",
    "print(A_sum)  \n",
    "\n",
    "c = sp.symbols('c')\n",
    "A_scaled = c * A1\n",
    "print(\"\\nKết quả của c * A1:\")\n",
    "print(A_scaled)  "
   ]
  },
  {
   "cell_type": "code",
   "execution_count": 16,
   "id": "2c9481d9",
   "metadata": {},
   "outputs": [
    {
     "name": "stdout",
     "output_type": "stream",
     "text": [
      "(A1 + A2).T =\n",
      "Matrix([[x1 + x2, y1 + y2], [y1 + y2, x1 + x2]])\n"
     ]
    }
   ],
   "source": [
    "#(A1+A2).T\n",
    "\n",
    "import sympy as sp\n",
    "\n",
    "x1, y1, x2, y2 = sp.symbols('x1 y1 x2 y2')\n",
    "A1 = sp.Matrix([[x1, y1], [y1, x1]])  \n",
    "A2 = sp.Matrix([[x2, y2], [y2, x2]])  \n",
    "\n",
    "print(\"(A1 + A2).T =\")\n",
    "print((A1 + A2).T)  "
   ]
  },
  {
   "cell_type": "code",
   "execution_count": null,
   "id": "7e87f7fa",
   "metadata": {},
   "outputs": [
    {
     "data": {
      "text/plain": [
       "True"
      ]
     },
     "execution_count": 17,
     "metadata": {},
     "output_type": "execute_result"
    }
   ],
   "source": [
    "#((A1+A2).T).equals(A1+A2) \n",
    "\n",
    "((A1+A2).T).equals(A1+A2)"
   ]
  },
  {
   "cell_type": "code",
   "execution_count": 18,
   "id": "1fe83dde",
   "metadata": {},
   "outputs": [
    {
     "name": "stdout",
     "output_type": "stream",
     "text": [
      "Matrix([[c*x, c*y], [c*y, c*x]])\n"
     ]
    }
   ],
   "source": [
    "c = sp.symbols('c') \n",
    "print (c*A) "
   ]
  },
  {
   "cell_type": "code",
   "execution_count": 19,
   "id": "79e33828",
   "metadata": {},
   "outputs": [
    {
     "data": {
      "text/plain": [
       "True"
      ]
     },
     "execution_count": 19,
     "metadata": {},
     "output_type": "execute_result"
    }
   ],
   "source": [
    "#((c*A).T).equals(c*A) \n",
    "\n",
    "((c*A).T).equals(c*A) "
   ]
  },
  {
   "cell_type": "code",
   "execution_count": 21,
   "id": "bd9d071c",
   "metadata": {},
   "outputs": [
    {
     "name": "stdout",
     "output_type": "stream",
     "text": [
      "Kết quả hạng của ma trận [v1 v2 v3 w1]: 2\n",
      "Nghiệm hệ phương trình cho câu a: {(c3 + 1, -2*c3 - 1, c3)}\n",
      "\n",
      "Kết quả hạng của ma trận [v1 v2 v3 w2]: 3\n",
      "Nghiệm hệ phương trình cho câu b: EmptySet\n"
     ]
    }
   ],
   "source": [
    "#Bài toán 5:\n",
    "\n",
    "import sympy as sp\n",
    "\n",
    "v1 = sp.Matrix([1, 2, 3])\n",
    "v2 = sp.Matrix([0, 1, 2])\n",
    "v3 = sp.Matrix([-1, 0, 1])\n",
    "\n",
    "w1 = sp.Matrix([1, 1, 1])\n",
    "A = sp.Matrix.hstack(v1, v2, v3, w1)\n",
    "print(\"Kết quả hạng của ma trận [v1 v2 v3 w1]:\", A.rank())\n",
    "\n",
    "c1, c2, c3 = sp.symbols('c1 c2 c3')\n",
    "system = sp.Matrix.hstack(v1, v2, v3)  \n",
    "solution_a = sp.linsolve((system, w1), c1, c2, c3)\n",
    "print(\"Nghiệm hệ phương trình cho câu a:\", solution_a)\n",
    "\n",
    "w2 = sp.Matrix([1, -2, 2])\n",
    "B = sp.Matrix.hstack(v1, v2, v3, w2)\n",
    "print(\"\\nKết quả hạng của ma trận [v1 v2 v3 w2]:\", B.rank())\n",
    "solution_b = sp.linsolve((system, w2), c1, c2, c3)\n",
    "print(\"Nghiệm hệ phương trình cho câu b:\", solution_b)"
   ]
  },
  {
   "cell_type": "code",
   "execution_count": 22,
   "id": "2db27f26",
   "metadata": {},
   "outputs": [
    {
     "name": "stdout",
     "output_type": "stream",
     "text": [
      "Hạng của ma trận [v1 v2 v3]: 3\n",
      "Định thức của ma trận: -1\n",
      "Nghiệm của hệ phương trình:\n",
      "{(0, 0, 0)}\n",
      "Kết luận: Các vector độc lập tuyến tính\n"
     ]
    }
   ],
   "source": [
    "#Bài tập 6\n",
    "\n",
    "import sympy as sp\n",
    "\n",
    "v1 = sp.Matrix([1, 2, 3])\n",
    "v2 = sp.Matrix([0, 1, 2])\n",
    "v3 = sp.Matrix([-2, 0, 1])\n",
    "\n",
    "A = sp.Matrix.hstack(v1, v2, v3)\n",
    "\n",
    "rank = A.rank()\n",
    "print(f\"Hạng của ma trận [v1 v2 v3]: {rank}\")\n",
    "\n",
    "if A.shape[0] == A.shape[1]:\n",
    "    det = A.det()\n",
    "    print(f\"Định thức của ma trận: {det}\")\n",
    "\n",
    "c1, c2, c3 = sp.symbols('c1 c2 c3')\n",
    "solution = sp.linsolve((A, sp.Matrix([0,0,0])), (c1, c2, c3))\n",
    "\n",
    "print(\"Nghiệm của hệ phương trình:\")\n",
    "print(solution)\n",
    "\n",
    "if rank == 3:\n",
    "    print(\"Kết luận: Các vector độc lập tuyến tính\")\n",
    "else:\n",
    "    print(\"Kết luận: Các vector phụ thuộc tuyến tính\")"
   ]
  },
  {
   "cell_type": "code",
   "execution_count": 24,
   "id": "01b2f12a",
   "metadata": {},
   "outputs": [
    {
     "name": "stdout",
     "output_type": "stream",
     "text": [
      "Nghiệm của hệ phương trình:\n",
      "{c1: u1/2 + u2/2, c2: u1/2 - u2/2}\n",
      "\n",
      "Định thức của ma trận hệ số:\n",
      "-2\n",
      "\n",
      "Nghiệm của hệ thuần nhất:\n",
      "{c1: 0, c2: 0}\n"
     ]
    }
   ],
   "source": [
    "#Bài toán 7\n",
    "\n",
    "import sympy as sp\n",
    "\n",
    "c1, c2 = sp.symbols('c1 c2')\n",
    "u1, u2 = sp.symbols('u1 u2')\n",
    "\n",
    "solution = sp.solve([c1 + c2 - u1, c1 - c2 - u2], [c1, c2])\n",
    "print(\"Nghiệm của hệ phương trình:\")\n",
    "print(solution)  \n",
    "\n",
    "A = sp.Matrix([[1, 1], [1, -1]])\n",
    "det_A = A.det()\n",
    "print(\"\\nĐịnh thức của ma trận hệ số:\")\n",
    "print(det_A)  \n",
    "\n",
    "homogeneous_solution = sp.solve([c1 + c2, c1 - c2], [c1, c2])\n",
    "print(\"\\nNghiệm của hệ thuần nhất:\")\n",
    "print(homogeneous_solution)  "
   ]
  },
  {
   "cell_type": "code",
   "execution_count": 25,
   "id": "4467ccdf",
   "metadata": {},
   "outputs": [
    {
     "name": "stdout",
     "output_type": "stream",
     "text": [
      "Nghiệm của hệ phương trình khi u = (0,0):\n",
      "{c1: 0, c2: 0}\n"
     ]
    }
   ],
   "source": [
    "import sympy as sp\n",
    "\n",
    "c1, c2 = sp.symbols('c1 c2')\n",
    "u1, u2 = 0, 0  \n",
    "\n",
    "solution = sp.solve([c1 + c2 - u1, c1 - c2 - u2], [c1, c2])\n",
    "print(\"Nghiệm của hệ phương trình khi u = (0,0):\")\n",
    "print(solution) "
   ]
  },
  {
   "cell_type": "code",
   "execution_count": 26,
   "id": "74836bd7",
   "metadata": {},
   "outputs": [
    {
     "name": "stdout",
     "output_type": "stream",
     "text": [
      "Tọa độ ban đầu (chữ F gốc):\n",
      "[[0 0]\n",
      " [0 5]\n",
      " [3 5]\n",
      " [3 4]\n",
      " [1 4]\n",
      " [1 3]\n",
      " [2 3]\n",
      " [2 2]\n",
      " [1 2]\n",
      " [1 0]]\n",
      "\n",
      "Tọa độ sau khi tịnh tiến (a=4, b=2):\n",
      "[[4 2]\n",
      " [4 7]\n",
      " [7 7]\n",
      " [7 6]\n",
      " [5 6]\n",
      " [5 5]\n",
      " [6 5]\n",
      " [6 4]\n",
      " [5 4]\n",
      " [5 2]]\n",
      "\n",
      "Kết quả mong đợi:\n",
      "[[4 2]\n",
      " [4 7]\n",
      " [7 7]\n",
      " [7 6]\n",
      " [5 6]\n",
      " [5 5]\n",
      " [6 5]\n",
      " [6 4]\n",
      " [5 4]\n",
      " [5 2]]\n",
      "\n",
      "Kết quả tính toán có khớp với mong đợi? True\n"
     ]
    }
   ],
   "source": [
    "#2.2.Bài toán ứng dụng: Ma trận biến đổi (ảnh/font chữ/…) \n",
    "\n",
    "import numpy as np\n",
    "\n",
    "P = np.array([\n",
    "    [0, 0, 3, 3, 1, 1, 2, 2, 1, 1], \n",
    "    [0, 5, 5, 4, 4, 3, 3, 2, 2, 0]  \n",
    "])\n",
    "\n",
    "v_delta = np.array([4, 2])\n",
    "\n",
    "P_caua = (P.T + v_delta).T\n",
    "\n",
    "P_caua_alt = P + v_delta.reshape(2, 1)\n",
    "\n",
    "print(\"Tọa độ ban đầu (chữ F gốc):\")\n",
    "print(P.T)  \n",
    "\n",
    "print(\"\\nTọa độ sau khi tịnh tiến (a=4, b=2):\")\n",
    "print(P_caua.T) \n",
    "\n",
    "expected_result = np.array([\n",
    "    [4, 4, 7, 7, 5, 5, 6, 6, 5, 5],  # x + 4\n",
    "    [2, 7, 7, 6, 6, 5, 5, 4, 4, 2]   # y + 2\n",
    "])\n",
    "print(\"\\nKết quả mong đợi:\")\n",
    "print(expected_result.T)\n",
    "\n",
    "print(\"\\nKết quả tính toán có khớp với mong đợi?\", np.array_equal(P_caua, expected_result))"
   ]
  },
  {
   "cell_type": "code",
   "execution_count": 27,
   "id": "9165c2d2",
   "metadata": {},
   "outputs": [
    {
     "name": "stdout",
     "output_type": "stream",
     "text": [
      "Tọa độ sau khi biến đổi (co giãn y gấp đôi + tịnh tiến):\n",
      "[[ 4. -2.]\n",
      " [ 4.  8.]\n",
      " [ 7.  8.]\n",
      " [ 7.  6.]\n",
      " [ 5.  6.]\n",
      " [ 5.  4.]\n",
      " [ 6.  4.]\n",
      " [ 6.  2.]\n",
      " [ 5.  2.]\n",
      " [ 5. -2.]]\n",
      "\n",
      "Kết quả tính toán có khớp với mong đợi? True\n"
     ]
    }
   ],
   "source": [
    "#b.\n",
    "\n",
    "import numpy as np\n",
    "\n",
    "P = np.array([\n",
    "    [0, 0, 3, 3, 1, 1, 2, 2, 1, 1],  \n",
    "    [0, 5, 5, 4, 4, 3, 3, 2, 2, 0]  \n",
    "])\n",
    "\n",
    "v_delta = np.array([4, -2])\n",
    "\n",
    "matran_bien_doi = np.array([\n",
    "    [1.0, 0.0],\n",
    "    [0.0, 2.0]\n",
    "])\n",
    "\n",
    "P_caub = (P.T @ matran_bien_doi + v_delta).T\n",
    "\n",
    "expected_result = np.array([\n",
    "    [0*1 + 4,  0*1 + 4,  3*1 + 4,  3*1 + 4,  1*1 + 4,  1*1 + 4,  2*1 + 4,  2*1 + 4,  1*1 + 4,  1*1 + 4],  # kx + a\n",
    "    [0*2 - 2,  5*2 - 2,  5*2 - 2,  4*2 - 2,  4*2 - 2,  3*2 - 2,  3*2 - 2,  2*2 - 2,  2*2 - 2,  0*2 - 2]   # ly + b\n",
    "])\n",
    "\n",
    "print(\"Tọa độ sau khi biến đổi (co giãn y gấp đôi + tịnh tiến):\")\n",
    "print(P_caub.T)\n",
    "\n",
    "print(\"\\nKết quả tính toán có khớp với mong đợi?\", np.array_equal(P_caub, expected_result))"
   ]
  },
  {
   "cell_type": "code",
   "execution_count": 28,
   "id": "d81c6e0b",
   "metadata": {},
   "outputs": [
    {
     "name": "stdout",
     "output_type": "stream",
     "text": [
      "Tọa độ sau khi đối xứng qua trục y và tịnh tiến:\n",
      "[[5 1]\n",
      " [5 6]\n",
      " [2 6]\n",
      " [2 5]\n",
      " [4 5]\n",
      " [4 4]\n",
      " [3 4]\n",
      " [3 3]\n",
      " [4 3]\n",
      " [4 1]]\n"
     ]
    }
   ],
   "source": [
    "#c. \n",
    "\n",
    "import numpy as np\n",
    "\n",
    "P = np.array([\n",
    "    [0, 0, 3, 3, 1, 1, 2, 2, 1, 1], \n",
    "    [0, 5, 5, 4, 4, 3, 3, 2, 2, 0]   \n",
    "])\n",
    "\n",
    "v_delta = np.array([5, 1])\n",
    "\n",
    "matran_doi_xung = np.array([\n",
    "    [-1, 0],\n",
    "    [ 0, 1]\n",
    "])\n",
    "\n",
    "P_cauc = (P.T @ matran_doi_xung + v_delta).T\n",
    "\n",
    "print(\"Tọa độ sau khi đối xứng qua trục y và tịnh tiến:\")\n",
    "print(P_cauc.T)"
   ]
  },
  {
   "cell_type": "code",
   "execution_count": 29,
   "id": "5587b4fd",
   "metadata": {},
   "outputs": [
    {
     "name": "stdout",
     "output_type": "stream",
     "text": [
      "Tọa độ sau khi shearing và tịnh tiến:\n",
      "[[ 2.  -1. ]\n",
      " [ 2.   4. ]\n",
      " [ 5.   5.5]\n",
      " [ 5.   4.5]\n",
      " [ 3.   3.5]\n",
      " [ 3.   2.5]\n",
      " [ 4.   3. ]\n",
      " [ 4.   2. ]\n",
      " [ 3.   1.5]\n",
      " [ 3.  -0.5]]\n"
     ]
    }
   ],
   "source": [
    "#d. \n",
    "\n",
    "import numpy as np\n",
    "\n",
    "P = np.array([\n",
    "    [0, 0, 3, 3, 1, 1, 2, 2, 1, 1],  \n",
    "    [0, 5, 5, 4, 4, 3, 3, 2, 2, 0]   \n",
    "])\n",
    "\n",
    "v_delta = np.array([2, -1])\n",
    "\n",
    "matran_shearing = np.array([\n",
    "    [1,   0.5], \n",
    "    [0,   1  ]   \n",
    "])\n",
    "\n",
    "P_caud = (P.T @ matran_shearing + v_delta).T\n",
    "\n",
    "print(\"Tọa độ sau khi shearing và tịnh tiến:\")\n",
    "print(P_caud.T)"
   ]
  },
  {
   "cell_type": "code",
   "execution_count": 30,
   "id": "50ac4916",
   "metadata": {},
   "outputs": [
    {
     "name": "stdout",
     "output_type": "stream",
     "text": [
      "Tọa độ sau khi đối xứng qua trục y:\n",
      "[[ 0  0]\n",
      " [ 0  5]\n",
      " [-3  5]\n",
      " [-3  4]\n",
      " [-1  4]\n",
      " [-1  3]\n",
      " [-2  3]\n",
      " [-2  2]\n",
      " [-1  2]\n",
      " [-1  0]]\n"
     ]
    }
   ],
   "source": [
    "import numpy as np\n",
    "\n",
    "P = np.array([\n",
    "    [0, 0, 3, 3, 1, 1, 2, 2, 1, 1], \n",
    "    [0, 5, 5, 4, 4, 3, 3, 2, 2, 0]  \n",
    "])\n",
    "\n",
    "matran_doi_xung = np.array([\n",
    "    [-1,  0],  \n",
    "    [ 0,  1]   \n",
    "])\n",
    "\n",
    "P_doi_xung = (P.T @ matran_doi_xung).T\n",
    "\n",
    "print(\"Tọa độ sau khi đối xứng qua trục y:\")\n",
    "print(P_doi_xung.T)"
   ]
  },
  {
   "cell_type": "code",
   "execution_count": 31,
   "id": "3428bc2c",
   "metadata": {},
   "outputs": [
    {
     "name": "stdout",
     "output_type": "stream",
     "text": [
      "Tọa độ sau khi đối xứng qua đường thẳng y = x:\n",
      "[[0 0]\n",
      " [5 0]\n",
      " [5 3]\n",
      " [4 3]\n",
      " [4 1]\n",
      " [3 1]\n",
      " [3 2]\n",
      " [2 2]\n",
      " [2 1]\n",
      " [0 1]]\n"
     ]
    }
   ],
   "source": [
    "import numpy as np\n",
    "\n",
    "P = np.array([\n",
    "    [0, 0, 3, 3, 1, 1, 2, 2, 1, 1], \n",
    "    [0, 5, 5, 4, 4, 3, 3, 2, 2, 0]   \n",
    "])\n",
    "\n",
    "matran_doi_xung_yx = np.array([\n",
    "    [0, 1],  \n",
    "    [1, 0]   \n",
    "])\n",
    "\n",
    "P_doi_xung_yx = (P.T @ matran_doi_xung_yx).T\n",
    "\n",
    "print(\"Tọa độ sau khi đối xứng qua đường thẳng y = x:\")\n",
    "print(P_doi_xung_yx.T)"
   ]
  },
  {
   "cell_type": "code",
   "execution_count": 32,
   "id": "f489a2b7",
   "metadata": {},
   "outputs": [
    {
     "name": "stdout",
     "output_type": "stream",
     "text": [
      "Kết quả của f1(a, b, c):\n",
      "a - b + c\n"
     ]
    }
   ],
   "source": [
    "#3.1.Kiểm tra một ánh xạ là ánh xạ tuyến tính\n",
    "\n",
    "#f1(a, b, c) \n",
    "\n",
    "import sympy as sp\n",
    "\n",
    "x1, x2, x3 = sp.symbols('x1 x2 x3')\n",
    "a, b, c = sp.symbols('a b c')   \n",
    "\n",
    "bieuthuc1 = x1 - x2 + x3\n",
    "f1 = sp.lambdify([x1, x2, x3], bieuthuc1, 'numpy')\n",
    "\n",
    "ket_qua = f1(a, b, c)\n",
    "print(\"Kết quả của f1(a, b, c):\")\n",
    "print(ket_qua)  "
   ]
  },
  {
   "cell_type": "code",
   "execution_count": 33,
   "id": "e9d9a17c",
   "metadata": {},
   "outputs": [
    {
     "name": "stdout",
     "output_type": "stream",
     "text": [
      "Kết quả của f1(d, e, f):\n",
      "d - e + f\n"
     ]
    }
   ],
   "source": [
    "# f1(d, e, f) \n",
    "\n",
    "import sympy as sp\n",
    "\n",
    "x1, x2, x3 = sp.symbols('x1 x2 x3')\n",
    "d, e, f = sp.symbols('d e f')  \n",
    "\n",
    "bieuthuc1 = x1 - x2 + x3\n",
    "f1 = sp.lambdify([x1, x2, x3], bieuthuc1, 'numpy')\n",
    "\n",
    "ket_qua = f1(d, e, f)\n",
    "print(\"Kết quả của f1(d, e, f):\")\n",
    "print(ket_qua)  "
   ]
  },
  {
   "cell_type": "code",
   "execution_count": 34,
   "id": "bd62ca0d",
   "metadata": {},
   "outputs": [
    {
     "name": "stdout",
     "output_type": "stream",
     "text": [
      "Kết quả của f1(a+d, b+e, c+f):\n",
      "a - b + c + d - e + f\n"
     ]
    }
   ],
   "source": [
    "# f1(a+d, b+e, c+f) \n",
    "\n",
    "import sympy as sp\n",
    "\n",
    "x1, x2, x3 = sp.symbols('x1 x2 x3')\n",
    "a, b, c = sp.symbols('a b c') \n",
    "d, e, f = sp.symbols('d e f') \n",
    "\n",
    "bieuthuc1 = x1 - x2 + x3\n",
    "f1 = sp.lambdify([x1, x2, x3], bieuthuc1, 'numpy')\n",
    "\n",
    "ket_qua = f1(a+d, b+e, c+f)\n",
    "print(\"Kết quả của f1(a+d, b+e, c+f):\")\n",
    "print(ket_qua)  "
   ]
  },
  {
   "cell_type": "code",
   "execution_count": 35,
   "id": "62662448",
   "metadata": {},
   "outputs": [
    {
     "name": "stdout",
     "output_type": "stream",
     "text": [
      "Kết quả so sánh:\n",
      "0\n"
     ]
    }
   ],
   "source": [
    "# f1(a,b,c) + f1(d,e,f) == f1(a+d, b+e, c+f)\n",
    "\n",
    "import sympy as sp\n",
    "\n",
    "a, b, c, d, e, f = sp.symbols('a b c d e f')\n",
    "\n",
    "f1 = sp.lambdify((x1,x2,x3), x1 - x2 + x3, 'numpy')\n",
    "\n",
    "left_side = f1(a,b,c) + f1(d,e,f)   \n",
    "right_side = f1(a+d, b+e, c+f)     \n",
    "\n",
    "ket_qua = sp.simplify(left_side - right_side)\n",
    "print(\"Kết quả so sánh:\")\n",
    "print(ket_qua)  "
   ]
  },
  {
   "cell_type": "code",
   "execution_count": 36,
   "id": "de0ae5ef",
   "metadata": {},
   "outputs": [
    {
     "data": {
      "text/plain": [
       "True"
      ]
     },
     "execution_count": 36,
     "metadata": {},
     "output_type": "execute_result"
    }
   ],
   "source": [
    "#(f1(a,b,c) + f1(d,e,f)).equals( f1(a+d, b+e, c+f)) \n",
    "\n",
    "import sympy as sp\n",
    "\n",
    "a, b, c, d, e, f = sp.symbols('a b c d e f')\n",
    "\n",
    "f1 = sp.lambdify((x1,x2,x3), x1 - x2 + x3, 'numpy')\n",
    "\n",
    "(f1(a,b,c) + f1(d,e,f)).equals(f1(a+d, b+e, c+f))"
   ]
  },
  {
   "cell_type": "code",
   "execution_count": 38,
   "id": "d2abd8dc",
   "metadata": {},
   "outputs": [
    {
     "data": {
      "text/plain": [
       "True"
      ]
     },
     "execution_count": 38,
     "metadata": {},
     "output_type": "execute_result"
    }
   ],
   "source": [
    "import sympy as sp\n",
    "q, a, b, c, d, e, f = sp.symbols('q a b c d e f')\n",
    "x1, x2, x3 = sp.symbols('x1 x2 x3')\n",
    "f1 = sp.lambdify((x1,x2,x3), x1 - x2 + x3)\n",
    "(q*f1(a,b,c) + f1(d,e,f)).equals(f1(q*a+d, q*b+e, q*c+f))"
   ]
  },
  {
   "cell_type": "code",
   "execution_count": 39,
   "id": "4373b7df",
   "metadata": {},
   "outputs": [
    {
     "data": {
      "text/plain": [
       "True"
      ]
     },
     "execution_count": 39,
     "metadata": {},
     "output_type": "execute_result"
    }
   ],
   "source": [
    "#f2\n",
    "\n",
    "import sympy as sp\n",
    "x1, x2, x3 = sp.symbols('x1 x2 x3')\n",
    "q, a, b, c, d, e, f = sp.symbols('q a b c d e f')\n",
    "bieuthuc2 = 2*x1 + 3*x2\n",
    "f2 = sp.lambdify((x1,x2,x3), bieuthuc2)\n",
    "(q*f2(a,b,c) + f2(d,e,f)).equals(f2(q*a+d, q*b+e, q*c+f))"
   ]
  },
  {
   "cell_type": "code",
   "execution_count": 40,
   "id": "094e8691",
   "metadata": {},
   "outputs": [
    {
     "name": "stdout",
     "output_type": "stream",
     "text": [
      "Giá trị α và β: (-5, 3)\n",
      "f(4,5) = Matrix([[7], [1], [-7]])\n"
     ]
    }
   ],
   "source": [
    "#3.2.Tìm tổ hợp tuyến tính cho một ánh xạ tuyến tính \n",
    "\n",
    "import sympy as sp\n",
    "\n",
    "u1 = sp.Matrix([1, 2])\n",
    "u2 = sp.Matrix([3, 5])\n",
    "u3 = sp.Matrix([4, 5])\n",
    "\n",
    "f_u1 = sp.Matrix([1, 1, 2])\n",
    "f_u2 = sp.Matrix([4, 2, 1])\n",
    "\n",
    "alpha, beta = sp.symbols('alpha beta')\n",
    "he_phuong_trinh = [\n",
    "    alpha*u1[0] + beta*u2[0] - u3[0],  # α*1 + β*3 = 4\n",
    "    alpha*u1[1] + beta*u2[1] - u3[1]   # α*2 + β*5 = 5\n",
    "]\n",
    "\n",
    "nghiem = sp.solve(he_phuong_trinh, (alpha, beta))\n",
    "alpha_val = nghiem[alpha]\n",
    "beta_val = nghiem[beta]\n",
    "\n",
    "f_u3 = alpha_val * f_u1 + beta_val * f_u2\n",
    "\n",
    "print(\"Giá trị α và β:\", (alpha_val, beta_val))\n",
    "print(\"f(4,5) =\", f_u3)"
   ]
  },
  {
   "cell_type": "code",
   "execution_count": 41,
   "id": "ab199a0a",
   "metadata": {},
   "outputs": [
    {
     "name": "stdout",
     "output_type": "stream",
     "text": [
      "{a: -5*x + 3*y, b: 2*x - y}\n"
     ]
    }
   ],
   "source": [
    "#3.3.Tìm ánh xạ tuyến tính \n",
    "\n",
    "import sympy as sp\n",
    "a, b = sp.symbols('a b')\n",
    "x, y = sp.symbols('x y')\n",
    "nghiem = sp.solve([a + 3*b - x, 2*a + 5*b - y], [a, b])\n",
    "print(nghiem)"
   ]
  },
  {
   "cell_type": "code",
   "execution_count": 42,
   "id": "ffcb3fbe",
   "metadata": {},
   "outputs": [
    {
     "name": "stdout",
     "output_type": "stream",
     "text": [
      "Ánh xạ tuyến tính f(x,y) = [3*x - y -x + y -8*x + 5*y]\n"
     ]
    }
   ],
   "source": [
    "import numpy as np\n",
    "from sympy import symbols\n",
    "\n",
    "x, y = symbols('x y')\n",
    "a = -5*x + 3*y\n",
    "b = 2*x - y\n",
    "\n",
    "fu1 = np.array([1, 1, 2])\n",
    "fu2 = np.array([4, 2, 1])\n",
    "\n",
    "fu = a*fu1 + b*fu2\n",
    "\n",
    "print(\"Ánh xạ tuyến tính f(x,y) =\", fu)"
   ]
  },
  {
   "cell_type": "code",
   "execution_count": 43,
   "id": "4d03e3a9",
   "metadata": {},
   "outputs": [
    {
     "name": "stdout",
     "output_type": "stream",
     "text": [
      "f(x,y) = Matrix([[3*x - y], [-x + y], [-8*x + 5*y]])\n"
     ]
    }
   ],
   "source": [
    "import sympy as sp\n",
    "\n",
    "x, y = sp.symbols('x y')\n",
    "fu1 = sp.Matrix([1, 1, 2])\n",
    "fu2 = sp.Matrix([4, 2, 1])\n",
    "fu = (-5*x + 3*y)*fu1 + (2*x - y)*fu2\n",
    "print(\"f(x,y) =\", fu)"
   ]
  },
  {
   "cell_type": "code",
   "execution_count": null,
   "id": "48785cd4",
   "metadata": {},
   "outputs": [
    {
     "name": "stdout",
     "output_type": "stream",
     "text": [
      "Nghiệm tổng quát của hệ:\n",
      "{x1: 2*x3, x2: -x3}\n",
      "\n",
      "Cơ sở của Ker(f) (với t=1):\n",
      "Matrix([[2], [-1], [1]])\n"
     ]
    }
   ],
   "source": [
    "#3.4.Tìm nhân của ánh xạ tuyến tính \n",
    "\n",
    "import sympy as sp\n",
    "\n",
    "x1, x2, x3 = sp.symbols('x1 x2 x3')\n",
    "\n",
    "nghiem = sp.solve([\n",
    "    x1 + x2 - x3,      \n",
    "    2*x1 + 3*x2 - x3,   \n",
    "    3*x1 + 5*x2 - x3    \n",
    "], [x1, x2, x3])\n",
    "\n",
    "print(\"Nghiệm tổng quát của hệ:\")\n",
    "print(nghiem)  \n",
    "\n",
    "t = sp.symbols('t')\n",
    "co_so_ker = sp.Matrix([\n",
    "    [2*t],   \n",
    "    [-t],    \n",
    "    [t]     \n",
    "])\n",
    "\n",
    "print(\"\\nCơ sở của Ker(f) (với t=1):\")\n",
    "print(co_so_ker.subs(t, 1)) "
   ]
  },
  {
   "cell_type": "code",
   "execution_count": 45,
   "id": "5242e9a4",
   "metadata": {},
   "outputs": [
    {
     "name": "stdout",
     "output_type": "stream",
     "text": [
      "\n",
      "Kiểm tra f(2, -1, 1) có bằng 0?\n",
      "Matrix([[0], [0], [0]])\n"
     ]
    }
   ],
   "source": [
    "vector_test = sp.Matrix([2, -1, 1]) \n",
    "print(\"\\nKiểm tra f(2, -1, 1) có bằng 0?\")\n",
    "print(sp.Matrix([\n",
    "    2 + (-1) - 1,       \n",
    "    2*2 + 3*(-1) - 1,    \n",
    "    3*2 + 5*(-1) - 1     \n",
    "])) "
   ]
  },
  {
   "cell_type": "code",
   "execution_count": 46,
   "id": "9ee24b7d",
   "metadata": {},
   "outputs": [
    {
     "name": "stdout",
     "output_type": "stream",
     "text": [
      "Hạng của ma trận ảnh: 2\n",
      "\n",
      "Cơ sở của Im(f):\n",
      "Matrix([[1, 0], [0, 1], [0, 0]])\n"
     ]
    }
   ],
   "source": [
    "#3.5 Tìm ảnh của ánh xạ tuyến tính \n",
    "\n",
    "import sympy as sp\n",
    "\n",
    "e1 = sp.Matrix([1, 0, 0])\n",
    "e2 = sp.Matrix([0, 1, 0])\n",
    "e3 = sp.Matrix([0, 0, 1])\n",
    "\n",
    "def f(x):\n",
    "    return sp.Matrix([\n",
    "        x[0] + x[1] - x[2],\n",
    "        2*x[0] + 3*x[1] - x[2],\n",
    "        3*x[0] + 5*x[1] - x[2]\n",
    "    ])\n",
    "\n",
    "f_e1 = f(e1)\n",
    "f_e2 = f(e2)\n",
    "f_e3 = f(e3)\n",
    "\n",
    "A = sp.Matrix.hstack(f_e1, f_e2, f_e3)\n",
    "\n",
    "rank_A = A.rank()\n",
    "print(\"Hạng của ma trận ảnh:\", rank_A)\n",
    "\n",
    "basis_Imf = A.rref()[0][:, :rank_A]\n",
    "print(\"\\nCơ sở của Im(f):\")\n",
    "print(basis_Imf)\n"
   ]
  },
  {
   "cell_type": "code",
   "execution_count": 47,
   "id": "582680f1",
   "metadata": {},
   "outputs": [
    {
     "name": "stdout",
     "output_type": "stream",
     "text": [
      "Ma trận biểu diễn ánh xạ [f]_B^F:\n",
      "Matrix([[-5, 2], [3, -1]])\n"
     ]
    }
   ],
   "source": [
    "#3.6. Ma trận của ánh xạ tuyến tính trong cặp cơ sở \n",
    "\n",
    "import sympy as sp\n",
    "import numpy as np\n",
    "\n",
    "def f(x, y):\n",
    "    return sp.Matrix([x - y, x])\n",
    "\n",
    "u1 = sp.Matrix([-1, 1])\n",
    "u2 = sp.Matrix([1, 0])\n",
    "v1 = sp.Matrix([1, 2])\n",
    "v2 = sp.Matrix([1, 3])\n",
    "\n",
    "f_u1 = f(u1[0], u1[1])  \n",
    "f_u2 = f(u2[0], u2[1])  \n",
    "\n",
    "a1, b1 = sp.symbols('a1 b1')\n",
    "he1 = sp.solve([a1*v1[0] + b1*v2[0] - f_u1[0], \n",
    "               a1*v1[1] + b1*v2[1] - f_u1[1]], [a1, b1])\n",
    "\n",
    "a2, b2 = sp.symbols('a2 b2')\n",
    "he2 = sp.solve([a2*v1[0] + b2*v2[0] - f_u2[0], \n",
    "               a2*v1[1] + b2*v2[1] - f_u2[1]], [a2, b2])\n",
    "\n",
    "A = sp.Matrix([\n",
    "    [he1[a1], he2[a2]],\n",
    "    [he1[b1], he2[b2]]\n",
    "])\n",
    "\n",
    "print(\"Ma trận biểu diễn ánh xạ [f]_B^F:\")\n",
    "print(A)"
   ]
  },
  {
   "cell_type": "code",
   "execution_count": null,
   "id": "e927e512",
   "metadata": {},
   "outputs": [
    {
     "name": "stdout",
     "output_type": "stream",
     "text": [
      "Phương trình sau khi xoay:\n",
      "2*x'**2 + 12*x' + 8*y'**2 - 16*y' + 18\n"
     ]
    }
   ],
   "source": [
    "#4. Bài toán ứng dụng: Đường conic và các phép biến đổi \n",
    "\n",
    "import sympy as sp\n",
    "import numpy as np\n",
    "\n",
    "x, y, x_prime, y_prime, theta = sp.symbols('x y x\\' y\\' θ')\n",
    "eq_original = 5*x**2 - 6*x*y + 5*y**2 + 14*sp.sqrt(2)*x - 2*sp.sqrt(2)*y + 18\n",
    "\n",
    "a, b, c = 5, -6, 5\n",
    "cos_2theta = (a - c)/b  \n",
    "theta_val = sp.pi/4\n",
    "\n",
    "cos_theta = sp.cos(theta_val)  \n",
    "sin_theta = sp.sin(theta_val)  \n",
    "\n",
    "transform = {\n",
    "    x: x_prime*cos_theta - y_prime*sin_theta,\n",
    "    y: x_prime*sin_theta + y_prime*cos_theta\n",
    "}\n",
    "\n",
    "eq_transformed = eq_original.subs(transform)\n",
    "\n",
    "eq_simplified = sp.simplify(eq_transformed)\n",
    "print(\"Phương trình sau khi xoay:\")\n",
    "print(eq_simplified)"
   ]
  },
  {
   "cell_type": "markdown",
   "id": "bdef9f6b",
   "metadata": {},
   "source": [
    "### BÀI TẬP CHƯƠNG 8"
   ]
  },
  {
   "cell_type": "code",
   "execution_count": 49,
   "id": "25e91776",
   "metadata": {},
   "outputs": [
    {
     "name": "stdout",
     "output_type": "stream",
     "text": [
      "Tính cộng tính thỏa mãn? False\n",
      "Tính thuần nhất thỏa mãn? False\n"
     ]
    }
   ],
   "source": [
    "#Câu 1: Kiểm xem ánh xạ sau có phải là ánh xạ tuyến tính hay không? \n",
    "\n",
    "import sympy as sp\n",
    "\n",
    "x1, y1, z1 = sp.symbols('x1 y1 z1')  \n",
    "x2, y2, z2 = sp.symbols('x2 y2 z2')  \n",
    "k = sp.symbols('k')                  \n",
    "\n",
    "def g(x, y, z):\n",
    "    return sp.Matrix([x + y, z + 2, 0])\n",
    "\n",
    "u = sp.Matrix([x1, y1, z1])\n",
    "v = sp.Matrix([x2, y2, z2])\n",
    "left_add = g(u[0] + v[0], u[1] + v[1], u[2] + v[2])  \n",
    "right_add = g(u[0], u[1], u[2]) + g(v[0], v[1], v[2]) \n",
    "print(\"Tính cộng tính thỏa mãn?\", left_add.equals(right_add)) \n",
    "\n",
    "left_homo = g(k*u[0], k*u[1], k*u[2])  \n",
    "right_homo = k * g(u[0], u[1], u[2])    \n",
    "print(\"Tính thuần nhất thỏa mãn?\", left_homo.equals(right_homo))  "
   ]
  },
  {
   "cell_type": "code",
   "execution_count": null,
   "id": "fd36c600",
   "metadata": {},
   "outputs": [
    {
     "data": {
      "image/png": "[encoded data removed]",
      "text/plain": [
       "<Figure size 1000x500 with 2 Axes>"
      ]
     },
     "metadata": {},
     "output_type": "display_data"
    }
   ],
   "source": [
    "#Cau2:\n",
    "\n",
    "import numpy as np\n",
    "import matplotlib.pyplot as plt\n",
    "\n",
    "A = np.array([\n",
    "    [0, 1], \n",
    "    [1, -1]\n",
    "]) \n",
    "\n",
    "P = np.array([\n",
    "    [0, 0, 3, 3, 1, 1, 2, 2, 1, 1], \n",
    "    [0, 5, 5, 4, 4, 3, 3, 2, 2, 0]    \n",
    "])  \n",
    "\n",
    "P_transformed = A @ P\n",
    "\n",
    "plt.figure(figsize=(10, 5))\n",
    "\n",
    "plt.subplot(1, 2, 1)\n",
    "plt.plot(P[0], P[1], 'b-', linewidth=2)\n",
    "plt.title('Chữ F ban đầu')\n",
    "plt.grid(True)\n",
    "\n",
    "plt.subplot(1, 2, 2)\n",
    "plt.plot(P_transformed[0], P_transformed[1], 'r-', linewidth=2)\n",
    "plt.title('Chữ F sau biến đổi')\n",
    "plt.grid(True)\n",
    "\n",
    "plt.show()  "
   ]
  },
  {
   "cell_type": "code",
   "execution_count": 52,
   "id": "9c67203a",
   "metadata": {},
   "outputs": [
    {
     "name": "stdout",
     "output_type": "stream",
     "text": [
      "Tính cộng tính thỏa mãn? True\n",
      "Tính thuần nhất thỏa mãn? True\n"
     ]
    }
   ],
   "source": [
    "#Cau3\n",
    "\n",
    "import sympy as sp\n",
    "\n",
    "v1, v2, u1, u2, k = sp.symbols('v1 v2 u1 u2 k')\n",
    "\n",
    "def T(a, b):\n",
    "    return sp.Matrix([-b, 2*a])\n",
    "\n",
    "u = sp.Matrix([u1, u2])\n",
    "v = sp.Matrix([v1, v2])\n",
    "left_add = T(u1 + v1, u2 + v2)          \n",
    "right_add = T(u1, u2) + T(v1, v2)       \n",
    "print(\"Tính cộng tính thỏa mãn?\", left_add.equals(right_add))  \n",
    "\n",
    "left_homo = T(k*v1, k*v2)               \n",
    "right_homo = k * T(v1, v2)             \n",
    "print(\"Tính thuần nhất thỏa mãn?\", left_homo.equals(right_homo))  "
   ]
  },
  {
   "cell_type": "code",
   "execution_count": 53,
   "id": "49d29003",
   "metadata": {},
   "outputs": [
    {
     "name": "stdout",
     "output_type": "stream",
     "text": [
      "Giá trị riêng: [18.  8.]\n",
      "Ma trận P:\n",
      " [[ 0.70710678  0.70710678]\n",
      " [-0.70710678  0.70710678]]\n",
      "Góc xoay θ (độ): -45.0\n"
     ]
    }
   ],
   "source": [
    "#Cau4\n",
    "\n",
    "import numpy as np\n",
    "import sympy as sp\n",
    "\n",
    "A = np.array([\n",
    "    [13, -5],\n",
    "    [-5, 13]\n",
    "])\n",
    "\n",
    "eigenvalues, eigenvectors = np.linalg.eig(A)\n",
    "lambda1, lambda2 = eigenvalues\n",
    "P = eigenvectors \n",
    "\n",
    "theta = np.arctan2(P[1, 0], P[0, 0])\n",
    "theta_deg = np.degrees(theta)  \n",
    "\n",
    "print(\"Giá trị riêng:\", eigenvalues)\n",
    "print(\"Ma trận P:\\n\", P)\n",
    "print(\"Góc xoay θ (độ):\", theta_deg)"
   ]
  },
  {
   "cell_type": "code",
   "execution_count": 54,
   "id": "9bed468c",
   "metadata": {},
   "outputs": [
    {
     "name": "stdout",
     "output_type": "stream",
     "text": [
      "Ma trận chéo D:\n",
      " [[ 1.8000000e+01  0.0000000e+00]\n",
      " [-8.8817842e-16  8.0000000e+00]]\n",
      "Phương trình sau xoay: 18.0*x**2 + 8.0*y**2 - 72.0\n"
     ]
    }
   ],
   "source": [
    "D = P.T @ A @ P  \n",
    "print(\"Ma trận chéo D:\\n\", D)\n",
    "\n",
    "x, y = sp.symbols('x y')\n",
    "x_prime = x * np.cos(theta) - y * np.sin(theta)\n",
    "y_prime = x * np.sin(theta) + y * np.cos(theta)\n",
    "eq_rotated = 13*x_prime**2 - 10*x_prime*y_prime + 13*y_prime**2 - 72\n",
    "simplified_eq = sp.simplify(eq_rotated)\n",
    "print(\"Phương trình sau xoay:\", simplified_eq) "
   ]
  }
 ],
 "metadata": {
  "kernelspec": {
   "display_name": "Python 3",
   "language": "python",
   "name": "python3"
  },
  "language_info": {
   "codemirror_mode": {
    "name": "ipython",
    "version": 3
   },
   "file_extension": ".py",
   "mimetype": "text/x-python",
   "name": "python",
   "nbconvert_exporter": "python",
   "pygments_lexer": "ipython3",
   "version": "3.11.0"
  }
 },
 "nbformat": 4,
 "nbformat_minor": 5
}
