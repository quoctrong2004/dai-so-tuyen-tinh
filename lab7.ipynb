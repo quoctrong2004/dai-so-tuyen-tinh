{
 "cells": [
  {
   "cell_type": "markdown",
   "id": "0f70328b",
   "metadata": {},
   "source": [
    "# CHƯƠNG 7: KHÔNG GIAN VECTOR VÀ ÁNH XẠ TUYẾN TÍNH (PHẦN 1)"
   ]
  },
  {
   "cell_type": "markdown",
   "id": "c2d339bd",
   "metadata": {},
   "source": [
    "### 1. Giới thiệu một số ứng dụng của tích vector (dot product) "
   ]
  },
  {
   "cell_type": "code",
   "execution_count": 1,
   "id": "853d42c9",
   "metadata": {},
   "outputs": [
    {
     "data": {
      "text/plain": [
       "array([ 1,  5, 30])"
      ]
     },
     "execution_count": 1,
     "metadata": {},
     "output_type": "execute_result"
    }
   ],
   "source": [
    "import numpy as np\n",
    "signals = np.array([[1,2],[3,4],[10,0]])\n",
    "sample = np.array([3,-1])\n",
    "np.inner(signals, sample) "
   ]
  },
  {
   "cell_type": "markdown",
   "id": "f19360ec",
   "metadata": {},
   "source": [
    "### 1.1.Ứng dụng 1 – Nguyên lý tìm nốt nhạc trong chuỗi âm thanh (Audio search)"
   ]
  },
  {
   "cell_type": "code",
   "execution_count": 2,
   "id": "772f85d0",
   "metadata": {},
   "outputs": [
    {
     "data": {
      "text/plain": [
       "(10, 3)"
      ]
     },
     "execution_count": 2,
     "metadata": {},
     "output_type": "execute_result"
    }
   ],
   "source": [
    "import numpy as np\n",
    "A = np.array([0,0,-1,2,3,-1,0,1,-1,-1])\n",
    "search_vector = np.array([0,1,-1])\n",
    "len(A), len(search_vector) # nghĩa là = (10, 3)"
   ]
  },
  {
   "cell_type": "code",
   "execution_count": 10,
   "id": "b947db19",
   "metadata": {},
   "outputs": [
    {
     "name": "stdout",
     "output_type": "stream",
     "text": [
      "[[ 0  0 -1]\n",
      " [ 0 -1  2]\n",
      " [-1  2  3]\n",
      " [ 2  3 -1]\n",
      " [ 3 -1  0]\n",
      " [-1  0  1]\n",
      " [ 0  1 -1]\n",
      " [ 1 -1 -1]]\n"
     ]
    }
   ],
   "source": [
    "B = np.array([1])\n",
    "B = np.resize(B, (len(A)-len(search_vector)+1, len(search_vector)))\n",
    "B = np.asmatrix(B)\n",
    "for i in range(len(A)-len(search_vector)+1): # so dong\n",
    "    for j in range(len(search_vector)):\n",
    "        B[i,j] = A[i+j]\n",
    "\n",
    "print(B)"
   ]
  },
  {
   "cell_type": "code",
   "execution_count": 12,
   "id": "d11b3255",
   "metadata": {},
   "outputs": [
    {
     "name": "stdout",
     "output_type": "stream",
     "text": [
      "6 [[ 0  1 -1]]\n"
     ]
    }
   ],
   "source": [
    "C = np.inner(B, search_vector)\n",
    "for i in range(len(A)-len(search_vector)+1): # tìm vị trí của vector vừa tìm thấy\n",
    "    if ( C[0,i] == np.inner(search_vector, search_vector) ):\n",
    "        print(i,B[i])"
   ]
  },
  {
   "cell_type": "markdown",
   "id": "be9da675",
   "metadata": {},
   "source": [
    "### 1.2.Ứng dụng 2 – Tạo ảnh mẫu và làm mờ ảnh "
   ]
  },
  {
   "cell_type": "code",
   "execution_count": 1,
   "id": "ef0fa775",
   "metadata": {},
   "outputs": [
    {
     "data": {
      "text/plain": [
       "'C:/Users/QUOC TRONG/Desktop/Đại số tuyến tính và ứng dụng/Lab7/hinhanhlammo.jpg'"
      ]
     },
     "execution_count": 1,
     "metadata": {},
     "output_type": "execute_result"
    }
   ],
   "source": [
    "from PIL import Image, ImageDraw\n",
    "\n",
    "# Mở hình ảnh đầu vào\n",
    "input_image = Image.open(\"C:/Users/QUOC TRONG/Desktop/Đại số tuyến tính và ứng dụng/Lab7/hinhanh.jpg\")\n",
    "input_pixels = input_image.load()\n",
    "\n",
    "# Bộ lọc làm mờ (blur kernel)\n",
    "box_kernel = [\n",
    "    [1/9, 1/9, 1/9],\n",
    "    [1/9, 1/9, 1/9],\n",
    "    [1/9, 1/9, 1/9]\n",
    "]\n",
    "\n",
    "kernel = box_kernel\n",
    "offset = len(kernel) // 2\n",
    "\n",
    "# Tạo ảnh đầu ra\n",
    "output_image = Image.new(\"RGB\", input_image.size)\n",
    "draw = ImageDraw.Draw(output_image)\n",
    "\n",
    "# Áp dụng bộ lọc làm mờ\n",
    "for x in range(offset, input_image.width - offset):\n",
    "    for y in range(offset, input_image.height - offset):\n",
    "        acc = [0, 0, 0]\n",
    "        for a in range(len(kernel)):\n",
    "            for b in range(len(kernel)):\n",
    "                xn = x + a - offset\n",
    "                yn = y + b - offset\n",
    "                pixel = input_pixels[xn, yn]\n",
    "                acc[0] += pixel[0] * kernel[a][b]\n",
    "                acc[1] += pixel[1] * kernel[a][b]\n",
    "                acc[2] += pixel[2] * kernel[a][b]\n",
    "        draw.point((x, y), (int(acc[0]), int(acc[1]), int(acc[2])))\n",
    "\n",
    "# Lưu ảnh sau khi làm mờ\n",
    "output_path = \"C:/Users/QUOC TRONG/Desktop/Đại số tuyến tính và ứng dụng/Lab7/hinhanhlammo.jpg\"\n",
    "output_image.save(output_path)\n",
    "\n",
    "output_path\n"
   ]
  },
  {
   "cell_type": "markdown",
   "id": "fd0bdb28",
   "metadata": {},
   "source": [
    "### 2. Ứng dụng: Xếp hạng các trang web với trị riêng và vector riêng"
   ]
  },
  {
   "cell_type": "markdown",
   "id": "38dd5359",
   "metadata": {},
   "source": [
    "##### 2.1.Đơn giản hóa thuật toán Pagerank "
   ]
  },
  {
   "cell_type": "code",
   "execution_count": 24,
   "id": "b8b36378",
   "metadata": {},
   "outputs": [],
   "source": [
    "import numpy as np\n",
    "A = np.array([[0,0,1.0/2, 1.0/2],\n",
    " [1.0/3,0,0,0],\n",
    " [1.0/3,0,0,1.0/2],\n",
    " [1.0/3,1.0,1.0/2,0]])\n",
    "x = np.array([1,1,1,1]) "
   ]
  },
  {
   "cell_type": "code",
   "execution_count": 25,
   "id": "231a62d5",
   "metadata": {},
   "outputs": [
    {
     "name": "stdout",
     "output_type": "stream",
     "text": [
      "[1.         0.33333333 0.83333333 1.83333333]\n"
     ]
    }
   ],
   "source": [
    "x = np.dot(A, x)\n",
    "print (x)"
   ]
  },
  {
   "cell_type": "code",
   "execution_count": 26,
   "id": "e14a8ef3",
   "metadata": {},
   "outputs": [
    {
     "name": "stdout",
     "output_type": "stream",
     "text": [
      "1 [1.         0.33333333 0.83333333 1.83333333]\n",
      "2 [1.33333333 0.33333333 1.25       1.08333333]\n",
      "3 [1.16666667 0.44444444 0.98611111 1.40277778]\n",
      "4 [1.19444444 0.38888889 1.09027778 1.32638889]\n",
      "5 [1.20833333 0.39814815 1.06134259 1.33217593]\n",
      "6 [1.19675926 0.40277778 1.06886574 1.33159722]\n",
      "7 [1.20023148 0.39891975 1.06471836 1.3361304 ]\n",
      "8 [1.20042438 0.40007716 1.06814236 1.3313561 ]\n",
      "9 [1.19974923 0.40014146 1.06581951 1.3342898 ]\n",
      "10 [1.20005466 0.39991641 1.06706131 1.33296762]\n"
     ]
    }
   ],
   "source": [
    "# Hoặc \n",
    "x = np.array([1.0, 1.0, 1.0, 1.0])\n",
    "for i in range(10):\n",
    "    x = np.dot(A, x)\n",
    "    print (i+1, x) "
   ]
  },
  {
   "cell_type": "markdown",
   "id": "2bd16ff3",
   "metadata": {},
   "source": [
    "##### 2.2. [Đọc thêm] Xử lý dangling node trong thuật toán Pagerank"
   ]
  },
  {
   "cell_type": "code",
   "execution_count": 27,
   "id": "550587f4",
   "metadata": {},
   "outputs": [
    {
     "name": "stdout",
     "output_type": "stream",
     "text": [
      "1 [0.53353066 0.40001822 0.40001822 1.33346528]\n",
      "2 [0.20000911 0.17784355 0.17784355 0.77787088]\n",
      "3 [0.08892178 0.0666697  0.0666697  0.33343503]\n",
      "4 [0.03333485 0.02964059 0.02964059 0.12964515]\n",
      "5 [0.0148203  0.01111162 0.01111162 0.05557251]\n"
     ]
    }
   ],
   "source": [
    "A = np.array([[0,0,1.0/2, 0.0],\n",
    " [1.0/3,0,0,0],\n",
    " [1.0/3,0,0,0.0],\n",
    " [1.0/3,1.0,1.0/2,0]])\n",
    "for i in range(5):\n",
    "    x = np.dot(A, x)\n",
    "    print (i+1, x) "
   ]
  },
  {
   "cell_type": "code",
   "execution_count": 30,
   "id": "6f7c3d44",
   "metadata": {},
   "outputs": [
    {
     "name": "stdout",
     "output_type": "stream",
     "text": [
      "1 [0.75       0.58333333 0.58333333 2.08333333]\n",
      "2 [0.8125     0.77083333 0.77083333 1.64583333]\n",
      "3 [0.796875   0.68229167 0.68229167 1.83854167]\n",
      "4 [0.80078125 0.72526042 0.72526042 1.74869792]\n",
      "5 [0.79980469 0.70410156 0.70410156 1.79199219]\n",
      "6 [0.80004883 0.71459961 0.71459961 1.77075195]\n",
      "7 [0.79998779 0.70937093 0.70937093 1.78127035]\n"
     ]
    }
   ],
   "source": [
    "x = np.array([1.0, 1.0, 1.0, 1.0])\n",
    "A = np.array([[0,0,1.0/2, 1/4.0],\n",
    "    [1.0/3,0,0,1/4.0],\n",
    "    [1.0/3,0,0,1/4.0],\n",
    "    [1.0/3,1.0,1.0/2,1/4.0]])\n",
    "for i in range(7):\n",
    "    x = np.dot(A, x)\n",
    "    print (i+1, x) "
   ]
  },
  {
   "cell_type": "code",
   "execution_count": 32,
   "id": "09feffe5",
   "metadata": {},
   "outputs": [
    {
     "data": {
      "text/plain": [
       "1.7812703450520826"
      ]
     },
     "execution_count": 32,
     "metadata": {},
     "output_type": "execute_result"
    }
   ],
   "source": [
    "np.max(x) #  kết quả node D là node có giá trị lớn nhất\n"
   ]
  },
  {
   "cell_type": "markdown",
   "id": "5d91b518",
   "metadata": {},
   "source": [
    "##### 2.3. [Đọc thêm] Xử lý nhánh web reducible"
   ]
  },
  {
   "cell_type": "code",
   "execution_count": 33,
   "id": "2ba0a00c",
   "metadata": {},
   "outputs": [
    {
     "name": "stdout",
     "output_type": "stream",
     "text": [
      "1 [0.0625     0.10416667 0.04166667 0.16666667 0.125      0.1875\n",
      " 0.25       0.0625    ]\n",
      "2 [0.02083333 0.04166667 0.02083333 0.09375    0.14583333 0.28125\n",
      " 0.23958333 0.09375   ]\n",
      "3 [0.01041667 0.01736111 0.00694444 0.03819444 0.16145833 0.28645833\n",
      " 0.23958333 0.140625  ]\n",
      "4 [0.00347222 0.00694444 0.00347222 0.015625   0.15190972 0.30989583\n",
      " 0.25086806 0.14322917]\n",
      "5 [0.00173611 0.00289352 0.00115741 0.00636574 0.15842014 0.32248264\n",
      " 0.23133681 0.15494792]\n",
      "6 [0.0005787  0.00115741 0.0005787  0.00260417 0.16268808 0.30881076\n",
      " 0.23907697 0.16124132]\n",
      "7 [2.89351852e-04 4.82253086e-04 1.92901235e-04 1.06095679e-03\n",
      " 1.54984086e-01 3.19697627e-01 2.44610822e-01 1.54405382e-01]\n"
     ]
    }
   ],
   "source": [
    "A = np.array([[0.0, 0.0, 1/2.0, 0.0, 0.0, 0.0, 0.0, 0.0],\n",
    " [1.0/3, 0.0, 1/2.0, 0.0, 0.0, 0.0, 0.0, 0.0],\n",
    " [1/3.0, 0.0, 0.0, 0.0, 0.0, 0.0, 0.0, 0.0],\n",
    " [1.0/3,1/2.0,1/2.0, 0.0, 0.0, 0.0, 0.0, 0.0],\n",
    " [0.0 ,1/2.0, 0.0, 0.0, 0.0,1/2.0, 0.0,0.0],\n",
    " [0.0, 0.0, 0.0,0.0, 0.0, 0.0, 1.0,1/2.0],\n",
    " [0.0, 0.0, 0.0,1/2.0, 1.0, 0.0, 0.0, 1/2.0],\n",
    " [0.0, 0.0, 0.0,0.0, 0.0,1/2.0, 0.0, 0.0]])\n",
    "N = 8\n",
    "x = np.array([1.0/N, 1.0/N, 1.0/N, 1.0/N, 1.0/N, 1.0/N, 1.0/N, 1.0/N])\n",
    "for i in range(7):\n",
    "    x = np.dot(A, x)\n",
    "    print (i+1, x)"
   ]
  },
  {
   "cell_type": "code",
   "execution_count": 38,
   "id": "91c39686",
   "metadata": {},
   "outputs": [
    {
     "name": "stdout",
     "output_type": "stream",
     "text": [
      "[[0.01875 0.01875 0.86875 0.01875 0.01875 0.01875 0.01875 0.86875]\n",
      " [0.86875 0.01875 0.01875 0.01875 0.01875 0.01875 0.01875 0.01875]\n",
      " [0.01875 0.86875 0.01875 0.86875 0.01875 0.01875 0.01875 0.01875]\n",
      " [0.01875 0.01875 0.01875 0.01875 0.01875 0.01875 0.86875 0.01875]\n",
      " [0.01875 0.01875 0.01875 0.86875 0.01875 0.01875 0.01875 0.01875]\n",
      " [0.01875 0.01875 0.01875 0.01875 0.86875 0.01875 0.01875 0.01875]\n",
      " [0.01875 0.01875 0.01875 0.01875 0.01875 0.86875 0.01875 0.01875]\n",
      " [0.01875 0.01875 0.01875 0.01875 0.01875 0.86875 0.01875 0.01875]]\n"
     ]
    }
   ],
   "source": [
    "# Sinh viên tính toán ma trận M bằng Python như đoạn mã dưới đây:\n",
    "d = 0.85\n",
    "N = 8\n",
    "x = np.array([1.0/N, 1.0/N, 1.0/N, 1.0/N, 1.0/N, 1.0/N, 1.0/N, 1.0/N])\n",
    "A = np.array([\n",
    "    [0,   0,   1,   0,   0,   0,   0,   1],\n",
    "    [1,   0,   0,   0,   0,   0,   0,   0],\n",
    "    [0,   1,   0,   1,   0,   0,   0,   0],\n",
    "    [0,   0,   0,   0,   0,   0,   1,   0],\n",
    "    [0,   0,   0,   1,   0,   0,   0,   0],\n",
    "    [0,   0,   0,   0,   1,   0,   0,   0],\n",
    "    [0,   0,   0,   0,   0,   1,   0,   0],\n",
    "    [0,   0,   0,   0,   0,   1,   0,   0]\n",
    "], dtype=float)\n",
    "M = d*A + ((1-d)/N)* np.ones([N,N])\n",
    "print(M)"
   ]
  },
  {
   "cell_type": "code",
   "execution_count": 37,
   "id": "256f550f",
   "metadata": {},
   "outputs": [
    {
     "name": "stdout",
     "output_type": "stream",
     "text": [
      "1 [0.25  0.125 0.25  0.125 0.125 0.125 0.125 0.125]\n",
      "2 [0.375 0.25  0.25  0.125 0.125 0.125 0.125 0.125]\n",
      "3 [0.375 0.375 0.375 0.125 0.125 0.125 0.125 0.125]\n",
      "4 [0.5   0.375 0.5   0.125 0.125 0.125 0.125 0.125]\n",
      "5 [0.625 0.5   0.5   0.125 0.125 0.125 0.125 0.125]\n",
      "6 [0.625 0.625 0.625 0.125 0.125 0.125 0.125 0.125]\n",
      "7 [0.75  0.625 0.75  0.125 0.125 0.125 0.125 0.125]\n"
     ]
    }
   ],
   "source": [
    "for i in range(7):\n",
    "    x = np.dot(A, x)\n",
    "    print (i+1, x) "
   ]
  },
  {
   "cell_type": "markdown",
   "id": "fa0d903d",
   "metadata": {},
   "source": [
    "# BÀI TẬP CHƯƠNG 7 "
   ]
  },
  {
   "cell_type": "code",
   "execution_count": 41,
   "id": "8b601d42",
   "metadata": {},
   "outputs": [
    {
     "name": "stdout",
     "output_type": "stream",
     "text": [
      "Ma trận Gaussian kernel đã chuẩn hóa:\n",
      "[[0.00390625 0.015625   0.0234375  0.015625   0.00390625]\n",
      " [0.015625   0.0625     0.09375    0.0625     0.015625  ]\n",
      " [0.0234375  0.09375    0.140625   0.09375    0.0234375 ]\n",
      " [0.015625   0.0625     0.09375    0.0625     0.015625  ]\n",
      " [0.00390625 0.015625   0.0234375  0.015625   0.00390625]]\n"
     ]
    }
   ],
   "source": [
    "# Câu 1\n",
    "import numpy as np\n",
    "\n",
    "# Ma trận Gaussian kernel (bản gốc từ tài liệu)\n",
    "gaussian_kernel = np.array([[1, 4, 6, 4, 1],\n",
    "                           [4, 16, 24, 16, 4],\n",
    "                           [6, 24, 36, 24, 6],\n",
    "                           [4, 16, 24, 16, 4],\n",
    "                           [1, 4, 6, 4, 1]])\n",
    "\n",
    "# Chuẩn hóa ma trận để tổng bằng 1 (phân số 256)\n",
    "gaussian_kernel = gaussian_kernel / 256.0\n",
    "\n",
    "# In ma trận Gaussian kernel đã chuẩn hóa\n",
    "print(\"Ma trận Gaussian kernel đã chuẩn hóa:\")\n",
    "print(gaussian_kernel)\n"
   ]
  },
  {
   "cell_type": "code",
   "execution_count": 2,
   "id": "a844dce9",
   "metadata": {},
   "outputs": [
    {
     "name": "stdout",
     "output_type": "stream",
     "text": [
      "Ma trận kết quả sau phép nhân:\n",
      "[[ 1 -8  1]\n",
      " [-2 34 -2]\n",
      " [ 1 -8  1]]\n"
     ]
    }
   ],
   "source": [
    "# Câu 2\n",
    "import numpy as np\n",
    "\n",
    "# Ma trận \"nhân\" ban đầu a và b\n",
    "a = np.array([[0, -1, 0],\n",
    "              [-1, 4, -1],\n",
    "              [0, -1, 0]])\n",
    "\n",
    "b = np.array([[-1, -1, -1],\n",
    "              [-1, 8, -1],\n",
    "              [-1, -1, -1]])\n",
    "\n",
    "# Thực hiện phép nhân ma trận\n",
    "result = np.dot(a, b)\n",
    "\n",
    "# In kết quả\n",
    "print(\"Ma trận kết quả sau phép nhân:\")\n",
    "print(result)\n"
   ]
  }
 ],
 "metadata": {
  "kernelspec": {
   "display_name": "Python 3",
   "language": "python",
   "name": "python3"
  },
  "language_info": {
   "codemirror_mode": {
    "name": "ipython",
    "version": 3
   },
   "file_extension": ".py",
   "mimetype": "text/x-python",
   "name": "python",
   "nbconvert_exporter": "python",
   "pygments_lexer": "ipython3",
   "version": "3.11.0"
  }
 },
 "nbformat": 4,
 "nbformat_minor": 5
}
