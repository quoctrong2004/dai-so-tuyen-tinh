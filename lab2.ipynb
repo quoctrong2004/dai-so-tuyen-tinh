{
 "cells": [
  {
   "cell_type": "markdown",
   "id": "6597bd57",
   "metadata": {},
   "source": [
    "## CHƯƠNG 2: MA TRẬN VÀ HỆ PHƯƠNG TRÌNH TUYẾN TÍNH "
   ]
  },
  {
   "cell_type": "markdown",
   "id": "f146ef06",
   "metadata": {},
   "source": [
    "Hàm “scale” tỉ số vector bằng một giá trị thực"
   ]
  },
  {
   "cell_type": "code",
   "execution_count": 5,
   "id": "11e9069a",
   "metadata": {},
   "outputs": [
    {
     "name": "stdout",
     "output_type": "stream",
     "text": [
      "[30, 50, 70]\n"
     ]
    }
   ],
   "source": [
    "def scale(a, v):\n",
    "    return [a * vi for vi in v]\n",
    "\n",
    "v = [3, 5, 7]\n",
    "print(scale(10, v))\n"
   ]
  },
  {
   "cell_type": "markdown",
   "id": "5720ac36",
   "metadata": {},
   "source": [
    "Hàm lấy tổng hai vector"
   ]
  },
  {
   "cell_type": "code",
   "execution_count": 6,
   "id": "7a6640c4",
   "metadata": {},
   "outputs": [
    {
     "name": "stdout",
     "output_type": "stream",
     "text": [
      "[5, 9, 13]\n"
     ]
    }
   ],
   "source": [
    "def sumvector(v, w):\n",
    "    return [vi + wi for (vi, wi) in zip(v, w)]\n",
    "\n",
    "v = [3, 5, 7]\n",
    "w = [2, 4, 6]\n",
    "print(sumvector(v, w))\n"
   ]
  },
  {
   "cell_type": "markdown",
   "id": "cf618247",
   "metadata": {},
   "source": [
    "Hàm nhân 2 vector vô hướng"
   ]
  },
  {
   "cell_type": "code",
   "execution_count": 7,
   "id": "dc24933f",
   "metadata": {},
   "outputs": [
    {
     "name": "stdout",
     "output_type": "stream",
     "text": [
      "68\n"
     ]
    }
   ],
   "source": [
    "def dotvector(v, w):\n",
    "    return sum([vi * wi for (vi, wi) in zip(v, w)])\n",
    "\n",
    "v = [3, 5, 7]\n",
    "w = [2, 4, 6]\n",
    "\n",
    "print(dotvector(v, w))\n"
   ]
  },
  {
   "cell_type": "markdown",
   "id": "81907aa7",
   "metadata": {},
   "source": [
    "Hàm tính chiều dài một vector"
   ]
  },
  {
   "cell_type": "code",
   "execution_count": 8,
   "id": "4ca989a4",
   "metadata": {},
   "outputs": [
    {
     "name": "stdout",
     "output_type": "stream",
     "text": [
      "7.483314773547883\n"
     ]
    }
   ],
   "source": [
    "import math\n",
    "\n",
    "def dotvector(v, w):\n",
    "    return sum([vi * wi for (vi, wi) in zip(v, w)])\n",
    "\n",
    "def lenvector(v):\n",
    "    return math.sqrt(dotvector(v, v))\n",
    "\n",
    "w = [2, 4, 6]\n",
    "print(lenvector(w))\n"
   ]
  },
  {
   "cell_type": "markdown",
   "id": "159346fa",
   "metadata": {},
   "source": [
    "## 2. Bài toán ứng dụng 1 – Phân loại tuyến tính "
   ]
  },
  {
   "cell_type": "markdown",
   "id": "d667f1b9",
   "metadata": {},
   "source": [
    "scores  = np.array([-1, 1, 2, -3, 5, -4]) "
   ]
  },
  {
   "cell_type": "code",
   "execution_count": 12,
   "id": "4405a6ca",
   "metadata": {},
   "outputs": [
    {
     "data": {
      "text/plain": [
       "array([-1,  1,  2, -3,  5, -4])"
      ]
     },
     "execution_count": 12,
     "metadata": {},
     "output_type": "execute_result"
    }
   ],
   "source": [
    "import numpy as np\n",
    "\n",
    "scores = np.array([-1, 1, 2, -3, 5, -4])\n",
    "scores"
   ]
  },
  {
   "cell_type": "markdown",
   "id": "25257ba5",
   "metadata": {},
   "source": [
    "scores >= 0 "
   ]
  },
  {
   "cell_type": "code",
   "execution_count": 22,
   "id": "cd9d60f9",
   "metadata": {},
   "outputs": [
    {
     "data": {
      "text/plain": [
       "array([False,  True,  True, False,  True, False])"
      ]
     },
     "execution_count": 22,
     "metadata": {},
     "output_type": "execute_result"
    }
   ],
   "source": [
    "import numpy as np\n",
    "scores = np.array([-1, 1, 2, -3, 5, -4])\n",
    "scores >= 0"
   ]
  },
  {
   "cell_type": "markdown",
   "id": "270a0f91",
   "metadata": {},
   "source": [
    "scores < 0 "
   ]
  },
  {
   "cell_type": "code",
   "execution_count": null,
   "id": "8bbdc5b6",
   "metadata": {},
   "outputs": [
    {
     "data": {
      "text/plain": [
       "array([ True, False, False,  True, False,  True])"
      ]
     },
     "execution_count": 17,
     "metadata": {},
     "output_type": "execute_result"
    }
   ],
   "source": [
    "import numpy as np\n",
    "scores = np.array([-1, 1, 2, -3, 5, -4])\n",
    "scores < 0"
   ]
  },
  {
   "cell_type": "markdown",
   "id": "5dd0a2e7",
   "metadata": {},
   "source": [
    "np.select([scores >=0, scores < 0],[‘so duong’, ‘so am’])"
   ]
  },
  {
   "cell_type": "code",
   "execution_count": 19,
   "id": "efeb866c",
   "metadata": {},
   "outputs": [
    {
     "data": {
      "text/plain": [
       "array(['so am', 'so duong', 'so duong', 'so am', 'so duong', 'so am'],\n",
       "      dtype='<U8')"
      ]
     },
     "execution_count": 19,
     "metadata": {},
     "output_type": "execute_result"
    }
   ],
   "source": [
    "import numpy as np\n",
    "scores = np.array([-1, 1, 2, -3, 5, -4])\n",
    "np.select([scores >= 0, scores < 0], ['so duong', 'so am'])"
   ]
  },
  {
   "cell_type": "markdown",
   "id": "4a610a29",
   "metadata": {},
   "source": [
    "Kết quả câu lệnh bên trên là phương cách phân loại dữ liệu, theo đó, lệnh select phân thành 2 \n",
    "loại. Ví dụ dưới đây cho ta thấy lệnh np.select có thể phân loại thành 3 loại: \n",
    "- scores  = np.array([-1, 1, 2, 0, -3, 5, 0, -4]) \n",
    "- np.select([scores >0, scores ==0, scores < 0],['so duong', 'so 0', 'so am']) "
   ]
  },
  {
   "cell_type": "code",
   "execution_count": 21,
   "id": "ad8389a2",
   "metadata": {},
   "outputs": [
    {
     "data": {
      "text/plain": [
       "array(['so am', 'so duong', 'so duong', 'so 0', 'so am', 'so duong',\n",
       "       'so 0', 'so am'], dtype='<U8')"
      ]
     },
     "execution_count": 21,
     "metadata": {},
     "output_type": "execute_result"
    }
   ],
   "source": [
    "import numpy as np\n",
    "scores = np.array([-1, 1, 2, 0, -3, 5, 0, -4])\n",
    "np.select([scores > 0, scores == 0, scores < 0], ['so duong', 'so 0', 'so am'])"
   ]
  },
  {
   "cell_type": "markdown",
   "id": "fc4ea43a",
   "metadata": {},
   "source": [
    "## 3. Thực hành xử lý ma trận "
   ]
  },
  {
   "cell_type": "markdown",
   "id": "9dd86262",
   "metadata": {},
   "source": [
    "### 3.1. Cơ bản về xử lý ma trận "
   ]
  },
  {
   "cell_type": "code",
   "execution_count": 23,
   "id": "c10d359e",
   "metadata": {},
   "outputs": [
    {
     "name": "stdout",
     "output_type": "stream",
     "text": [
      "[[3 4]\n",
      " [5 6]]\n"
     ]
    }
   ],
   "source": [
    "import numpy as np\n",
    "from scipy import linalg, sparse\n",
    "\n",
    "D = np.mat([[3, 4], [5, 6]])\n",
    "\n",
    "print(D)"
   ]
  },
  {
   "cell_type": "markdown",
   "id": "f10e7c08",
   "metadata": {},
   "source": [
    "np.mat(np.random.random((5,7))) "
   ]
  },
  {
   "cell_type": "code",
   "execution_count": 24,
   "id": "f03779e3",
   "metadata": {},
   "outputs": [
    {
     "name": "stdout",
     "output_type": "stream",
     "text": [
      "[[0.56028053 0.46016031 0.6330855  0.33707305 0.65590929 0.08189306\n",
      "  0.32552204]\n",
      " [0.28815452 0.41142222 0.06935001 0.19700567 0.48285351 0.13907847\n",
      "  0.43352419]\n",
      " [0.06941871 0.27189816 0.38749818 0.35437002 0.92283195 0.23912146\n",
      "  0.98743797]\n",
      " [0.57149369 0.50957954 0.61581728 0.74290084 0.71531319 0.97045777\n",
      "  0.11431383]\n",
      " [0.9040757  0.61291823 0.56747806 0.91454154 0.98331908 0.00707639\n",
      "  0.38170193]]\n"
     ]
    }
   ],
   "source": [
    ">>> import numpy as np\n",
    ">>> C = np.mat(np.random.random((5,7)))\n",
    ">>> print(C)"
   ]
  },
  {
   "cell_type": "markdown",
   "id": "853f8b51",
   "metadata": {},
   "source": [
    "np.mat(np.random.random((2,2))) "
   ]
  },
  {
   "cell_type": "code",
   "execution_count": 26,
   "id": "9b58f8c4",
   "metadata": {},
   "outputs": [
    {
     "name": "stdout",
     "output_type": "stream",
     "text": [
      "[[0.95421309 0.82288065]\n",
      " [0.52802018 0.5720733 ]]\n"
     ]
    }
   ],
   "source": [
    "import numpy as np\n",
    "A = np.mat(np.random.random((2,2)))\n",
    "print(A)"
   ]
  },
  {
   "cell_type": "markdown",
   "id": "4df490e1",
   "metadata": {},
   "source": [
    " b = np.array([(1+5j, 2j, 3j),(4, 5, 6)]) "
   ]
  },
  {
   "cell_type": "code",
   "execution_count": null,
   "id": "7093c859",
   "metadata": {},
   "outputs": [
    {
     "name": "stdout",
     "output_type": "stream",
     "text": [
      "[[1.+5.j 0.+2.j 0.+3.j]\n",
      " [4.+0.j 5.+0.j 6.+0.j]]\n",
      "[[1.+5.j 0.+2.j 0.+3.j]\n",
      " [4.+0.j 5.+0.j 6.+0.j]]\n"
     ]
    }
   ],
   "source": [
    "import numpy as np\n",
    "b = np.array([(1+5j, 2j, 3j), (4, 5, 6)])\n",
    "B = np.asmatrix(b)\n",
    "print(b)\n",
    "print(B)"
   ]
  },
  {
   "cell_type": "markdown",
   "id": "37a4c123",
   "metadata": {},
   "source": [
    "A.T"
   ]
  },
  {
   "cell_type": "code",
   "execution_count": null,
   "id": "d5f7ada3",
   "metadata": {},
   "outputs": [
    {
     "name": "stdout",
     "output_type": "stream",
     "text": [
      "Ma trận gốc:\n",
      "[[1 2 3]\n",
      " [4 5 6]]\n",
      "\n",
      "Ma trận chuyển vị:\n",
      "[[1 4]\n",
      " [2 5]\n",
      " [3 6]]\n"
     ]
    }
   ],
   "source": [
    "import numpy as np\n",
    "A = np.array([[1, 2, 3], [4, 5, 6]])  # Ma trận 2x3\n",
    "A_transposed = A.T  # Hoặc np.transpose(A)\n",
    "print(\"Ma trận gốc:\")\n",
    "print(A)\n",
    "print(\"\\nMa trận chuyển vị:\")\n",
    "print(A_transposed)"
   ]
  },
  {
   "cell_type": "markdown",
   "id": "4d3f0294",
   "metadata": {},
   "source": [
    "linalg.inv(A) "
   ]
  },
  {
   "cell_type": "code",
   "execution_count": null,
   "id": "d123230c",
   "metadata": {},
   "outputs": [
    {
     "name": "stdout",
     "output_type": "stream",
     "text": [
      "Ma trận nghịch đảo:\n",
      "[[-2.   1. ]\n",
      " [ 1.5 -0.5]]\n"
     ]
    }
   ],
   "source": [
    "import numpy as np\n",
    "A = np.array([[1, 2], [3, 4]])  # Ma trận vuông 2x2\n",
    "A_inv = np.linalg.inv(A)  # Hoặc A.I nếu A là np.matrix\n",
    "print(\"Ma trận nghịch đảo:\")\n",
    "print(A_inv)"
   ]
  },
  {
   "cell_type": "markdown",
   "id": "f3599004",
   "metadata": {},
   "source": [
    "M = np.array([[-1,3,2],[0,2,1],[1,5,-2]]) "
   ]
  },
  {
   "cell_type": "code",
   "execution_count": null,
   "id": "46c3f996",
   "metadata": {},
   "outputs": [
    {
     "name": "stdout",
     "output_type": "stream",
     "text": [
      "[[-1  0  0]\n",
      " [ 0 -2  0]\n",
      " [ 1  5 -2]]\n"
     ]
    }
   ],
   "source": [
    "import numpy as np\n",
    "M = np.array([[-1, 3, 2], [0, -2, 1], [1, 5, -2]])\n",
    "M_lower = np.tril(M)  \n",
    "print(M_lower)"
   ]
  },
  {
   "cell_type": "code",
   "execution_count": null,
   "id": "be84c1a9",
   "metadata": {},
   "outputs": [
    {
     "name": "stdout",
     "output_type": "stream",
     "text": [
      "[[-1  3  2]\n",
      " [ 0 -2  1]\n",
      " [ 0  0 -2]]\n"
     ]
    }
   ],
   "source": [
    "import numpy as np\n",
    "M = np.array([[-1, 3, 2], [0, -2, 1], [1, 5, -2]])\n",
    "M_upper = np.triu(M)  # Lấy phần tam giác trên (bao gồm cả đường chéo)\n",
    "print(M_upper)"
   ]
  },
  {
   "cell_type": "code",
   "execution_count": 44,
   "id": "d3ec402e",
   "metadata": {},
   "outputs": [
    {
     "name": "stdout",
     "output_type": "stream",
     "text": [
      "Vector đường chéo:\n",
      "[-1 -2 -2]\n",
      "\n",
      "Ma trận đường chéo:\n",
      "[[-1  0  0]\n",
      " [ 0 -2  0]\n",
      " [ 0  0 -2]]\n"
     ]
    }
   ],
   "source": [
    " import numpy as np\n",
    " M = np.array([[-1, 3, 2], [0, -2, 1], [1, 5, -2]])\n",
    "\n",
    " v_diag = np.diag(M)\n",
    " print(\"Vector đường chéo:\")\n",
    " print(v_diag)\n",
    "\n",
    " M_diag = np.diag(v_diag)\n",
    " print(\"\\nMa trận đường chéo:\")\n",
    " print(M_diag)"
   ]
  },
  {
   "cell_type": "markdown",
   "id": "4c20a09b",
   "metadata": {},
   "source": [
    "### Thực hiện tính toán đơn giản trên ma trận "
   ]
  },
  {
   "cell_type": "code",
   "execution_count": 33,
   "id": "e09fb692",
   "metadata": {},
   "outputs": [
    {
     "data": {
      "text/plain": [
       "[(2, 7, -1)]"
      ]
     },
     "execution_count": 33,
     "metadata": {},
     "output_type": "execute_result"
    }
   ],
   "source": [
    "import sympy as sp\n",
    "x = sp.Symbol('x')\n",
    "y = sp.Symbol('y')\n",
    "z = sp.Symbol('z')\n",
    "sp.solve([x**2+2-6, y-1-6, x+z-1, 2*x**2-8, z**2+4-5, y-z-8], [x, y, z])"
   ]
  },
  {
   "cell_type": "code",
   "execution_count": 34,
   "id": "f63e0aa8",
   "metadata": {},
   "outputs": [
    {
     "name": "stdout",
     "output_type": "stream",
     "text": [
      "True\n",
      "False\n"
     ]
    }
   ],
   "source": [
    "x = [1, 2, 3]\n",
    "y = [1, 2, 3]\n",
    "print(all([x[i]==y[i] for i in range(len(x))]))  \n",
    "y = [1, 2, 4]\n",
    "print(all([x[i]==y[i] for i in range(len(x))]))  "
   ]
  },
  {
   "cell_type": "code",
   "execution_count": 35,
   "id": "9d32a749",
   "metadata": {},
   "outputs": [
    {
     "data": {
      "text/plain": [
       "True"
      ]
     },
     "execution_count": 35,
     "metadata": {},
     "output_type": "execute_result"
    }
   ],
   "source": [
    "import numpy as np\n",
    "np.array_equal([1, 2], [1, 2])  \n",
    "np.array_equal(np.array([1, 2]), np.array([1, 2]))  "
   ]
  },
  {
   "cell_type": "markdown",
   "id": "3892c61d",
   "metadata": {},
   "source": [
    "### 3.2. Các phép biến đổi sơ cấp trên ma trận"
   ]
  },
  {
   "cell_type": "code",
   "execution_count": 36,
   "id": "ec89b122",
   "metadata": {},
   "outputs": [
    {
     "name": "stdout",
     "output_type": "stream",
     "text": [
      "[[ 0  1  2  3  4  5]\n",
      " [ 6  7  8  9 10 11]\n",
      " [12 13 14 15 16 17]\n",
      " [18 19 20 21 22 23]\n",
      " [24 25 26 27 28 29]\n",
      " [30 31 32 33 34 35]]\n"
     ]
    }
   ],
   "source": [
    "import numpy as np\n",
    "\n",
    "A = np.reshape(np.arange(0, 36), (6,6))\n",
    "print(A)"
   ]
  },
  {
   "cell_type": "markdown",
   "id": "141e89e9",
   "metadata": {},
   "source": [
    "I6 = np.identity(6) \n",
    "print I6 "
   ]
  },
  {
   "cell_type": "code",
   "execution_count": 37,
   "id": "72b4a255",
   "metadata": {},
   "outputs": [
    {
     "name": "stdout",
     "output_type": "stream",
     "text": [
      "[[1. 0. 0. 0. 0. 0.]\n",
      " [0. 1. 0. 0. 0. 0.]\n",
      " [0. 0. 1. 0. 0. 0.]\n",
      " [0. 0. 0. 1. 0. 0.]\n",
      " [0. 0. 0. 0. 1. 0.]\n",
      " [0. 0. 0. 0. 0. 1.]]\n"
     ]
    }
   ],
   "source": [
    "import numpy as np\n",
    "\n",
    "I6 = np.identity(6)\n",
    "print(I6)"
   ]
  },
  {
   "cell_type": "markdown",
   "id": "665026e7",
   "metadata": {},
   "source": [
    "Sau đó, xem lại kích thước của ma trận (số lượng phần tử) và in đường chéo của ma trận A: \n",
    "A.size "
   ]
  },
  {
   "cell_type": "code",
   "execution_count": 38,
   "id": "74d1d411",
   "metadata": {},
   "outputs": [
    {
     "name": "stdout",
     "output_type": "stream",
     "text": [
      "36\n"
     ]
    }
   ],
   "source": [
    "import numpy as np\n",
    "\n",
    "A = np.reshape(np.arange(0, 36), (6, 6))\n",
    "print(A.size)"
   ]
  },
  {
   "cell_type": "markdown",
   "id": "646756a2",
   "metadata": {},
   "source": [
    "np.matrix.diagonal(A) "
   ]
  },
  {
   "cell_type": "code",
   "execution_count": 39,
   "id": "6f1835e5",
   "metadata": {},
   "outputs": [
    {
     "name": "stdout",
     "output_type": "stream",
     "text": [
      "[ 0  7 14 21 28 35]\n"
     ]
    }
   ],
   "source": [
    "import numpy as np\n",
    "\n",
    "A = np.reshape(np.arange(0, 36), (6, 6))\n",
    "print(np.diagonal(A))"
   ]
  },
  {
   "cell_type": "markdown",
   "id": "c93e8886",
   "metadata": {},
   "source": [
    "Thành lập ma trận  mới bằng công thức = + \n",
    " A = A + I6 \n",
    " print A"
   ]
  },
  {
   "cell_type": "code",
   "execution_count": 40,
   "id": "6a7ba1c0",
   "metadata": {},
   "outputs": [
    {
     "name": "stdout",
     "output_type": "stream",
     "text": [
      "[[ 1.  1.  2.  3.  4.  5.]\n",
      " [ 6.  8.  8.  9. 10. 11.]\n",
      " [12. 13. 15. 15. 16. 17.]\n",
      " [18. 19. 20. 22. 22. 23.]\n",
      " [24. 25. 26. 27. 29. 29.]\n",
      " [30. 31. 32. 33. 34. 36.]]\n"
     ]
    }
   ],
   "source": [
    "import numpy as np\n",
    "\n",
    "A = np.reshape(np.arange(0, 36), (6, 6))\n",
    "I6 = np.identity(6)\n",
    "A = A + I6\n",
    "print(A)"
   ]
  },
  {
   "cell_type": "markdown",
   "id": "2090798d",
   "metadata": {},
   "source": [
    "Tính tích (nhân) ma trận với vector (là dạng ma trận đặc biệt): "
   ]
  },
  {
   "cell_type": "code",
   "execution_count": 42,
   "id": "0e3421a7",
   "metadata": {},
   "outputs": [
    {
     "name": "stdout",
     "output_type": "stream",
     "text": [
      "[ 71 198 325 452 579 706]\n"
     ]
    }
   ],
   "source": [
    "import numpy as np\n",
    "\n",
    "A = np.array([[1, 1, 2, 3, 4, 5],\n",
    "              [6, 8, 8, 9, 10, 11],\n",
    "              [12, 13, 15, 15, 16, 17],\n",
    "              [18, 19, 20, 22, 22, 23],\n",
    "              [24, 25, 26, 27, 29, 29],\n",
    "              [30, 31, 32, 33, 34, 36]])\n",
    "vecB = np.array([1, 2, 3, 4, 5, 6])\n",
    "C = A.dot(vecB)\n",
    "print(C)"
   ]
  },
  {
   "cell_type": "markdown",
   "id": "874ce3b1",
   "metadata": {},
   "source": [
    "Khai báo ma trận D 2x6 \n"
   ]
  },
  {
   "cell_type": "code",
   "execution_count": 43,
   "id": "89d06248",
   "metadata": {},
   "outputs": [
    {
     "name": "stdout",
     "output_type": "stream",
     "text": [
      "[[1 2 3 4 5 6]\n",
      " [1 0 1 0 1 0]]\n"
     ]
    }
   ],
   "source": [
    "import numpy as np\n",
    "\n",
    "D = np.array([[1, 2, 3, 4, 5, 6], [1, 0, 1, 0, 1, 0]])\n",
    "print(D)"
   ]
  },
  {
   "cell_type": "markdown",
   "id": "a0e96cb2",
   "metadata": {},
   "source": [
    "Tính tích ma trận A và D: × "
   ]
  },
  {
   "cell_type": "code",
   "execution_count": 47,
   "id": "735bff3b",
   "metadata": {},
   "outputs": [
    {
     "ename": "ValueError",
     "evalue": "shapes (6,5) and (6,2) not aligned: 5 (dim 1) != 6 (dim 0)",
     "output_type": "error",
     "traceback": [
      "\u001b[1;31m---------------------------------------------------------------------------\u001b[0m",
      "\u001b[1;31mValueError\u001b[0m                                Traceback (most recent call last)",
      "Cell \u001b[1;32mIn[47], line 10\u001b[0m\n\u001b[0;32m      3\u001b[0m A \u001b[38;5;241m=\u001b[39m np\u001b[38;5;241m.\u001b[39marray([[\u001b[38;5;241m1\u001b[39m, \u001b[38;5;241m2\u001b[39m, \u001b[38;5;241m3\u001b[39m, \u001b[38;5;241m4\u001b[39m, \u001b[38;5;241m5\u001b[39m],\n\u001b[0;32m      4\u001b[0m               [\u001b[38;5;241m6\u001b[39m, \u001b[38;5;241m8\u001b[39m, \u001b[38;5;241m9\u001b[39m, \u001b[38;5;241m10\u001b[39m, \u001b[38;5;241m11\u001b[39m],\n\u001b[0;32m      5\u001b[0m               [\u001b[38;5;241m12\u001b[39m, \u001b[38;5;241m13\u001b[39m, \u001b[38;5;241m15\u001b[39m, \u001b[38;5;241m16\u001b[39m, \u001b[38;5;241m17\u001b[39m],\n\u001b[0;32m      6\u001b[0m               [\u001b[38;5;241m18\u001b[39m, \u001b[38;5;241m19\u001b[39m, \u001b[38;5;241m20\u001b[39m, \u001b[38;5;241m22\u001b[39m, \u001b[38;5;241m23\u001b[39m],\n\u001b[0;32m      7\u001b[0m               [\u001b[38;5;241m24\u001b[39m, \u001b[38;5;241m25\u001b[39m, \u001b[38;5;241m26\u001b[39m, \u001b[38;5;241m27\u001b[39m, \u001b[38;5;241m29\u001b[39m],\n\u001b[0;32m      8\u001b[0m               [\u001b[38;5;241m30\u001b[39m, \u001b[38;5;241m31\u001b[39m, \u001b[38;5;241m32\u001b[39m, \u001b[38;5;241m33\u001b[39m, \u001b[38;5;241m36\u001b[39m]])\n\u001b[0;32m      9\u001b[0m D \u001b[38;5;241m=\u001b[39m np\u001b[38;5;241m.\u001b[39marray([[\u001b[38;5;241m1\u001b[39m, \u001b[38;5;241m2\u001b[39m, \u001b[38;5;241m3\u001b[39m, \u001b[38;5;241m4\u001b[39m, \u001b[38;5;241m5\u001b[39m, \u001b[38;5;241m6\u001b[39m], [\u001b[38;5;241m1\u001b[39m, \u001b[38;5;241m0\u001b[39m, \u001b[38;5;241m1\u001b[39m, \u001b[38;5;241m0\u001b[39m, \u001b[38;5;241m1\u001b[39m, \u001b[38;5;241m0\u001b[39m]])\n\u001b[1;32m---> 10\u001b[0m E \u001b[38;5;241m=\u001b[39m \u001b[43mA\u001b[49m\u001b[38;5;241;43m.\u001b[39;49m\u001b[43mdot\u001b[49m\u001b[43m(\u001b[49m\u001b[43mD\u001b[49m\u001b[38;5;241;43m.\u001b[39;49m\u001b[43mT\u001b[49m\u001b[43m)\u001b[49m  \n\u001b[0;32m     11\u001b[0m \u001b[38;5;28mprint\u001b[39m(E)\n",
      "\u001b[1;31mValueError\u001b[0m: shapes (6,5) and (6,2) not aligned: 5 (dim 1) != 6 (dim 0)"
     ]
    }
   ],
   "source": [
    "import numpy as np\n",
    "\n",
    "A = np.array([[1, 2, 3, 4, 5],\n",
    "              [6, 8, 9, 10, 11],\n",
    "              [12, 13, 15, 16, 17],\n",
    "              [18, 19, 20, 22, 23],\n",
    "              [24, 25, 26, 27, 29],\n",
    "              [30, 31, 32, 33, 36]])\n",
    "D = np.array([[1, 2, 3, 4, 5, 6], [1, 0, 1, 0, 1, 0]])\n",
    "E = A.dot(D.T)  \n",
    "print(E)"
   ]
  },
  {
   "cell_type": "markdown",
   "id": "08a6e76f",
   "metadata": {},
   "source": [
    "Xây dựng ma trận F kích thước 6x2: "
   ]
  },
  {
   "cell_type": "code",
   "execution_count": 48,
   "id": "ac848451",
   "metadata": {},
   "outputs": [
    {
     "name": "stdout",
     "output_type": "stream",
     "text": [
      "[[1 1]\n",
      " [2 0]\n",
      " [3 1]\n",
      " [4 0]\n",
      " [5 1]\n",
      " [6 0]]\n"
     ]
    }
   ],
   "source": [
    "import numpy as np\n",
    "\n",
    "A = np.array([[1, 1, 2, 3, 4, 5],\n",
    "              [6, 8, 8, 9, 10, 11],\n",
    "              [12, 13, 15, 15, 16, 17],\n",
    "              [1, 1, 2, 3, 4, 5],\n",
    "              [6, 8, 8, 9, 10, 11],\n",
    "              [12, 13, 15, 15, 16, 17]])\n",
    "F = np.array([[1, 1], [2, 0], [3, 1], [4, 0], [5, 1], [6, 0]])\n",
    "G = A.dot(F)\n",
    "print(F)"
   ]
  },
  {
   "cell_type": "markdown",
   "id": "f5f70339",
   "metadata": {},
   "source": [
    "print G"
   ]
  },
  {
   "cell_type": "code",
   "execution_count": 49,
   "id": "f3cf3bee",
   "metadata": {},
   "outputs": [
    {
     "name": "stdout",
     "output_type": "stream",
     "text": [
      "[[ 71   7]\n",
      " [198  24]\n",
      " [325  43]\n",
      " [452  60]\n",
      " [579  79]\n",
      " [706  96]]\n"
     ]
    }
   ],
   "source": [
    "import numpy as np\n",
    "\n",
    "A = np.array([[1, 1, 2, 3, 4, 5],\n",
    "              [6, 8, 8, 9, 10, 11],\n",
    "              [12, 13, 15, 15, 16, 17],\n",
    "              [18, 19, 20, 22, 22, 23],\n",
    "              [24, 25, 26, 27, 29, 29],\n",
    "              [30, 31, 32, 33, 34, 36]])\n",
    "F = np.array([[1, 1], [2, 0], [3, 1], [4, 0], [5, 1], [6, 0]])\n",
    "G = A.dot(F)\n",
    "print(G)"
   ]
  },
  {
   "cell_type": "markdown",
   "id": "26c5354e",
   "metadata": {},
   "source": [
    "Tính ma trận nghịch đảo: \n",
    "np.linalg.inv(A)"
   ]
  },
  {
   "cell_type": "code",
   "execution_count": 50,
   "id": "1c41cee6",
   "metadata": {},
   "outputs": [
    {
     "name": "stdout",
     "output_type": "stream",
     "text": [
      "[[ 0.37022901 -0.45610687 -0.28244275 -0.10877863  0.0648855   0.23854962]\n",
      " [-0.44656489  0.65839695 -0.23664122 -0.13167939 -0.02671756  0.07824427]\n",
      " [-0.26335878 -0.22709924  0.80916031 -0.15458015 -0.11832061 -0.08206107]\n",
      " [-0.08015267 -0.11259542 -0.14503817  0.82251908 -0.20992366 -0.24236641]\n",
      " [ 0.10305344  0.0019084  -0.09923664 -0.20038168  0.69847328 -0.40267176]\n",
      " [ 0.28625954  0.11641221 -0.05343511 -0.22328244 -0.39312977  0.4370229 ]]\n"
     ]
    }
   ],
   "source": [
    "import numpy as np\n",
    "\n",
    "A = np.array([[1, 1, 2, 3, 4, 5],\n",
    "              [6, 8, 8, 9, 10, 11],\n",
    "              [12, 13, 15, 15, 16, 17],\n",
    "              [18, 19, 20, 22, 22, 23],\n",
    "              [24, 25, 26, 27, 29, 29],\n",
    "              [30, 31, 32, 33, 34, 36]])\n",
    "A_inv = np.linalg.inv(A)\n",
    "print(A_inv)"
   ]
  },
  {
   "cell_type": "markdown",
   "id": "01f42a8d",
   "metadata": {},
   "source": [
    "##  4. Bài toán ứng dụng 2 – Tính toán dãy Fibonacci: Con đường tìm đến tỉ số vàng! \n"
   ]
  },
  {
   "cell_type": "code",
   "execution_count": 51,
   "id": "aca8b02d",
   "metadata": {},
   "outputs": [
    {
     "name": "stdout",
     "output_type": "stream",
     "text": [
      "[89 55]\n"
     ]
    }
   ],
   "source": [
    "import numpy as np\n",
    "A = np.array( [ [1,1], [1,0] ] )\n",
    "b = np.array([1, 0])\n",
    "n = 10\n",
    "for i in range(n):\n",
    "    b = A.dot(b)\n",
    "print(b) "
   ]
  },
  {
   "cell_type": "markdown",
   "id": "2bab4421",
   "metadata": {},
   "source": [
    "## 5. Cơ bản về hệ phương trình tuyến tính và ứng dụng minh họa\n"
   ]
  },
  {
   "cell_type": "markdown",
   "id": "feb4ae89",
   "metadata": {},
   "source": [
    "### 5.2. Bài toán ứng dụng 3 – Đếm số lượng xe vào khu vực trung tâm\n"
   ]
  },
  {
   "cell_type": "code",
   "execution_count": 52,
   "id": "056735c7",
   "metadata": {},
   "outputs": [
    {
     "data": {
      "text/plain": [
       "{x1: x4 + 160, x2: x4 - 80, x3: x4 + 520}"
      ]
     },
     "execution_count": 52,
     "metadata": {},
     "output_type": "execute_result"
    }
   ],
   "source": [
    "import sympy as sp\n",
    "from sympy import Symbol\n",
    "17\n",
    "x1 = Symbol('x1')\n",
    "x2 = Symbol('x2')\n",
    "x3 = Symbol('x3')\n",
    "x4 = Symbol('x4')\n",
    "from sympy import solve\n",
    "pt1 = x4+610-450-x1\n",
    "pt2 = x1+400-x2-640\n",
    "pt3 = x2+600-x3\n",
    "pt4 = x3-x4-520\n",
    "nghiem = sp.solve((pt1, pt2, pt3, pt4))\n",
    "nghiem"
   ]
  },
  {
   "cell_type": "code",
   "execution_count": 53,
   "id": "92f0dba3",
   "metadata": {},
   "outputs": [],
   "source": [
    "# Bài tập: Sinh viên thử bằng phương pháp nhân ma trận:\n",
    "import numpy as np\n",
    "A = np.matrix([[-1,0,0,1],[1,-1,0,0],[0,1,-1,0],[0,0,1,-1]])"
   ]
  },
  {
   "cell_type": "code",
   "execution_count": 54,
   "id": "6c99e140",
   "metadata": {},
   "outputs": [
    {
     "ename": "LinAlgError",
     "evalue": "Singular matrix",
     "output_type": "error",
     "traceback": [
      "\u001b[1;31m---------------------------------------------------------------------------\u001b[0m",
      "\u001b[1;31mLinAlgError\u001b[0m                               Traceback (most recent call last)",
      "Cell \u001b[1;32mIn[54], line 1\u001b[0m\n\u001b[1;32m----> 1\u001b[0m A_nghichdao \u001b[38;5;241m=\u001b[39m \u001b[43mnp\u001b[49m\u001b[38;5;241;43m.\u001b[39;49m\u001b[43mlinalg\u001b[49m\u001b[38;5;241;43m.\u001b[39;49m\u001b[43minv\u001b[49m\u001b[43m(\u001b[49m\u001b[43mA\u001b[49m\u001b[43m)\u001b[49m\n",
      "File \u001b[1;32mc:\\Users\\QUOC TRONG\\AppData\\Local\\Programs\\Python\\Python311\\Lib\\site-packages\\numpy\\linalg\\linalg.py:561\u001b[0m, in \u001b[0;36minv\u001b[1;34m(a)\u001b[0m\n\u001b[0;32m    559\u001b[0m signature \u001b[38;5;241m=\u001b[39m \u001b[38;5;124m'\u001b[39m\u001b[38;5;124mD->D\u001b[39m\u001b[38;5;124m'\u001b[39m \u001b[38;5;28;01mif\u001b[39;00m isComplexType(t) \u001b[38;5;28;01melse\u001b[39;00m \u001b[38;5;124m'\u001b[39m\u001b[38;5;124md->d\u001b[39m\u001b[38;5;124m'\u001b[39m\n\u001b[0;32m    560\u001b[0m extobj \u001b[38;5;241m=\u001b[39m get_linalg_error_extobj(_raise_linalgerror_singular)\n\u001b[1;32m--> 561\u001b[0m ainv \u001b[38;5;241m=\u001b[39m \u001b[43m_umath_linalg\u001b[49m\u001b[38;5;241;43m.\u001b[39;49m\u001b[43minv\u001b[49m\u001b[43m(\u001b[49m\u001b[43ma\u001b[49m\u001b[43m,\u001b[49m\u001b[43m \u001b[49m\u001b[43msignature\u001b[49m\u001b[38;5;241;43m=\u001b[39;49m\u001b[43msignature\u001b[49m\u001b[43m,\u001b[49m\u001b[43m \u001b[49m\u001b[43mextobj\u001b[49m\u001b[38;5;241;43m=\u001b[39;49m\u001b[43mextobj\u001b[49m\u001b[43m)\u001b[49m\n\u001b[0;32m    562\u001b[0m \u001b[38;5;28;01mreturn\u001b[39;00m wrap(ainv\u001b[38;5;241m.\u001b[39mastype(result_t, copy\u001b[38;5;241m=\u001b[39m\u001b[38;5;28;01mFalse\u001b[39;00m))\n",
      "File \u001b[1;32mc:\\Users\\QUOC TRONG\\AppData\\Local\\Programs\\Python\\Python311\\Lib\\site-packages\\numpy\\linalg\\linalg.py:112\u001b[0m, in \u001b[0;36m_raise_linalgerror_singular\u001b[1;34m(err, flag)\u001b[0m\n\u001b[0;32m    111\u001b[0m \u001b[38;5;28;01mdef\u001b[39;00m\u001b[38;5;250m \u001b[39m\u001b[38;5;21m_raise_linalgerror_singular\u001b[39m(err, flag):\n\u001b[1;32m--> 112\u001b[0m     \u001b[38;5;28;01mraise\u001b[39;00m LinAlgError(\u001b[38;5;124m\"\u001b[39m\u001b[38;5;124mSingular matrix\u001b[39m\u001b[38;5;124m\"\u001b[39m)\n",
      "\u001b[1;31mLinAlgError\u001b[0m: Singular matrix"
     ]
    }
   ],
   "source": [
    "A_nghichdao = np.linalg.inv(A)"
   ]
  },
  {
   "cell_type": "markdown",
   "id": "feacb3cc",
   "metadata": {},
   "source": [
    "## BÀI TẬP CHƯƠNG 2"
   ]
  },
  {
   "cell_type": "code",
   "execution_count": 55,
   "id": "fcbc1e72",
   "metadata": {},
   "outputs": [
    {
     "name": "stdout",
     "output_type": "stream",
     "text": [
      "Giao điểm: [0. 2.]\n"
     ]
    }
   ],
   "source": [
    "#van de 1\n",
    "\n",
    "import numpy as np\n",
    "\n",
    "A = np.array([[1, -1],\n",
    "              [2,  3]])\n",
    "B = np.array([-2, 6])\n",
    "\n",
    "x = np.linalg.solve(A, B)\n",
    "print(\"Giao điểm:\", x)"
   ]
  },
  {
   "cell_type": "code",
   "execution_count": 57,
   "id": "91b13380",
   "metadata": {},
   "outputs": [
    {
     "name": "stdout",
     "output_type": "stream",
     "text": [
      "Giao điểm: [3. 1. 2.]\n"
     ]
    }
   ],
   "source": [
    "#van de 2\n",
    "\n",
    "A = np.array([[ 1, -1,  0],\n",
    "              [ 2, -1, -1],\n",
    "              [ 1,  1,  1]])\n",
    "B = np.array([2, 3, 6])\n",
    "\n",
    "x = np.linalg.solve(A, B)\n",
    "print(\"Giao điểm:\", x)"
   ]
  },
  {
   "cell_type": "code",
   "execution_count": null,
   "id": "7f8d98b7",
   "metadata": {},
   "outputs": [],
   "source": [
    "#van de 3\n",
    "\n",
    "A = np.array([[1, 1, 1],\n",
    "              [4, 2, 1],\n",
    "              [9, 3, 1]])\n",
    "B = np.array([4, 4, 4])\n",
    "\n",
    "x = np.linalg.solve(A, B)\n",
    "print(\"Hệ số đa thức [a, b, c]:\", x)"
   ]
  },
  {
   "cell_type": "code",
   "execution_count": null,
   "id": "d9db5eaa",
   "metadata": {},
   "outputs": [],
   "source": [
    "#van de 4\n",
    "\n",
    "A = np.array([[1, 0, 1],\n",
    "              [1, 1, -2],\n",
    "              [-2, 2, 1]])\n",
    "B = np.array([1, -3, 0])\n",
    "\n",
    "x = np.linalg.solve(A, B)\n",
    "print(\"Hệ số [a, b, c]:\", x)"
   ]
  },
  {
   "cell_type": "markdown",
   "id": "ded5f1ed",
   "metadata": {},
   "source": [
    "Câu 2"
   ]
  },
  {
   "cell_type": "code",
   "execution_count": 58,
   "id": "1a0b8a5c",
   "metadata": {},
   "outputs": [
    {
     "name": "stdout",
     "output_type": "stream",
     "text": [
      "{x: 0, y: 2}\n"
     ]
    }
   ],
   "source": [
    "#van de 1\n",
    "\n",
    "x, y = sp.symbols('x y')\n",
    "\n",
    "eq1 = sp.Eq(x - y, -2)\n",
    "eq2 = sp.Eq(2*x + 3*y, 6)\n",
    "\n",
    "solution = sp.solve((eq1, eq2), (x, y))\n",
    "print(solution)"
   ]
  },
  {
   "cell_type": "code",
   "execution_count": null,
   "id": "0c15a996",
   "metadata": {},
   "outputs": [],
   "source": [
    "# Vấn đề 2\n",
    "x, y, z = sp.symbols('x y z')\n",
    "\n",
    "eq1 = sp.Eq(x - y, 2)\n",
    "eq2 = sp.Eq(2*x - y - z, 3)\n",
    "eq3 = sp.Eq(x + y + z, 6)\n",
    "\n",
    "solution = sp.solve((eq1, eq2, eq3), (x, y, z))\n",
    "print(solution)"
   ]
  },
  {
   "cell_type": "code",
   "execution_count": null,
   "id": "eda9f203",
   "metadata": {},
   "outputs": [],
   "source": [
    "# Vấn đề 3 \n",
    "a, b, c = sp.symbols('a b c')\n",
    "\n",
    "eq1 = sp.Eq(a + b + c, 4)       # p(1)\n",
    "eq2 = sp.Eq(4*a + 2*b + c, 4)   # p(2)\n",
    "eq3 = sp.Eq(9*a + 3*b + c, 4)   # p(3)\n",
    "\n",
    "solution = sp.solve((eq1, eq2, eq3), (a, b, c))\n",
    "print(solution)"
   ]
  },
  {
   "cell_type": "code",
   "execution_count": null,
   "id": "6399930e",
   "metadata": {},
   "outputs": [],
   "source": [
    "# Vấn đề 4 \n",
    "a, b, c = sp.symbols('a b c')\n",
    "\n",
    "eq1 = sp.Eq(a + c, 1)\n",
    "eq2 = sp.Eq(a + b - 2*c, -3)\n",
    "eq3 = sp.Eq(-2*a + 2*b + c, 0)\n",
    "\n",
    "solution = sp.solve((eq1, eq2, eq3), (a, b, c))\n",
    "print(solution)"
   ]
  },
  {
   "cell_type": "markdown",
   "id": "bbd56e7c",
   "metadata": {},
   "source": [
    "Câu 3"
   ]
  },
  {
   "cell_type": "code",
   "execution_count": 59,
   "id": "ba3ea736",
   "metadata": {},
   "outputs": [
    {
     "name": "stdout",
     "output_type": "stream",
     "text": [
      "F_5 =\n",
      "[[8 5]\n",
      " [5 3]]\n",
      "Fib(k+1) = 8\n",
      "Fib(k)   = 5\n",
      "Fib(k-1) = 3\n"
     ]
    }
   ],
   "source": [
    "import numpy as np\n",
    "\n",
    "def fibonacci_matrix(k):\n",
    "    F = np.array([[1, 1],\n",
    "                  [1, 0]], dtype=object)\n",
    "    result = np.linalg.matrix_power(F, k)\n",
    "    return result\n",
    "\n",
    "# Kiểm tra với k = 5 (F_5)\n",
    "k = 5\n",
    "Fk = fibonacci_matrix(k)\n",
    "print(\"F_{} =\\n{}\".format(k, Fk))\n",
    "\n",
    "# So sánh với Fibonacci thật\n",
    "def fib(n):\n",
    "    a, b = 0, 1\n",
    "    for _ in range(n):\n",
    "        a, b = b, a + b\n",
    "    return a\n",
    "\n",
    "print(\"Fib(k+1) =\", fib(k+1))\n",
    "print(\"Fib(k)   =\", fib(k))\n",
    "print(\"Fib(k-1) =\", fib(k-1))"
   ]
  }
 ],
 "metadata": {
  "kernelspec": {
   "display_name": "Python 3",
   "language": "python",
   "name": "python3"
  },
  "language_info": {
   "codemirror_mode": {
    "name": "ipython",
    "version": 3
   },
   "file_extension": ".py",
   "mimetype": "text/x-python",
   "name": "python",
   "nbconvert_exporter": "python",
   "pygments_lexer": "ipython3",
   "version": "3.11.0"
  }
 },
 "nbformat": 4,
 "nbformat_minor": 5
}
