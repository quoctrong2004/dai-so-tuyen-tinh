{
 "cells": [
  {
   "cell_type": "markdown",
   "id": "89b4df29",
   "metadata": {},
   "source": [
    "## CHƯƠNG 4: CƠ BẢN VỀ ĐỊNH THỨC "
   ]
  },
  {
   "cell_type": "code",
   "execution_count": 4,
   "id": "5b141a64",
   "metadata": {},
   "outputs": [
    {
     "data": {
      "text/plain": [
       "-1"
      ]
     },
     "execution_count": 4,
     "metadata": {},
     "output_type": "execute_result"
    }
   ],
   "source": [
    "import numpy as np\n",
    "\n",
    "n = 4\n",
    "X = np.array(range(1, n+1))\n",
    "sigma = np.array([4, 3, 2, 1])\n",
    "\n",
    "def sgn_by_def(sigma):\n",
    "    ket_qua = 1.0\n",
    "    for i in range(len(X)-1):\n",
    "        for j in range(i+1, len(X)):\n",
    "            ket_qua = ket_qua * ((X[i] - X[j]) / (sigma[i] - sigma[j]))\n",
    "    return int(ket_qua)\n",
    "\n",
    "sigma = np.array([2, 1, 3, 4])\n",
    "sgn_by_def(sigma)"
   ]
  },
  {
   "cell_type": "code",
   "execution_count": 5,
   "id": "91b536aa",
   "metadata": {},
   "outputs": [
    {
     "data": {
      "text/plain": [
       "1"
      ]
     },
     "execution_count": 5,
     "metadata": {},
     "output_type": "execute_result"
    }
   ],
   "source": [
    "import numpy as np\n",
    "\n",
    "n = 4\n",
    "X = np.array(range(1, n+1))\n",
    "sigma = np.array([1, 2, 3, 4])\n",
    "\n",
    "def sgn_by_def(sigma):\n",
    "    ket_qua = 1.0\n",
    "    for i in range(len(X)-1):\n",
    "        for j in range(i+1, len(X)):\n",
    "            ket_qua = ket_qua * ((X[i] - X[j]) / (sigma[i] - sigma[j]))\n",
    "    return int(ket_qua)\n",
    "\n",
    "sigma = np.array([1, 2, 3, 4])\n",
    "sgn_by_def(sigma)"
   ]
  },
  {
   "cell_type": "code",
   "execution_count": 6,
   "id": "7afaf84f",
   "metadata": {},
   "outputs": [
    {
     "data": {
      "text/plain": [
       "1"
      ]
     },
     "execution_count": 6,
     "metadata": {},
     "output_type": "execute_result"
    }
   ],
   "source": [
    "import numpy as np\n",
    "\n",
    "n = 4\n",
    "X = np.array(range(1, n+1))\n",
    "sigma = np.array([4, 3, 2, 1])\n",
    "\n",
    "def sgn_by_def(sigma):\n",
    "    ket_qua = 1.0\n",
    "    for i in range(len(X)-1):\n",
    "        for j in range(i+1, len(X)):\n",
    "            ket_qua = ket_qua * ((X[i] - X[j]) / (sigma[i] - sigma[j]))\n",
    "    return int(ket_qua)\n",
    "\n",
    "sigma = np.array([4, 3, 2, 1])\n",
    "sgn_by_def(sigma)"
   ]
  },
  {
   "cell_type": "markdown",
   "id": "d549c8a5",
   "metadata": {},
   "source": [
    "### Định thức: "
   ]
  },
  {
   "cell_type": "code",
   "execution_count": 7,
   "id": "4770ea92",
   "metadata": {},
   "outputs": [
    {
     "name": "stdout",
     "output_type": "stream",
     "text": [
      "[(1, 2, 3), (1, 3, 2), (2, 1, 3), (2, 3, 1), (3, 1, 2), (3, 2, 1)]\n"
     ]
    }
   ],
   "source": [
    "from itertools import permutations\n",
    "\n",
    "n = 3\n",
    "X = []\n",
    "\n",
    "for i in range(1, n+1):\n",
    "    X.append(i)\n",
    "\n",
    "Sn = list(permutations(X)) \n",
    "print(Sn)"
   ]
  },
  {
   "cell_type": "code",
   "execution_count": 10,
   "id": "a77b698a",
   "metadata": {},
   "outputs": [
    {
     "name": "stdout",
     "output_type": "stream",
     "text": [
      " - a11a22 - a12a21 + a11a22 - a12a21\n"
     ]
    }
   ],
   "source": [
    "import numpy as np\n",
    "\n",
    "def phatsinh_dinhthuc(n):\n",
    "    X = []\n",
    "    for i in range(1, n+1):\n",
    "        X.append(i)\n",
    "    Sn = list(permutations(X))\n",
    "    dinhthuc = \"\"\n",
    "    for sn in Sn:\n",
    "        sigma = np.array([1])\n",
    "        sigma.resize([n])\n",
    "        product = \"\"\n",
    "        for i in range(1, n+1):\n",
    "            sigma[sn.index(i)] = i\n",
    "            product = product + \"a\" + str(i) + str(sn.index(i) + 1)\n",
    "        dau = sgn_by_def(sigma)\n",
    "        if (dau == 1):\n",
    "            product = \" + \" + product\n",
    "        else:\n",
    "            product = \" - \" + product\n",
    "        dinhthuc = dinhthuc + product\n",
    "    return dinhthuc\n",
    "\n",
    "def sgn_by_def(sigma):\n",
    "    pass\n",
    "\n",
    "n = 2\n",
    "ketqua = phatsinh_dinhthuc(n) + \" + a11a22 - a12a21\"\n",
    "print(ketqua)"
   ]
  },
  {
   "cell_type": "code",
   "execution_count": 11,
   "id": "e167c4bb",
   "metadata": {},
   "outputs": [
    {
     "name": "stdout",
     "output_type": "stream",
     "text": [
      " + a11a22a33 - a11a23a32 - a12a21a33 + a13a21a32 + a12a23a31 - a13a22a31\n"
     ]
    }
   ],
   "source": [
    "import numpy as np\n",
    "from itertools import permutations\n",
    "\n",
    "def sgn_by_def(sigma):\n",
    "    inversions = 0\n",
    "    for i in range(len(sigma)):\n",
    "        for j in range(i + 1, len(sigma)):\n",
    "            if sigma[i] > sigma[j]:\n",
    "                inversions += 1\n",
    "    return 1 if inversions % 2 == 0 else -1\n",
    "\n",
    "def phatsinh_dinhthuc(n):\n",
    "    X = []\n",
    "    for i in range(1, n+1):\n",
    "        X.append(i)\n",
    "    Sn = list(permutations(X))\n",
    "    dinhthuc = \"\"\n",
    "    for sn in Sn:\n",
    "        sigma = np.array([1])\n",
    "        sigma.resize([n])\n",
    "        product = \"\"\n",
    "        for i in range(1, n+1):\n",
    "            sigma[sn.index(i)] = i\n",
    "            product = product + \"a\" + str(i) + str(sn.index(i) + 1)\n",
    "        dau = sgn_by_def(sigma)\n",
    "        if (dau == 1):\n",
    "            product = \" + \" + product\n",
    "        else:\n",
    "            product = \" - \" + product\n",
    "        dinhthuc = dinhthuc + product\n",
    "    return dinhthuc\n",
    "\n",
    "n = 3\n",
    "ketqua = phatsinh_dinhthuc(n)\n",
    "print(ketqua)"
   ]
  },
  {
   "cell_type": "code",
   "execution_count": 12,
   "id": "f7b8febd",
   "metadata": {},
   "outputs": [
    {
     "name": "stdout",
     "output_type": "stream",
     "text": [
      "21\n"
     ]
    }
   ],
   "source": [
    "import math\n",
    "import numpy as np\n",
    "from itertools import permutations\n",
    "\n",
    "def tinhtoan_dinhthuc(A):\n",
    "    X = []\n",
    "    n = int(math.sqrt(A.size)) \n",
    "    for i in range(1, n+1):\n",
    "        X.append(i)\n",
    "    Sn = list(permutations(X))  \n",
    "    dinhthuc = 0\n",
    "    for sn in Sn:\n",
    "        sigma = np.array([1])\n",
    "        sigma.resize([n])\n",
    "        product = 1 \n",
    "        for i in range(1, n+1):\n",
    "            sigma[sn.index(i)] = i\n",
    "            product = product * A[i-1][sn.index(i)] \n",
    "        dau = sgn_by_def(sigma)  \n",
    "        if (dau == 1):\n",
    "            dinhthuc = dinhthuc + product  \n",
    "        else:\n",
    "            dinhthuc = dinhthuc + product * (-1) \n",
    "    return dinhthuc\n",
    "\n",
    "def sgn_by_def(sigma):\n",
    "    inversions = 0\n",
    "    for i in range(len(sigma)):\n",
    "        for j in range(i + 1, len(sigma)):\n",
    "            if sigma[i] > sigma[j]:\n",
    "                inversions += 1\n",
    "    return 1 if inversions % 2 == 0 else -1\n",
    "\n",
    "A = np.array([[3, 5, 8], [4, 12, -1], [2, 5, 3]])\n",
    "\n",
    "ketqua = tinhtoan_dinhthuc(A)\n",
    "print(ketqua)"
   ]
  },
  {
   "cell_type": "markdown",
   "id": "98f5e189",
   "metadata": {},
   "source": [
    "### 3. Quy tắc Cramer"
   ]
  },
  {
   "cell_type": "code",
   "execution_count": 13,
   "id": "365836bb",
   "metadata": {},
   "outputs": [
    {
     "name": "stdout",
     "output_type": "stream",
     "text": [
      "-14.0 -28.0 14.000000000000004\n"
     ]
    }
   ],
   "source": [
    "import numpy as np\n",
    "from scipy import linalg\n",
    "\n",
    "A = np.array([[4, -2], [3, -5]]) \n",
    "\n",
    "A1 = np.array([[10, -2], [11, -5]])\n",
    "\n",
    "A2 = np.array([[4, 10], [3, 11]])\n",
    "\n",
    "detA = linalg.det(A)    \n",
    "detA1 = linalg.det(A1)  \n",
    "detA2 = linalg.det(A2) \n",
    "\n",
    "print(detA, detA1, detA2)"
   ]
  },
  {
   "cell_type": "code",
   "execution_count": 14,
   "id": "8b4c9e90",
   "metadata": {},
   "outputs": [
    {
     "name": "stdout",
     "output_type": "stream",
     "text": [
      "Hài nghiệm của phương trình là: 2.0 -1.0000000000000002\n"
     ]
    }
   ],
   "source": [
    "import numpy as np\n",
    "from scipy import linalg\n",
    "\n",
    "A = np.array([[4, -2], [3, -5]])\n",
    "A1 = np.array([[10, -2], [11, -5]])\n",
    "A2 = np.array([[4, 10], [3, 11]])\n",
    "\n",
    "detA = linalg.det(A)\n",
    "detA1 = linalg.det(A1)\n",
    "detA2 = linalg.det(A2)\n",
    "\n",
    "if (detA != 0):\n",
    "    x1 = detA1 / detA\n",
    "    x2 = detA2 / detA\n",
    "    print(\"Hài nghiệm của phương trình là:\", x1, x2)"
   ]
  },
  {
   "cell_type": "code",
   "execution_count": 15,
   "id": "2bbba1f5",
   "metadata": {},
   "outputs": [
    {
     "name": "stdout",
     "output_type": "stream",
     "text": [
      "21\n",
      "483\n",
      "-42\n"
     ]
    }
   ],
   "source": [
    "import numpy as np\n",
    "from itertools import permutations\n",
    "\n",
    "def tinhtoan_dinhthuc(A):\n",
    "    X = []\n",
    "    n = int(np.sqrt(A.size))\n",
    "    for i in range(1, n+1):\n",
    "        X.append(i)\n",
    "    Sn = list(permutations(X))\n",
    "    dinhthuc = 0\n",
    "    for sn in Sn:\n",
    "        sigma = np.array([1])\n",
    "        sigma.resize([n])\n",
    "        product = 1\n",
    "        for i in range(1, n+1):\n",
    "            sigma[sn.index(i)] = i\n",
    "            product = product * A[i-1][sn.index(i)]\n",
    "        dau = sgn_by_def(sigma)\n",
    "        if (dau == 1):\n",
    "            dinhthuc = dinhthuc + product\n",
    "        else:\n",
    "            dinhthuc = dinhthuc + product * (-1)\n",
    "    return dinhthuc\n",
    "\n",
    "def sgn_by_def(sigma):\n",
    "    inversions = 0\n",
    "    for i in range(len(sigma)):\n",
    "        for j in range(i + 1, len(sigma)):\n",
    "            if sigma[i] > sigma[j]:\n",
    "                inversions += 1\n",
    "    return 1 if inversions % 2 == 0 else -1\n",
    "\n",
    "A = np.array([[3, 5, 8], [4, 12, -1], [2, 5, 3]])\n",
    "A1 = np.array([[10, 5, 8], [11, 12, -1], [2, 5, 3]])\n",
    "A2 = np.array([[3, 10, 8], [4, 11, -1], [2, 5, 3]])\n",
    "\n",
    "detA = tinhtoan_dinhthuc(A)\n",
    "detA1 = tinhtoan_dinhthuc(A1)\n",
    "detA2 = tinhtoan_dinhthuc(A2)\n",
    "\n",
    "print(detA)\n",
    "print(detA1)\n",
    "print(detA2)"
   ]
  },
  {
   "cell_type": "markdown",
   "id": "447bef1e",
   "metadata": {},
   "source": [
    "### Hệ ba phương trình tuyến tính bậc 1: \n"
   ]
  },
  {
   "cell_type": "code",
   "execution_count": 16,
   "id": "0c77980d",
   "metadata": {},
   "outputs": [
    {
     "name": "stdout",
     "output_type": "stream",
     "text": [
      "0.0\n",
      "[ 1.   -1.25 -1.5 ]\n"
     ]
    },
    {
     "name": "stderr",
     "output_type": "stream",
     "text": [
      "C:\\Users\\QUOC TRONG\\AppData\\Local\\Temp\\ipykernel_18496\\4113592680.py:8: LinAlgWarning: Ill-conditioned matrix (rcond=1.00929e-17): result may not be accurate.\n",
      "  dinhthuc = linalg.solve(A, b)\n"
     ]
    }
   ],
   "source": [
    "import numpy as np\n",
    "from scipy import linalg\n",
    "\n",
    "A = np.array([[-1, 2, -3], [2, -2, 1], [3, -4, 4]])\n",
    "b = np.array([1, 3, 2])\n",
    "\n",
    "detA = linalg.det(A)\n",
    "dinhthuc = linalg.solve(A, b)\n",
    "\n",
    "print(detA)\n",
    "print(dinhthuc)"
   ]
  },
  {
   "cell_type": "code",
   "execution_count": 17,
   "id": "624e75c0",
   "metadata": {},
   "outputs": [
    {
     "name": "stdout",
     "output_type": "stream",
     "text": [
      "Nghiệm của phương trình: x= 1.0 y= -1.25 z= -1.5\n"
     ]
    },
    {
     "name": "stderr",
     "output_type": "stream",
     "text": [
      "C:\\Users\\QUOC TRONG\\AppData\\Local\\Temp\\ipykernel_18496\\392088771.py:8: LinAlgWarning: Ill-conditioned matrix (rcond=1.00929e-17): result may not be accurate.\n",
      "  x, y, z = linalg.solve(A, b)\n"
     ]
    }
   ],
   "source": [
    "import numpy as np\n",
    "from scipy import linalg\n",
    "\n",
    "A = np.array([[-1, 2, -3], [2, -2, 1], [3, -4, 4]])\n",
    "b = np.array([1, 3, 2])\n",
    "\n",
    "det = linalg.det(A)\n",
    "x, y, z = linalg.solve(A, b)\n",
    "\n",
    "print(\"Nghiệm của phương trình:\", \"x=\", x, \"y=\", y, \"z=\", z)"
   ]
  },
  {
   "cell_type": "code",
   "execution_count": 18,
   "id": "126a25af",
   "metadata": {},
   "outputs": [
    {
     "name": "stdout",
     "output_type": "stream",
     "text": [
      "Nghiệm x= inf y= inf z= -inf\n"
     ]
    },
    {
     "name": "stderr",
     "output_type": "stream",
     "text": [
      "C:\\Users\\QUOC TRONG\\AppData\\Local\\Temp\\ipykernel_18496\\1830136583.py:44: RuntimeWarning: divide by zero encountered in scalar divide\n",
      "  x, y, z = detX/det, detY/det, detZ/det\n"
     ]
    }
   ],
   "source": [
    "import numpy as np\n",
    "from itertools import permutations\n",
    "\n",
    "def tinhtoan_dinhthuc(A):\n",
    "    X = []\n",
    "    n = int(np.sqrt(A.size))\n",
    "    for i in range(1, n+1):\n",
    "        X.append(i)\n",
    "    Sn = list(permutations(X))\n",
    "    dinhthuc = 0\n",
    "    for sn in Sn:\n",
    "        sigma = np.array([1])\n",
    "        sigma.resize([n])\n",
    "        product = 1\n",
    "        for i in range(1, n+1):\n",
    "            sigma[sn.index(i)] = i\n",
    "            product = product * A[i-1][sn.index(i)]\n",
    "        dau = sgn_by_def(sigma)\n",
    "        if (dau == 1):\n",
    "            dinhthuc = dinhthuc + product\n",
    "        else:\n",
    "            dinhthuc = dinhthuc + product * (-1)\n",
    "    return dinhthuc\n",
    "\n",
    "def sgn_by_def(sigma):\n",
    "    inversions = 0\n",
    "    for i in range(len(sigma)):\n",
    "        for j in range(i + 1, len(sigma)):\n",
    "            if sigma[i] > sigma[j]:\n",
    "                inversions += 1\n",
    "    return 1 if inversions % 2 == 0 else -1\n",
    "\n",
    "A = np.array([[-1, 2, -3], [2, -2, 1], [3, -4, 4]])\n",
    "b = np.array([1, 3, 2])\n",
    "X = np.array([[1, 0, 0], [0, 1, 0], [0, 0, 1]])\n",
    "Y = np.array([[0, 2, -3], [2, 0, 1], [3, -4, 0]])\n",
    "Z = np.array([[-1, 2, 0], [2, -2, 0], [3, -4, 1]])\n",
    "\n",
    "det = tinhtoan_dinhthuc(A)\n",
    "detX = tinhtoan_dinhthuc(X)\n",
    "detY = tinhtoan_dinhthuc(Y)\n",
    "detZ = tinhtoan_dinhthuc(Z)\n",
    "\n",
    "x, y, z = detX/det, detY/det, detZ/det\n",
    "\n",
    "print(\"Nghiệm\", \"x=\", x, \"y=\", y, \"z=\", z)"
   ]
  },
  {
   "cell_type": "markdown",
   "id": "c35da81b",
   "metadata": {},
   "source": [
    "### Tính diện tích tam giác: \n"
   ]
  },
  {
   "cell_type": "code",
   "execution_count": 19,
   "id": "cba0b5ad",
   "metadata": {},
   "outputs": [
    {
     "name": "stdout",
     "output_type": "stream",
     "text": [
      "1.50000000000000\n"
     ]
    }
   ],
   "source": [
    "import sympy as sp\n",
    "\n",
    "TG = sp.Matrix([[1, 0, 1], [4, 3, 1], [2, 2, 1]])\n",
    "\n",
    "dientich = 1/2 * abs(TG.det())\n",
    "\n",
    "print(dientich)"
   ]
  },
  {
   "cell_type": "markdown",
   "id": "74030229",
   "metadata": {},
   "source": [
    "### Ứng dụng 1: Tính diện tích đa giác gồm  điểm ( , ): \n"
   ]
  },
  {
   "cell_type": "code",
   "execution_count": 20,
   "id": "a8d6036e",
   "metadata": {},
   "outputs": [
    {
     "name": "stdout",
     "output_type": "stream",
     "text": [
      "7303066.547859192\n"
     ]
    }
   ],
   "source": [
    "import numpy as np\n",
    "\n",
    "points = np.array([\n",
    "    [118112.25, 602362.70],\n",
    "    [1181136.18, 602366.68],\n",
    "    [1181130.97, 602379.69],\n",
    "    [1181125.77, 602381.91],\n",
    "    [1181122.06, 602380.42]\n",
    "])\n",
    "\n",
    "x = points[:, 0]\n",
    "y = points[:, 1]\n",
    "\n",
    "n = len(points)\n",
    "area = 0.0\n",
    "\n",
    "for i in range(n):\n",
    "    j = (i + 1) % n\n",
    "    area += x[i] * y[j]\n",
    "    area -= y[i] * x[j]\n",
    "\n",
    "area = abs(area) / 2.0\n",
    "\n",
    "print(area)"
   ]
  },
  {
   "cell_type": "markdown",
   "id": "1bb9634e",
   "metadata": {},
   "source": [
    "### Ứng dụng 2: Mở rộng bài toán tính diện tích thành thể tích hình tứ diện: \n"
   ]
  },
  {
   "cell_type": "code",
   "execution_count": 21,
   "id": "dbd9120a",
   "metadata": {},
   "outputs": [
    {
     "name": "stdout",
     "output_type": "stream",
     "text": [
      "12.0000000000000\n"
     ]
    }
   ],
   "source": [
    "import sympy as sp\n",
    "\n",
    "M = sp.Matrix([[0, 4, 1, 1], [4, 0, 0, 1], [3, 5, 2, 1], [2, 2, 5, 1]])\n",
    "\n",
    "dientich = 1/6 * abs(M.det())\n",
    "\n",
    "print(dientich)"
   ]
  },
  {
   "cell_type": "markdown",
   "id": "3c6838c9",
   "metadata": {},
   "source": [
    "### Ứng dụng 4: Phương trình mặt phẳng \n"
   ]
  },
  {
   "cell_type": "code",
   "execution_count": 22,
   "id": "83ce8bda",
   "metadata": {},
   "outputs": [
    {
     "name": "stdout",
     "output_type": "stream",
     "text": [
      "-4*x + 3*y - 5*z - 3\n"
     ]
    }
   ],
   "source": [
    "from sympy import *\n",
    "\n",
    "x, y, z = symbols('x y z')\n",
    "\n",
    "MP = Matrix([[x, y, z, 1], [-1, 3, 2, 1], [0, 1, 0, 1], [-2, 0, 1, 1]])\n",
    "\n",
    "dinhthuc = MP.det()\n",
    "\n",
    "print(dinhthuc)"
   ]
  },
  {
   "cell_type": "markdown",
   "id": "c3096a6b",
   "metadata": {},
   "source": [
    "## 5. Bài toán ứng dụng 3: Tính quỹ đạo của hành tinh/vệ tinh \n"
   ]
  },
  {
   "cell_type": "code",
   "execution_count": null,
   "id": "2b133676",
   "metadata": {},
   "outputs": [],
   "source": [
    "from sympy import *\n",
    "\n",
    "a, b, c, d, e, f = symbols('a b c d e f')\n",
    "x, y = symbols('x y')\n",
    "x1, y1, x2, y2, x3, y3, x4, y4, x5, y5 = symbols('x1 y1 x2 y2 x3 y3 x4 y4 x5 y5')\n",
    "\n",
    "M = Matrix([[x**2, x*y, y**2, x, y, 1],\n",
    "            [x1**2, x1*y1, y1**2, x1, y1, 1],\n",
    "            [x2**2, x2*y2, y2**2, x2, y2, 1],\n",
    "            [x3**2, x3*y3, y3**2, x3, y3, 1],\n",
    "            [x4**2, x4*y4, y4**2, x4, y4, 1],\n",
    "            [x5**2, x5*y5, y5**2, x5, y5, 1]])\n",
    "\n",
    "coeffs = M.rref()[0]\n",
    "\n",
    "print(coeffs)"
   ]
  },
  {
   "cell_type": "markdown",
   "id": "25398e36",
   "metadata": {},
   "source": [
    "## BÀI TẬP CHƯƠNG 4 \n"
   ]
  },
  {
   "cell_type": "code",
   "execution_count": null,
   "id": "eb0cfc64",
   "metadata": {},
   "outputs": [
    {
     "name": "stdout",
     "output_type": "stream",
     "text": [
      "[[ 24.   5.  -4.]\n",
      " [-12.   3.   2.]\n",
      " [ -2.  -5.   4.]]\n",
      "[[ 24. -12.  -2.]\n",
      " [  5.   3.  -5.]\n",
      " [ -4.   2.   4.]]\n"
     ]
    }
   ],
   "source": [
    "#Cau1\n",
    "\n",
    "import numpy as np\n",
    "\n",
    "def cofactor_matrix(A):\n",
    "    n = A.shape[0]\n",
    "    cofactor = np.zeros((n, n))\n",
    "    for i in range(n):\n",
    "        for j in range(n):\n",
    "            minor = np.delete(np.delete(A, i, axis=0), j, axis=1)\n",
    "            cofactor[i][j] = ((-1) ** (i + j)) * np.linalg.det(minor)\n",
    "    return cofactor\n",
    "\n",
    "def adjoint_matrix(A):\n",
    "    return cofactor_matrix(A).T\n",
    "\n",
    "A = np.array([[1, 2, 3], [0, 4, 5], [1, 0, 6]])\n",
    "\n",
    "cofactor = cofactor_matrix(A)\n",
    "adjoint = adjoint_matrix(A)\n",
    "\n",
    "print(cofactor)\n",
    "print(adjoint)"
   ]
  },
  {
   "cell_type": "code",
   "execution_count": 30,
   "id": "5093d39b",
   "metadata": {},
   "outputs": [
    {
     "name": "stdout",
     "output_type": "stream",
     "text": [
      "Matrix([[1, 0, 0, 0], [0, 1, 0, 0], [0, 0, 1, 0], [0, 0, 0, 1]])\n"
     ]
    }
   ],
   "source": [
    "#Cau2\n",
    "\n",
    "from sympy import *\n",
    "\n",
    "x, y, x1, y1, x2, y2, x3, y3 = symbols('x y x1 y1 x2 y2 x3 y3')\n",
    "\n",
    "M = Matrix([[x**2 + y**2, x, y, 1],\n",
    "            [x1**2 + y1**2, x1, y1, 1],\n",
    "            [x2**2 + y2**2, x2, y2, 1],\n",
    "            [x3**2 + y3**2, x3, y3, 1]])\n",
    "\n",
    "coeffs = M.rref()[0]\n",
    "\n",
    "print(coeffs)"
   ]
  }
 ],
 "metadata": {
  "kernelspec": {
   "display_name": "Python 3",
   "language": "python",
   "name": "python3"
  },
  "language_info": {
   "codemirror_mode": {
    "name": "ipython",
    "version": 3
   },
   "file_extension": ".py",
   "mimetype": "text/x-python",
   "name": "python",
   "nbconvert_exporter": "python",
   "pygments_lexer": "ipython3",
   "version": "3.11.0"
  }
 },
 "nbformat": 4,
 "nbformat_minor": 5
}
