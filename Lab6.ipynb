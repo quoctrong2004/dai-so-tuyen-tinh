{
 "cells": [
  {
   "cell_type": "markdown",
   "id": "3bf24004",
   "metadata": {},
   "source": [
    "## CHƯƠNG 6: CÁC KHÁI NIỆM: KHÔNG GIAN VECTOR, TÍCH TRONG VÀ TRỊ RIÊNG, VECTOR RIÊNG"
   ]
  },
  {
   "cell_type": "markdown",
   "id": "8035ddff",
   "metadata": {},
   "source": [
    "### 1.2 Tích vô hướng, trực giao và ứng dụng \n"
   ]
  },
  {
   "cell_type": "code",
   "execution_count": 1,
   "id": "a98a3a47",
   "metadata": {},
   "outputs": [
    {
     "name": "stdout",
     "output_type": "stream",
     "text": [
      "Tích vô hướng của a và b bằng np.inner: 32\n",
      "Tích vô hướng của c và d: -4\n",
      "Tích vô hướng thủ công của a và b: 32\n",
      "e và f có trực giao không? True\n",
      "Hình chiếu của a lên b: [1.66233766 2.07792208 2.49350649]\n"
     ]
    }
   ],
   "source": [
    "import numpy as np\n",
    "\n",
    "a = np.array([1, 2, 3])\n",
    "b = np.array([4, 5, 6])\n",
    "tich = np.inner(a, b)\n",
    "print(\"Tích vô hướng của a và b bằng np.inner:\", tich)\n",
    "\n",
    "\n",
    "c = np.array([0, -1, 2])\n",
    "d = np.array([3, 4, 0])\n",
    "tich_cd = np.inner(c, d)\n",
    "print(\"Tích vô hướng của c và d:\", tich_cd)\n",
    "\n",
    "def manual_inner_product(v1, v2):\n",
    "    if len(v1) != len(v2):\n",
    "        raise ValueError(\"Các vector phải có cùng chiều dài\")\n",
    "    return sum(x * y for x, y in zip(v1, v2))\n",
    "\n",
    "tich_manual = manual_inner_product(a, b)\n",
    "print(\"Tích vô hướng thủ công của a và b:\", tich_manual)\n",
    "\n",
    "def are_orthogonal(v1, v2):\n",
    "    return np.inner(v1, v2) == 0\n",
    "\n",
    "e = np.array([1, 0, 0])\n",
    "f = np.array([0, 1, 0])\n",
    "print(\"e và f có trực giao không?\", are_orthogonal(e, f))\n",
    "\n",
    "def project_vector(u, v):\n",
    "    return (np.inner(u, v) / np.inner(v, v)) * v\n",
    "\n",
    "proj_a_on_b = project_vector(a, b)\n",
    "print(\"Hình chiếu của a lên b:\", proj_a_on_b)"
   ]
  },
  {
   "cell_type": "code",
   "execution_count": 5,
   "id": "890daaf5",
   "metadata": {},
   "outputs": [
    {
     "name": "stdout",
     "output_type": "stream",
     "text": [
      "Kết quả của np.dot(a, b): 32\n",
      "Kết quả của np.inner(a, b): 32\n",
      "np.dot(a, b) và np.inner(a, b) có bằng nhau không? True\n",
      "Tích vô hướng của m và n bằng np.dot: 11\n",
      "Tích vô hướng của m và n bằng np.inner: 11\n",
      "Tích vô hướng của p và q (2x2) bằng np.inner: [[32 12]\n",
      " [15  6]]\n"
     ]
    }
   ],
   "source": [
    "import numpy as np\n",
    "\n",
    "a = np.array([1, 2, 3])\n",
    "b = np.array([4, 5, 6])\n",
    "\n",
    "dot_result = np.dot(a, b)\n",
    "print(\"Kết quả của np.dot(a, b):\", dot_result)\n",
    "\n",
    "inner_result = np.inner(a, b)\n",
    "print(\"Kết quả của np.inner(a, b):\", inner_result)\n",
    "\n",
    "print(\"np.dot(a, b) và np.inner(a, b) có bằng nhau không?\", np.allclose(dot_result, inner_result))\n",
    "\n",
    "m = np.array([1, 2])  \n",
    "n = np.array([3, 4])  \n",
    "p = np.array([[1, 2, 3], [1, 1, 1]]) \n",
    "q = np.array([[4, 5, 6], [2, 2, 2]])  \n",
    "\n",
    "dot_mn = np.dot(m, n)\n",
    "print(\"Tích vô hướng của m và n bằng np.dot:\", dot_mn)\n",
    "\n",
    "inner_mn = np.inner(m, n)\n",
    "print(\"Tích vô hướng của m và n bằng np.inner:\", inner_mn)\n",
    "\n",
    "inner_pq = np.inner(p, q)\n",
    "print(\"Tích vô hướng của p và q (2x2) bằng np.inner:\", inner_pq)"
   ]
  },
  {
   "cell_type": "code",
   "execution_count": 6,
   "id": "80e72b51",
   "metadata": {},
   "outputs": [
    {
     "name": "stdout",
     "output_type": "stream",
     "text": [
      "Chuẩn của vector a bằng np.linalg.norm: 3.7416573867739413\n",
      "Chuẩn của vector a tính thủ công: 3.7416573867739413\n",
      "Kết quả từ np.linalg.norm và tính thủ công có bằng nhau không? True\n"
     ]
    }
   ],
   "source": [
    "# Độ dài/chuẩn của vector: \n",
    "\n",
    "import numpy as np\n",
    "\n",
    "a = np.array([1, 2, -3])\n",
    "\n",
    "norm_a = np.linalg.norm(a)\n",
    "print(\"Chuẩn của vector a bằng np.linalg.norm:\", norm_a)\n",
    "\n",
    "manual_norm = np.sqrt(np.dot(a, a))\n",
    "print(\"Chuẩn của vector a tính thủ công:\", manual_norm)\n",
    "\n",
    "print(\"Kết quả từ np.linalg.norm và tính thủ công có bằng nhau không?\", np.allclose(norm_a, manual_norm))"
   ]
  },
  {
   "cell_type": "code",
   "execution_count": 7,
   "id": "b49cec42",
   "metadata": {},
   "outputs": [
    {
     "name": "stdout",
     "output_type": "stream",
     "text": [
      "Chuẩn L1 của vector a bằng np.linalg.norm: 6.0\n",
      "Chuẩn L1 của vector a tính thủ công: 6\n",
      "Kết quả từ np.linalg.norm và tính thủ công có bằng nhau không? True\n"
     ]
    }
   ],
   "source": [
    "import numpy as np\n",
    "\n",
    "a = np.array([1, 2, -3])\n",
    "\n",
    "norm_l1 = np.linalg.norm(a, 1)\n",
    "print(\"Chuẩn L1 của vector a bằng np.linalg.norm:\", norm_l1)\n",
    "\n",
    "manual_l1 = np.sum(np.abs(a))\n",
    "print(\"Chuẩn L1 của vector a tính thủ công:\", manual_l1)\n",
    "\n",
    "print(\"Kết quả từ np.linalg.norm và tính thủ công có bằng nhau không?\", np.allclose(norm_l1, manual_l1))"
   ]
  },
  {
   "cell_type": "code",
   "execution_count": 8,
   "id": "2b2a3d28",
   "metadata": {},
   "outputs": [
    {
     "name": "stdout",
     "output_type": "stream",
     "text": [
      "Chuẩn Lk của vector a với k = 2 là: 3.7416573867739413\n",
      "Chuẩn L2 bằng np.linalg.norm: 3.7416573867739413\n",
      "Kết quả từ hàm tự định nghĩa và np.linalg.norm có bằng nhau không? True\n"
     ]
    }
   ],
   "source": [
    "import math\n",
    "import numpy as np\n",
    "\n",
    "a = np.array([1, 2, -3])\n",
    "\n",
    "def chuann(v, k):\n",
    "    tong = 0\n",
    "    for i in range(len(v)):\n",
    "        tong = tong + abs(v[i])**k  \n",
    "    ketqua = math.pow(tong, 1.0/k)  \n",
    "    return ketqua\n",
    "\n",
    "k = 2\n",
    "result = chuann(a, k)\n",
    "print(\"Chuẩn Lk của vector a với k =\", k, \"là:\", result)\n",
    "\n",
    "norm_l2 = np.linalg.norm(a, 2)\n",
    "print(\"Chuẩn L2 bằng np.linalg.norm:\", norm_l2)\n",
    "print(\"Kết quả từ hàm tự định nghĩa và np.linalg.norm có bằng nhau không?\", np.allclose(result, norm_l2))"
   ]
  },
  {
   "cell_type": "code",
   "execution_count": 9,
   "id": "d12bbdd0",
   "metadata": {},
   "outputs": [
    {
     "name": "stdout",
     "output_type": "stream",
     "text": [
      "Chuẩn L1 của vector a: 6.0\n"
     ]
    }
   ],
   "source": [
    "import numpy as np\n",
    "\n",
    "a = np.array([1, 2, -3])\n",
    "\n",
    "norm_l1 = np.linalg.norm(a, 1)\n",
    "print(\"Chuẩn L1 của vector a:\", norm_l1)"
   ]
  },
  {
   "cell_type": "code",
   "execution_count": 10,
   "id": "2dae0b67",
   "metadata": {},
   "outputs": [
    {
     "name": "stdout",
     "output_type": "stream",
     "text": [
      "3.7416573867739413\n"
     ]
    }
   ],
   "source": [
    "import numpy as np\n",
    "\n",
    "a = np.array([1, 2, -3])\n",
    "\n",
    "chuann = np.linalg.norm(a, 2)\n",
    "print(chuann)"
   ]
  },
  {
   "cell_type": "code",
   "execution_count": 20,
   "id": "5971042d",
   "metadata": {},
   "outputs": [
    {
     "name": "stdout",
     "output_type": "stream",
     "text": [
      "3.7416573867739413\n",
      "3.3019272488946263\n"
     ]
    }
   ],
   "source": [
    "import numpy as np\n",
    "\n",
    "a = np.array([1, 2, -3])\n",
    "\n",
    "norm_l2 = np.linalg.norm(a, 2)\n",
    "print(norm_l2)\n",
    "\n",
    "chuann_l3 = np.linalg.norm(a, 3)\n",
    "print(chuann_l3)"
   ]
  },
  {
   "cell_type": "code",
   "execution_count": 13,
   "id": "95d9febd",
   "metadata": {},
   "outputs": [
    {
     "name": "stdout",
     "output_type": "stream",
     "text": [
      "3.3019272488946263\n"
     ]
    }
   ],
   "source": [
    "import numpy as np\n",
    "\n",
    "a = np.array([1, 2, -3])\n",
    "\n",
    "norm_l3 = np.linalg.norm(a, 3)\n",
    "print(norm_l3)"
   ]
  },
  {
   "cell_type": "code",
   "execution_count": 14,
   "id": "8b9152a7",
   "metadata": {},
   "outputs": [
    {
     "name": "stdout",
     "output_type": "stream",
     "text": [
      "inf\n"
     ]
    },
    {
     "name": "stderr",
     "output_type": "stream",
     "text": [
      "c:\\Users\\QUOC TRONG\\AppData\\Local\\Programs\\Python\\Python311\\Lib\\site-packages\\numpy\\linalg\\linalg.py:2590: RuntimeWarning: overflow encountered in power\n",
      "  absx **= ord\n"
     ]
    }
   ],
   "source": [
    "import numpy as np\n",
    "\n",
    "a = np.array([1, 2, -3])\n",
    "\n",
    "chuann = np.linalg.norm(a, 1000)\n",
    "print(chuann)"
   ]
  },
  {
   "cell_type": "code",
   "execution_count": 15,
   "id": "38c0e8fc",
   "metadata": {},
   "outputs": [
    {
     "name": "stdout",
     "output_type": "stream",
     "text": [
      "inf\n"
     ]
    }
   ],
   "source": [
    "import numpy as np\n",
    "\n",
    "a = np.array([1, 2, -3])\n",
    "\n",
    "norm_1000 = np.linalg.norm(a, 1000)\n",
    "print(norm_1000)"
   ]
  },
  {
   "cell_type": "code",
   "execution_count": 16,
   "id": "53fb79a9",
   "metadata": {},
   "outputs": [
    {
     "name": "stdout",
     "output_type": "stream",
     "text": [
      "3.7416573867739413\n"
     ]
    }
   ],
   "source": [
    "from scipy import linalg\n",
    "\n",
    "a = [1, 2, -3]\n",
    "\n",
    "norm_a = linalg.norm(a)\n",
    "print(norm_a)"
   ]
  },
  {
   "cell_type": "code",
   "execution_count": 17,
   "id": "d58a3273",
   "metadata": {},
   "outputs": [
    {
     "name": "stdout",
     "output_type": "stream",
     "text": [
      "3.0\n"
     ]
    }
   ],
   "source": [
    "from scipy import linalg\n",
    "\n",
    "a = [1, 2, -3]\n",
    "\n",
    "norm_a = linalg.norm(a, 100)\n",
    "print(norm_a)"
   ]
  },
  {
   "cell_type": "code",
   "execution_count": 18,
   "id": "a2d5f70d",
   "metadata": {},
   "outputs": [
    {
     "name": "stdout",
     "output_type": "stream",
     "text": [
      "inf\n"
     ]
    },
    {
     "name": "stderr",
     "output_type": "stream",
     "text": [
      "c:\\Users\\QUOC TRONG\\AppData\\Local\\Programs\\Python\\Python311\\Lib\\site-packages\\numpy\\linalg\\linalg.py:2590: RuntimeWarning: overflow encountered in power\n",
      "  absx **= ord\n"
     ]
    }
   ],
   "source": [
    "from scipy import linalg\n",
    "\n",
    "a = [1, 2, -3]\n",
    "\n",
    "norm_a = linalg.norm(a, 1000)\n",
    "print(norm_a)"
   ]
  },
  {
   "cell_type": "markdown",
   "id": "0c01b312",
   "metadata": {},
   "source": [
    "### 2. Đọc thêm: Tổ hợp tuyến tính, Tổ hợp tuyến tính (linear combination)"
   ]
  },
  {
   "cell_type": "code",
   "execution_count": 19,
   "id": "8c4fe464",
   "metadata": {},
   "outputs": [
    {
     "name": "stdout",
     "output_type": "stream",
     "text": [
      "[[ 5 -4  3]\n",
      " [ 4  3 -2]\n",
      " [-4 -3 -1]\n",
      " [-9  8  6]]\n",
      "[[ 5  4 -4 -9]\n",
      " [-4  3 -3  8]\n",
      " [ 3 -2 -1  6]]\n"
     ]
    }
   ],
   "source": [
    "import numpy as np\n",
    "\n",
    "m = 10\n",
    "v1 = np.array([5, -4, 3])\n",
    "v2 = np.array([4, 3, -2])\n",
    "v3 = np.array([-4, -3, -1])\n",
    "v4 = np.array([-9, 8, 6])\n",
    "mi = np.array([2, 5, 2, 1])\n",
    "M = np.array([v1, v2, v3, v4])\n",
    "MT = M.transpose()\n",
    "\n",
    "print(M)\n",
    "print(MT)"
   ]
  },
  {
   "cell_type": "code",
   "execution_count": 21,
   "id": "62fd2462",
   "metadata": {},
   "outputs": [
    {
     "name": "stdout",
     "output_type": "stream",
     "text": [
      "[1.3 0.9 0. ]\n"
     ]
    }
   ],
   "source": [
    "import numpy as np\n",
    "\n",
    "m = 10\n",
    "v1 = np.array([5, -4, 3])\n",
    "v2 = np.array([4, 3, -2])\n",
    "v3 = np.array([-4, -3, -1])\n",
    "v4 = np.array([-9, 8, 6])\n",
    "mi = np.array([2, 5, 2, 1])\n",
    "M = np.array([v1, v2, v3, v4])\n",
    "MT = M.transpose()\n",
    "\n",
    "v = (1.0/m) * MT.dot(mi)\n",
    "print(v)"
   ]
  },
  {
   "cell_type": "markdown",
   "id": "413c5fd5",
   "metadata": {},
   "source": [
    "### 3. Tri riêng, vector riêng của ma trận và ứng dụng \n",
    "\n",
    "### 3.1.Bài toán dẫn nhập "
   ]
  },
  {
   "cell_type": "code",
   "execution_count": 23,
   "id": "a6a47553",
   "metadata": {},
   "outputs": [
    {
     "name": "stdout",
     "output_type": "stream",
     "text": [
      "[0.98550723 0.01449277]\n"
     ]
    }
   ],
   "source": [
    "import numpy as np\n",
    "\n",
    "A = np.array([[0.998, 0.136], [0.002, 0.864]])\n",
    "x0 = np.array([0.95, 0.05])\n",
    "\n",
    "x100 = x0\n",
    "for _ in range(100):\n",
    "    x100 = A.dot(x100)\n",
    "\n",
    "print(x100)"
   ]
  },
  {
   "cell_type": "code",
   "execution_count": 24,
   "id": "24413f99",
   "metadata": {},
   "outputs": [
    {
     "name": "stdout",
     "output_type": "stream",
     "text": [
      "[0.95 0.05]\n"
     ]
    }
   ],
   "source": [
    "import numpy as np\n",
    "\n",
    "# Khai báo vector v0\n",
    "v0 = np.array([0.95, 0.05])\n",
    "\n",
    "print(v0)"
   ]
  },
  {
   "cell_type": "code",
   "execution_count": 25,
   "id": "6c66f4a7",
   "metadata": {},
   "outputs": [
    {
     "name": "stdout",
     "output_type": "stream",
     "text": [
      "[0.98550723 0.01449277]\n"
     ]
    }
   ],
   "source": [
    "import numpy as np\n",
    "from numpy import linalg\n",
    "\n",
    "A = np.array([[0.998, 0.136], [0.002, 0.864]])\n",
    "v0 = np.array([0.95, 0.05])\n",
    "\n",
    "A_power_100 = linalg.matrix_power(A, 100)\n",
    "\n",
    "y = A_power_100.dot(v0)\n",
    "print(y)"
   ]
  },
  {
   "cell_type": "code",
   "execution_count": 26,
   "id": "d8beb579",
   "metadata": {},
   "outputs": [
    {
     "name": "stdout",
     "output_type": "stream",
     "text": [
      "Trạng thái sau 100 tuần:\n",
      "x100 (có việc): 0.985507\n",
      "y100 (thất nghiệp): 0.014493\n"
     ]
    }
   ],
   "source": [
    "import numpy as np\n",
    "\n",
    "A = np.array([[0.998, 0.136], \n",
    "              [0.002, 0.864]])\n",
    "v0 = np.array([0.95, 0.05])\n",
    "\n",
    "A_power = np.linalg.matrix_power(A, 100)\n",
    "\n",
    "v100 = A_power @ v0\n",
    "\n",
    "print(\"Trạng thái sau 100 tuần:\")\n",
    "print(f\"x100 (có việc): {v100[0]:.6f}\")\n",
    "print(f\"y100 (thất nghiệp): {v100[1]:.6f}\")"
   ]
  },
  {
   "cell_type": "code",
   "execution_count": 27,
   "id": "19b1a23b",
   "metadata": {},
   "outputs": [
    {
     "name": "stdout",
     "output_type": "stream",
     "text": [
      "Trạng thái cân bằng:\n",
      "x = 0.985507 (tỉ lệ có việc làm)\n",
      "y = 0.014493 (tỉ lệ thất nghiệp)\n"
     ]
    }
   ],
   "source": [
    "import numpy as np\n",
    "\n",
    "A = np.array([[0.998, 0.136],\n",
    "              [0.002, 0.864]])\n",
    "\n",
    "\n",
    "coefficients = np.array([\n",
    "    [-0.002, 0.136], \n",
    "    [1, 1]         \n",
    "])\n",
    "\n",
    "constants = np.array([0, 1])\n",
    "\n",
    "v_equilibrium = np.linalg.solve(coefficients, constants)\n",
    "\n",
    "print(\"Trạng thái cân bằng:\")\n",
    "print(f\"x = {v_equilibrium[0]:.6f} (tỉ lệ có việc làm)\")\n",
    "print(f\"y = {v_equilibrium[1]:.6f} (tỉ lệ thất nghiệp)\")"
   ]
  },
  {
   "cell_type": "code",
   "execution_count": 30,
   "id": "65a88006",
   "metadata": {},
   "outputs": [
    {
     "name": "stdout",
     "output_type": "stream",
     "text": [
      "⎧   68         ⎫\n",
      "⎨x: ──, y: 1/69⎬\n",
      "⎩   69         ⎭\n"
     ]
    }
   ],
   "source": [
    "import sympy as sym\n",
    "\n",
    "x, y = sym.symbols('x y')\n",
    "\n",
    "xy = sym.Matrix([x, y])\n",
    "\n",
    "A = sym.Matrix([\n",
    "    [1, -68],  \n",
    "    [1, 1]     \n",
    "])\n",
    "\n",
    "v = sym.Matrix([0, 1])\n",
    "\n",
    "nghiem = sym.solve(A*xy - v, (x, y))\n",
    "\n",
    "print(sym.pretty(nghiem))"
   ]
  },
  {
   "cell_type": "markdown",
   "id": "0c835d11",
   "metadata": {},
   "source": [
    "### 3.2 Trị riêng và vector riêng của ma trận \n"
   ]
  },
  {
   "cell_type": "code",
   "execution_count": 31,
   "id": "15342964",
   "metadata": {},
   "outputs": [
    {
     "name": "stdout",
     "output_type": "stream",
     "text": [
      "Kiểm tra bằng SymPy:\n",
      "True\n"
     ]
    }
   ],
   "source": [
    "import sympy as sym\n",
    "\n",
    "A = sym.Matrix([[1, 6],\n",
    "                [5, 2]])\n",
    "u = sym.Matrix([6, -5])\n",
    "lambda_ = -4\n",
    "\n",
    "print(\"Kiểm tra bằng SymPy:\")\n",
    "print(A*u == lambda_*u) "
   ]
  },
  {
   "cell_type": "code",
   "execution_count": 32,
   "id": "2485e471",
   "metadata": {},
   "outputs": [
    {
     "name": "stdout",
     "output_type": "stream",
     "text": [
      "u LÀ vector riêng của A ứng với λ = -4\n",
      "A*u = [-24  20]\n",
      "λ*u = [-24  20]\n"
     ]
    }
   ],
   "source": [
    "import numpy as np\n",
    "\n",
    "A = np.array([[1, 6],\n",
    "              [5, 2]])  \n",
    "u = np.array([6, -5])  \n",
    "lambda_ = -4           \n",
    "\n",
    "if np.allclose(A.dot(u), lambda_ * u):\n",
    "    print(\"u LÀ vector riêng của A ứng với λ = -4\")\n",
    "    print(\"A*u =\", A.dot(u))\n",
    "    print(\"λ*u =\", lambda_ * u)\n",
    "else:\n",
    "    print(\"u KHÔNG phải vector riêng ứng với λ = -4\")"
   ]
  },
  {
   "cell_type": "code",
   "execution_count": 33,
   "id": "dae0a55a",
   "metadata": {},
   "outputs": [
    {
     "name": "stdout",
     "output_type": "stream",
     "text": [
      "Chứng minh bằng SymPy:\n",
      "A*u = Matrix([[-24], [20]])\n",
      "-4u = Matrix([[-24], [20]])\n",
      "Kết luận: True\n"
     ]
    }
   ],
   "source": [
    "import sympy as sym\n",
    "\n",
    "A = sym.Matrix([[1, 6],\n",
    "                [5, 2]])\n",
    "u = sym.Matrix([6, -5])\n",
    "\n",
    "print(\"Chứng minh bằng SymPy:\")\n",
    "print(\"A*u =\", A*u)\n",
    "print(\"-4u =\", -4*u)\n",
    "print(\"Kết luận:\", A*u == -4*u)"
   ]
  },
  {
   "cell_type": "code",
   "execution_count": 34,
   "id": "10e947b0",
   "metadata": {},
   "outputs": [
    {
     "name": "stdout",
     "output_type": "stream",
     "text": [
      "[-7.000, 3.000]\n"
     ]
    }
   ],
   "source": [
    "import sympy as sym\n",
    "\n",
    "x, y, Lambda = sym.symbols('x y Lambda')\n",
    "\n",
    "I = sym.eye(2)\n",
    "\n",
    "A = sym.Matrix([[2, 3],\n",
    "                [3, -6]])\n",
    "\n",
    "phuongtrinh = sym.Eq((Lambda*I - A).det(), 0)\n",
    "\n",
    "nghiem = sym.solve(phuongtrinh, Lambda)\n",
    "\n",
    "print([sym.N(phantu, 4) for phantu in nghiem])"
   ]
  },
  {
   "cell_type": "code",
   "execution_count": 35,
   "id": "86abaf26",
   "metadata": {},
   "outputs": [
    {
     "name": "stdout",
     "output_type": "stream",
     "text": [
      "{-7: 1, 3: 1}\n"
     ]
    }
   ],
   "source": [
    "import sympy as sym\n",
    "\n",
    "A = sym.Matrix([[2, 3],\n",
    "                [3, -6]])\n",
    "\n",
    "nghiem = A.eigenvals()\n",
    "\n",
    "print(sym.pretty(nghiem))"
   ]
  },
  {
   "cell_type": "code",
   "execution_count": 36,
   "id": "38ebe319",
   "metadata": {},
   "outputs": [
    {
     "name": "stdout",
     "output_type": "stream",
     "text": [
      "Các vector riêng ứng với z = 3 :\n",
      "⎡⎡3⎤⎤\n",
      "⎢⎢ ⎥⎥\n",
      "⎣⎣1⎦⎦\n"
     ]
    }
   ],
   "source": [
    "import sympy as sym\n",
    "\n",
    "A = sym.Matrix([[2, 3],\n",
    "                [3, -6]])\n",
    "z = 3\n",
    "\n",
    "A_minus_zI = A - z * sym.eye(2)\n",
    "\n",
    "vector_rieng = A_minus_zI.nullspace()\n",
    "\n",
    "print(\"Các vector riêng ứng với z =\", z, \":\")\n",
    "sym.pprint(vector_rieng)"
   ]
  },
  {
   "cell_type": "code",
   "execution_count": 37,
   "id": "10e7dd4d",
   "metadata": {},
   "outputs": [
    {
     "name": "stdout",
     "output_type": "stream",
     "text": [
      "Ma trận nghịch đảo P^(-1):\n",
      "[[-0.3  0.9]\n",
      " [ 0.3  0.1]]\n",
      "\n",
      "Kiểm tra A = P*D*P^(-1):\n",
      "True\n",
      "\n",
      "Kiểm tra AP = PD:\n",
      "AP = [[ 2.33333333  9.        ]\n",
      " [-7.          3.        ]]\n",
      "PD = [[ 2.33333333  9.        ]\n",
      " [-7.          3.        ]]\n",
      "AP có bằng PD không? True\n"
     ]
    }
   ],
   "source": [
    "import numpy as np\n",
    "from numpy import linalg as LA\n",
    "\n",
    "A = np.array([[2, 3], [3, -6]])\n",
    "D = np.array([[-7, 0], [0, 3]])\n",
    "P = np.array([[-1.0/3, 3], [1, 1]])\n",
    "\n",
    "P_inv = LA.inv(P)\n",
    "\n",
    "print(\"Ma trận nghịch đảo P^(-1):\")\n",
    "print(P_inv)\n",
    "\n",
    "print(\"\\nKiểm tra A = P*D*P^(-1):\")\n",
    "print(np.allclose(A, P @ D @ P_inv))\n",
    "\n",
    "print(\"\\nKiểm tra AP = PD:\")\n",
    "print(\"AP =\", A @ P)\n",
    "print(\"PD =\", P @ D)\n",
    "print(\"AP có bằng PD không?\", np.allclose(A @ P, P @ D))"
   ]
  },
  {
   "cell_type": "code",
   "execution_count": 38,
   "id": "29a6ba80",
   "metadata": {},
   "outputs": [
    {
     "name": "stdout",
     "output_type": "stream",
     "text": [
      "Ma trận A^1000:\n",
      "[[-6.25396533e+08 -3.52488701e+08]\n",
      " [-3.52488701e+08  3.14573335e+08]]\n"
     ]
    }
   ],
   "source": [
    "import numpy as np\n",
    "from numpy import linalg as LA\n",
    "\n",
    "A = np.array([[2, 3], [3, -6]])\n",
    "D = np.array([[-7, 0], [0, 3]])\n",
    "P = np.array([[-1/3, 3], [1, 1]])\n",
    "\n",
    "P_inv = LA.inv(P)\n",
    "\n",
    "D_power_1000 = np.linalg.matrix_power(D, 1000)\n",
    "\n",
    "A_power_1000 = P @ D_power_1000 @ P_inv\n",
    "\n",
    "print(\"Ma trận A^1000:\")\n",
    "print(A_power_1000)"
   ]
  },
  {
   "cell_type": "code",
   "execution_count": 39,
   "id": "274c74ab",
   "metadata": {},
   "outputs": [
    {
     "name": "stdout",
     "output_type": "stream",
     "text": [
      "Ma trận D^2:\n",
      "[[49  0]\n",
      " [ 0  9]]\n"
     ]
    }
   ],
   "source": [
    "import numpy as np\n",
    "\n",
    "D = np.array([[-7, 0],\n",
    "              [0, 3]])\n",
    "\n",
    "D_squared = D ** 2\n",
    "\n",
    "print(\"Ma trận D^2:\")\n",
    "print(D_squared)"
   ]
  },
  {
   "cell_type": "markdown",
   "id": "892ce62b",
   "metadata": {},
   "source": [
    "## BÀI TẬP CHƯƠNG 6 "
   ]
  },
  {
   "cell_type": "markdown",
   "id": "928fbfd0",
   "metadata": {},
   "source": [
    "### Câu 2: Sinh viên hãy viết các chương trình tính toán theo các công thức:"
   ]
  },
  {
   "cell_type": "code",
   "execution_count": 40,
   "id": "73945c26",
   "metadata": {},
   "outputs": [
    {
     "name": "stdout",
     "output_type": "stream",
     "text": [
      "Khoảng cách giữa u và v: 5.196152422706632\n"
     ]
    }
   ],
   "source": [
    "import numpy as np\n",
    "\n",
    "def distance_between_vectors(u, v):\n",
    "    \"\"\"Tính khoảng cách Euclid giữa 2 vector u và v\"\"\"\n",
    "    return np.linalg.norm(u - v)\n",
    "\n",
    "u = np.array([1, 2, 3])\n",
    "v = np.array([4, 5, 6])\n",
    "print(\"Khoảng cách giữa u và v:\", distance_between_vectors(u, v))"
   ]
  },
  {
   "cell_type": "code",
   "execution_count": 41,
   "id": "f9a1bacd",
   "metadata": {},
   "outputs": [
    {
     "name": "stdout",
     "output_type": "stream",
     "text": [
      "Góc giữa u và v (radian): 1.5707963267948966\n",
      "Góc giữa u và v (độ): 90.0\n"
     ]
    }
   ],
   "source": [
    "import numpy as np\n",
    "\n",
    "def angle_between_vectors(u, v):\n",
    "    cos_theta = np.dot(u, v) / (np.linalg.norm(u) * np.linalg.norm(v))\n",
    "    return np.arccos(np.clip(cos_theta, -1.0, 1.0))  # Clip để tránh sai số số học\n",
    "\n",
    "u = np.array([1, 0])\n",
    "v = np.array([0, 1])\n",
    "theta = angle_between_vectors(u, v)\n",
    "print(\"Góc giữa u và v (radian):\", theta)\n",
    "print(\"Góc giữa u và v (độ):\", np.degrees(theta))"
   ]
  },
  {
   "cell_type": "code",
   "execution_count": 42,
   "id": "d8716cc2",
   "metadata": {},
   "outputs": [
    {
     "name": "stdout",
     "output_type": "stream",
     "text": [
      "Phép chiếu của u lên v: [1. 0.]\n"
     ]
    }
   ],
   "source": [
    "import numpy as np\n",
    "\n",
    "def vector_projection(u, v):\n",
    "    return (np.dot(u, v) / np.dot(v, v)) * v\n",
    "\n",
    "u = np.array([1, 2])\n",
    "v = np.array([3, 0])\n",
    "p = vector_projection(u, v)\n",
    "print(\"Phép chiếu của u lên v:\", p)"
   ]
  }
 ],
 "metadata": {
  "kernelspec": {
   "display_name": "Python 3",
   "language": "python",
   "name": "python3"
  },
  "language_info": {
   "codemirror_mode": {
    "name": "ipython",
    "version": 3
   },
   "file_extension": ".py",
   "mimetype": "text/x-python",
   "name": "python",
   "nbconvert_exporter": "python",
   "pygments_lexer": "ipython3",
   "version": "3.11.0"
  }
 },
 "nbformat": 4,
 "nbformat_minor": 5
}
